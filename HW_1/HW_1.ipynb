{
 "cells": [
  {
   "cell_type": "markdown",
   "metadata": {
    "id": "oi1IyTuHn5UB"
   },
   "source": [
    "# Домашнее задание 1\n",
    "\n",
    "\n",
    "### Вариант 2\n",
    "\n",
    "Присылайте ссылку на репозиторий на github с получившимся корпусом (ссылкой на получившийся корпус) и с тетрадкой .ipynb с кодом и с комментариями\n",
    "\n",
    "1.  \\[2 балла\\] \n",
    "Выберите экспрессив и покажите, что это действительно экспрессив. Какой профиль Вы можете предположить для приведенного экспрессива -- U-образный, J-образный, перевернутое U или что-то другое? Какие примеры подкрепляют Ваше предположение?\n",
    "\n",
    "2.  \\[2 балла\\]\n",
    "Создайте корпус с контекстами, содержащими Ваш экспрессив, и с разметкой, например, от 1 до 5 звездочек. Разметка по экспрессивности может быть и другой, но хорошо иметь не меньше трёх уровней разметки. Ваш корпус может быть подкорпусом существующего датасета. \n",
    "\n",
    "3.  \\[2 балла\\]\n",
    "Создайте профиль экспрессива по формуле из работы [Constant et al. 2009](https://www.google.com/url?sa=t&rct=j&q=&esrc=s&source=web&cd=&ved=2ahUKEwitxty0p5_zAhVLx4sKHcomDaQQFnoECAQQAQ&url=https%3A%2F%2Fweb.stanford.edu%2F~cgpotts%2Fpapers%2Fconstant-davis-potts-schwarz-expressives.pdf&usg=AOvVaw3QUEeV5U8r1FKhWne43xn3). \n",
    "\n",
    "4.  \\[1 балл\\]\n",
    "Подберите для данных регрессионную модель. Прокомментируйте.\n",
    "\n",
    "5.  \\[3 балла\\]\n",
    "Какой профиль получился -- U-образный, J-образный, перевернутое U или что-то другое? Проиллюстрируйте распределение примерами. Подтвердилась ли изначальная гипотеза? Есть ли среди корпусных данных неожиданные и интересные случаи?\n",
    "\n",
    "**Дедлайн: 11 октября 23:59**"
   ]
  },
  {
   "cell_type": "markdown",
   "metadata": {
    "id": "GNfEqX_LoN7w"
   },
   "source": [
    "## Выбор экспрессива"
   ]
  },
  {
   "cell_type": "markdown",
   "metadata": {
    "id": "u9ASbCjeUl-e"
   },
   "source": [
    "Возьмем слово ***trash***. \n",
    "\n",
    "В том смысле, в котором мы ождиаем, что оно будет являться экспрессивом, слово является сленговым. Согласно Collins Disctionary trash => If you say that something such as a book, painting, or film is trash, you mean that it is of very poor quality.\n",
    "\n",
    "Корпус, который мы взяли соедржит ревью к digital music. Тексты, которые направлены на творческую деятельность (кино, книги, музыка и т.д.), могут получать достаточно эмоциоанальные комментарии, как негативные, так и позитивные. Выбранное слово кажется как раз подходящим для описания такого направления, как диджитал музыка: люди могут считать песню/альбом ужасным и называть это трешем в значении \"мусор/ужас/кошмар\" и т.д.(хочется ожидать этого в большем количестве случаев) "
   ]
  },
  {
   "cell_type": "markdown",
   "metadata": {
    "id": "7NBfrAj-oZoL"
   },
   "source": [
    "\n",
    "### Полярность\n",
    "\n",
    "Ожидаем, что полярность у слова отрицательная, так как слово используется (согласно словарю и личным наблюдениям) в подавляющем большинстве в негативных контекстах.\n",
    "\n",
    "*   Посмотрим на отрицательные и положительные контексты (хотим для начала посмотреть, где это может вообще функционировать)\n",
    "\n",
    "    *`He didn't write that trash!`*\n",
    "\n",
    "    *`? He wrote that trash!`*\n",
    "\n",
    "    Выбранное слово функционирует и с отрицанием, и без него. (второе предложение кажется мне немного \"кривым\", тем не менее, я допускаю его существование). Оба этих предложения показывают, что треш - описание объекта не в положительном ключе вне зависимости от наличия отрицания. (а с отрицанием описание \"плохости\" работы как будто усиливается) Описано это (объект) с пренебрежением и недовольством.\n",
    "\n",
    "*   Теперь по аналогии со статьей посмотрим на контексты, из которых нельзя вычислить эмоциональную полярность для слова, оно само будет делать контекст отрицательным.\n",
    "\n",
    "    *`This album is trash.`*\n",
    "\n",
    "    *`What a trash song!`*\n",
    "\n",
    "    *`His new song contains trash lyrics.`*\n",
    "\n",
    "  Как мы видим, ни один пример тут не содержит модификатора негативности (как для Hammer из статьи), поэтому мы может видеть, какую эмоциональную полярность приобретает наше слово => негативную.  (я хотела бы отдельно отметить 2 предложение: в такой формулировке есть очень небольшая вероятность, что треш может быть как жесткая/тяжелая песня, которая окаршена чуть более положительно, чем отрицательно, но, как мне кажется, такая интепретация нечастотная ).\n",
    "\n",
    "Допустим, мы представили, что слово преобразовывает контексты в контексты с \"отрицательным\" окрасом. Тем не менее, не исключаем возможности появления его и в положительных. Проверим:\n",
    "\n",
    "\n",
    "  *`??? Trash, how beautiful you are.`*\n",
    "\n",
    "  *`? His new melody contains trash beats.`* (в значении мощные/тяжелые)\n",
    "\n",
    "  *` * This music is trash perfect. `* (такие примеры нам не особо нужны, так как тут акцент будет на \"perfect\", но посмотрим, ок такой пример или нет)\n",
    "  \n",
    "  Такие предложения плохи. Даже если мы хотим использовать слово как акцент типа gosh/damn/fuck (особенно последне слово), мы не получим положительного результата. Единственным исключением здесь я бы назвала 2 предложение, где под \"трешовыми\" битами могут подразумеваться ооооооооооочень тяежлые нетривиальные биты (но это под сомнением).\n",
    "  \n",
    "Таким образом, мы понимаем, что слово употребляется в в контекстах, где нужно подчеркнуть \"плохость\" какого-то явления/объекта. На этом основании хотим считать, что полярность слова - негативная (в намного большей степени, чем может быть позитивная, хотя мы не исключаем полностью положительную, так как примеры типа \"трешовый бит\" не в значении \"плохой\" вполне могут быть).\n",
    "\n",
    "\n",
    "\n",
    "\n",
    "\n",
    "\n",
    "\n",
    "\n",
    "\n",
    "---\n"
   ]
  },
  {
   "cell_type": "markdown",
   "metadata": {
    "id": "sJ7CnP7aEMqB"
   },
   "source": [
    "### Интенсивность \n",
    "\n",
    "Во-первых, посмотрим на предложение, куда поместим экспрессив и посмотрим, есть ли разница между ним и его условным синонимом.\n",
    "\n",
    "  `This album is bad.` --  `This album is trash.`\n",
    "\n",
    "  `? This song has heavy rythmn.` --  `This song has trash rythmn.` (мне кажется, не самый лучший пример, однако, я думаю, так можно сказать, вслед за предыдщими размышлениями)\n",
    "\n",
    "Происходит усиление значения.\n",
    "\n",
    "Во-вторых, посмотрим на тональность текста и экспрессива: принимает ли экспрессив тональность комментария.\n",
    "\n",
    "`All the albums of this band were bad and this one too.` --  `All the albums of this band were bad and this is a trash too.` (экспрессив с негативным окрасом, то есть сам комментарий отрицательный, и тональность экспрессива такая же)\n",
    "\n",
    "  `? All the albums of this band were perfectly heavy to enjoy and this one too.` --  `? All the albums of this band were perfectly heavy to enjoy and this trash too.` (относитльно такого контекста я, как говорила ранее, не уверена, так как это супер-спорные вещи. Однако, тут треш - тяжесть музыки и это может помочь продемонстрировать, что тональность экспрессива такая же положительная, как и у комментария)\n",
    "\n",
    "Видно, что экспрессия о последнем альбоме усиливется."
   ]
  },
  {
   "cell_type": "markdown",
   "metadata": {
    "id": "CqzN4kr8aNgD"
   },
   "source": [
    "### Characteristics of expressive content\n",
    "\n",
    "\n",
    "Из статьи [The expressive dimension*](https://ling.yale.edu/sites/default/files/files/horn/Potts2007_ExpressiveDimension.pdf)\n",
    "\n",
    "Characteristics of expressive content and seek to show\n",
    "that they flow from a common source:\n",
    "1. Independence: выразительное содержание вносит вклад в измерение значения, которое отделено от обычного описательного содержания.\n",
    "\n",
    "   *`Trash album \"Freedom\" is famous.`*\n",
    "\n",
    "   Descriptive: *`Album \"Freedom\" is famous.`*\n",
    "\n",
    "   Expressive: *`Album \"Freedom\" is {trash/bad in the speaker’s opinion}.`*\n",
    "\n",
    "  Таким образом, слово \"окаршивает\" текст так, что он начинает передавать смысл не только о факте известности, но и о том, что в картине мира говорящего альбом является трешовым.\n",
    "\n",
    "2. Nondisplaceability: экспрессивы предикатируют что-то из ситуации высказывания. Выразительные средства не могут использоваться для описания прошлых событий, отношений или эмоций, а также не могут выражать простые возможности, догадки или предположения. Они всегда говорят нам что-то о самой ситуации высказывания \n",
    "\n",
    "  *`Trash album \"Freedom\" is played on the radio.`*  (альбом плохой/трешовый сейчас,  * альбом хороший)\n",
    "\n",
    "  *`Maybe that trash album \"Freedom\" will be played on the radio again.`* (* и тогда, может быть, он не будет трешовым) \n",
    "\n",
    "  *`New song is really trash `* (песня кошмарная именно сейчас)\n",
    "\n",
    "  Таким образом, мы видим, что в конкретной ситуации высказывания говорящие считают, что что-то - плохое.\n",
    "\n",
    "3. Perspective dependence: выразительное содержание оценивается с определенной точки зрения. В целом, точка зрения принадлежит говорящему, но при благоприятных условиях могут быть отклонения.\n",
    "\n",
    "  *`Trash album \"Freedom\" is played on the radio.`* (оценка с точки зрения говорящего)\n",
    "\n",
    "  *`My friend screamed that he would never let me listen to this trash music.`*  (Друг - не только судьей, определяющим отношение и деонтическую позицию, но и контекстуальный судья - все очень плохо для него)\n",
    "\n",
    "  Оценка идет с определенной точки зрения.\n",
    "\n",
    "4. Descriptive ineffability:  говорящие никогда не бывают полностью удовлетворены, когда они перефразируют выразительное содержание, используя описательные, т.е. невыразительные, термины\n",
    "\n",
    "  *`I can't listen to this, trash!`* \n",
    "\n",
    "  *`This song? Trash!`*\n",
    "\n",
    "  *`I can't more listen to this trash!`*\n",
    "\n",
    "  Ни в одном случае мы не сможем заменить наше слово другим описательным, это могут быть такие же экспрессивы (fuck/damn etc).\n",
    "\n",
    "5. Immediacy: подобно перформативам, экспрессивы достигают намеченного действия простым произнесением; они не столько предлагают содержание, сколько навязывают его.\n",
    "\n",
    "  *`That thrash band, they released a new album yesterday.`* (* но сейчас со своими альбомами эта группа не треш, то есть, если они выпустят еще один альбом сейчас, трешем они быть не перестанут)\n",
    "\n",
    "  Принцип выполняется, так как понятие треша используется прямо.\n",
    "\n",
    "6. Repeatability: Если говорящий неоднократно использует выразительный элемент, эффект, как правило, заключается в усилении эмоционального содержания, а не в избыточности.\n",
    "\n",
    "  *`Trash!  These new songs of this trash band are so trash!`* \n",
    "\n",
    "  Эффект кошмара усиливается.\n",
    "\n",
    "\n",
    "---\n",
    "\n",
    "**Так, считаем, что trash - экспрессив**"
   ]
  },
  {
   "cell_type": "markdown",
   "metadata": {
    "id": "yL3u63slwzUq"
   },
   "source": [
    "Также мне хотелось бы подумать о том, какой это экспрессив (несет он только дискриптивное значение или кроме этого еще и описательное). Это может быть важно для того, чтобы анализировать в дальнейшем корпус.\n",
    "\n",
    "Во-первых, мы точно уверены, что слово несет в себе экспрессивность. Такие контексты не несут в себе описательного значения: альбом мусорный (состоящий из мусора), поэтому я эмоционально отношусь к нему как к мусорному (мерзко/неприятно)\n",
    " \n",
    "`Trash album \"Freedom\" is trash!`\n",
    "\n",
    "Тем не менее, существует вопрос, который я развивала выше: как мы должны относиться к теоретически возможным положительным контексам? \n",
    "\n",
    "`? His new melody contains trash beats.`\n",
    "\n",
    "Тут тоже самое - треш это не про описание устройства объекта/ситуации, а про экспрессию от говорящего-судьи.\n",
    "\n",
    "Хотя, я предполагаю, что могут быть контексты, где треш заменяет какое-то событие целиком. Денотат события можно восстановить из контекста. Однако, стоит ли нам считать, что экспессив будет включать в себя элементы описания события не очень ясно.\n",
    "\n",
    "`The album  trash!`\n",
    "\n",
    "---\n",
    "\n",
    "Проблема \"положительности\" полярности тут тоже очень сложна. Как стоит нам относится к описанному выше контексту? Он не вполне положителен, но и не отрицателен. Возможно, тут важно отметить, что это одна из проблем sentiment анализа и определения бинарной полярности недостаточно. (как решить эту проблему не очень понятно)\n",
    "\n"
   ]
  },
  {
   "cell_type": "markdown",
   "metadata": {
    "id": "ZRRLISDwbcXj"
   },
   "source": [
    "### Какой может быть профиль?\n",
    "\n",
    "Мне хотелось бы считать, что данный экспрессив нечастотен в нейтральных контекстах, но точно высок в отрицательных. Однако, как я писала выше, чисто теоретически, мы могли бы встретить экспрессив в положительных ревью (но нам важно, чтобы это было интесивно) - 5 категория. Есть вероятность, что люди могут назвать группу трешовой, но смысл будет не \"ужасно\", а \"сильно/мощно/жестко\". Однако, я думаю, что такие случаи - редкость. + если мы считаем редкостью случаи с ярким эмоциональным положительным окрасом, то контексты позитивнее нейтральных будут еще более редкими.\n",
    "\n",
    "Сам экспрессив может встречаться только в очень эмоциональных контекстах (+высокая интесивность). \n",
    "\n",
    "Таким образом, я считаю, что профиль экспрессив - **j-reverse** (как \"worst\" в одном из примеров). То есть, 1-2 - высокая экспрессия, 3 - нейтральное, встречается нечасто для контекстов, 4 - возможно, самое редкое, так как нет настроенности на экспрессию и 5 - либо на уровне с 3, либо чуть ниже за счет возможной восторженности. (также, я могла бы предполагать, если полностью игнорировать возможные случаи позитивной полярности, что тут подошла бы хорошо вообще линенейная регрессия)"
   ]
  },
  {
   "cell_type": "markdown",
   "metadata": {
    "id": "zIb5-d3N3dM8"
   },
   "source": [
    "## Cоздание корпуса с экспрессивом"
   ]
  },
  {
   "cell_type": "code",
   "execution_count": 1,
   "metadata": {
    "colab": {
     "base_uri": "https://localhost:8080/"
    },
    "id": "_XIAmmUeBx2G",
    "outputId": "1a45415b-5113-41bf-c187-a050fdf68393"
   },
   "outputs": [
    {
     "name": "stdout",
     "output_type": "stream",
     "text": [
      "Drive already mounted at gdrive; to attempt to forcibly remount, call drive.mount(\"gdrive\", force_remount=True).\n"
     ]
    }
   ],
   "source": [
    "from google.colab import drive\n",
    "drive.mount('gdrive')"
   ]
  },
  {
   "cell_type": "code",
   "execution_count": 2,
   "metadata": {
    "colab": {
     "base_uri": "https://localhost:8080/"
    },
    "id": "H8iLRgqnB0yj",
    "outputId": "d76c602e-5472-4a6c-aa49-5f68c62b67e0"
   },
   "outputs": [
    {
     "name": "stdout",
     "output_type": "stream",
     "text": [
      "/content/gdrive/MyDrive/Вышечка/1 курс магистратура/функциональные модели\n"
     ]
    }
   ],
   "source": [
    "%cd /content/gdrive/MyDrive/Вышечка/1 курс магистратура/функциональные модели"
   ]
  },
  {
   "cell_type": "markdown",
   "metadata": {
    "id": "ecfMWYm13mnj"
   },
   "source": [
    "**О датасете** \n",
    "\n",
    "Датасет представляет собой корпус из [Amazon product data](http://jmcauley.ucsd.edu/data/amazon/). Я выбрала корпус по Digital Music. Особенно привлекло, что эта сфера творческая, то есть может быть достаточно близка к сфере книг или кино, и есть определенное ожидание, что люди будут писать более \"творческие\" ревью на эту музыку.\n",
    "\n",
    "---\n",
    "\n",
    "Корпус состоит из следующих секций:\n",
    "\n",
    "*   reviewerID - ID of the reviewer, e.g. A2SUAM1J3GNN3B\n",
    "*   asin - ID of the product, e.g. 0000013714\n",
    "*   reviewerName - name of the reviewer\n",
    "*   helpful - helpfulness rating of the review, e.g. 2/3\n",
    "*   reviewText - text of the review\n",
    "*   overall - rating of the product\n",
    "*   summary - summary of the review\n",
    "*   unixReviewTime - time of the review (unix time)\n",
    "*   reviewTime - time of the review (raw)\n"
   ]
  },
  {
   "cell_type": "code",
   "execution_count": 3,
   "metadata": {
    "id": "ZzK2t-YVFyHO"
   },
   "outputs": [],
   "source": [
    "import pandas as pd"
   ]
  },
  {
   "cell_type": "code",
   "execution_count": 4,
   "metadata": {
    "id": "Naj6EmwWCFLd"
   },
   "outputs": [],
   "source": [
    "df = pd.read_json('reviews_Digital_Music_5.json.gz', lines=True)"
   ]
  },
  {
   "cell_type": "code",
   "execution_count": 5,
   "metadata": {
    "colab": {
     "base_uri": "https://localhost:8080/",
     "height": 374
    },
    "id": "AewuZw2JKRaO",
    "outputId": "633a720f-6397-406c-cd24-eba5ce7304a2"
   },
   "outputs": [
    {
     "data": {
      "text/html": [
       "<div>\n",
       "<style scoped>\n",
       "    .dataframe tbody tr th:only-of-type {\n",
       "        vertical-align: middle;\n",
       "    }\n",
       "\n",
       "    .dataframe tbody tr th {\n",
       "        vertical-align: top;\n",
       "    }\n",
       "\n",
       "    .dataframe thead th {\n",
       "        text-align: right;\n",
       "    }\n",
       "</style>\n",
       "<table border=\"1\" class=\"dataframe\">\n",
       "  <thead>\n",
       "    <tr style=\"text-align: right;\">\n",
       "      <th></th>\n",
       "      <th>reviewerID</th>\n",
       "      <th>asin</th>\n",
       "      <th>reviewerName</th>\n",
       "      <th>helpful</th>\n",
       "      <th>reviewText</th>\n",
       "      <th>overall</th>\n",
       "      <th>summary</th>\n",
       "      <th>unixReviewTime</th>\n",
       "      <th>reviewTime</th>\n",
       "    </tr>\n",
       "  </thead>\n",
       "  <tbody>\n",
       "    <tr>\n",
       "      <th>0</th>\n",
       "      <td>A3EBHHCZO6V2A4</td>\n",
       "      <td>5555991584</td>\n",
       "      <td>Amaranth \"music fan\"</td>\n",
       "      <td>[3, 3]</td>\n",
       "      <td>It's hard to believe \"Memory of Trees\" came ou...</td>\n",
       "      <td>5</td>\n",
       "      <td>Enya's last great album</td>\n",
       "      <td>1158019200</td>\n",
       "      <td>09 12, 2006</td>\n",
       "    </tr>\n",
       "    <tr>\n",
       "      <th>1</th>\n",
       "      <td>AZPWAXJG9OJXV</td>\n",
       "      <td>5555991584</td>\n",
       "      <td>bethtexas</td>\n",
       "      <td>[0, 0]</td>\n",
       "      <td>A clasically-styled and introverted album, Mem...</td>\n",
       "      <td>5</td>\n",
       "      <td>Enya at her most elegant</td>\n",
       "      <td>991526400</td>\n",
       "      <td>06 3, 2001</td>\n",
       "    </tr>\n",
       "    <tr>\n",
       "      <th>2</th>\n",
       "      <td>A38IRL0X2T4DPF</td>\n",
       "      <td>5555991584</td>\n",
       "      <td>bob turnley</td>\n",
       "      <td>[2, 2]</td>\n",
       "      <td>I never thought Enya would reach the sublime h...</td>\n",
       "      <td>5</td>\n",
       "      <td>The best so far</td>\n",
       "      <td>1058140800</td>\n",
       "      <td>07 14, 2003</td>\n",
       "    </tr>\n",
       "    <tr>\n",
       "      <th>3</th>\n",
       "      <td>A22IK3I6U76GX0</td>\n",
       "      <td>5555991584</td>\n",
       "      <td>Calle</td>\n",
       "      <td>[1, 1]</td>\n",
       "      <td>This is the third review of an irish album I w...</td>\n",
       "      <td>5</td>\n",
       "      <td>Ireland produces good music.</td>\n",
       "      <td>957312000</td>\n",
       "      <td>05 3, 2000</td>\n",
       "    </tr>\n",
       "    <tr>\n",
       "      <th>4</th>\n",
       "      <td>A1AISPOIIHTHXX</td>\n",
       "      <td>5555991584</td>\n",
       "      <td>Cloud \"...\"</td>\n",
       "      <td>[1, 1]</td>\n",
       "      <td>Enya, despite being a successful recording art...</td>\n",
       "      <td>4</td>\n",
       "      <td>4.5; music to dream to</td>\n",
       "      <td>1200528000</td>\n",
       "      <td>01 17, 2008</td>\n",
       "    </tr>\n",
       "  </tbody>\n",
       "</table>\n",
       "</div>"
      ],
      "text/plain": [
       "       reviewerID        asin  ... unixReviewTime   reviewTime\n",
       "0  A3EBHHCZO6V2A4  5555991584  ...     1158019200  09 12, 2006\n",
       "1   AZPWAXJG9OJXV  5555991584  ...      991526400   06 3, 2001\n",
       "2  A38IRL0X2T4DPF  5555991584  ...     1058140800  07 14, 2003\n",
       "3  A22IK3I6U76GX0  5555991584  ...      957312000   05 3, 2000\n",
       "4  A1AISPOIIHTHXX  5555991584  ...     1200528000  01 17, 2008\n",
       "\n",
       "[5 rows x 9 columns]"
      ]
     },
     "execution_count": 5,
     "metadata": {},
     "output_type": "execute_result"
    }
   ],
   "source": [
    "df.head()"
   ]
  },
  {
   "cell_type": "markdown",
   "metadata": {
    "id": "ElcnFBwoKaXD"
   },
   "source": [
    "### Анализ датасета"
   ]
  },
  {
   "cell_type": "code",
   "execution_count": 6,
   "metadata": {
    "colab": {
     "base_uri": "https://localhost:8080/"
    },
    "id": "RmHa7UfEKUmT",
    "outputId": "2ee650e5-2f3e-4be1-9036-6ca1619c324f"
   },
   "outputs": [
    {
     "name": "stdout",
     "output_type": "stream",
     "text": [
      "<class 'pandas.core.frame.DataFrame'>\n",
      "RangeIndex: 64706 entries, 0 to 64705\n",
      "Data columns (total 9 columns):\n",
      " #   Column          Non-Null Count  Dtype \n",
      "---  ------          --------------  ----- \n",
      " 0   reviewerID      64706 non-null  object\n",
      " 1   asin            64706 non-null  object\n",
      " 2   reviewerName    64529 non-null  object\n",
      " 3   helpful         64706 non-null  object\n",
      " 4   reviewText      64706 non-null  object\n",
      " 5   overall         64706 non-null  int64 \n",
      " 6   summary         64706 non-null  object\n",
      " 7   unixReviewTime  64706 non-null  int64 \n",
      " 8   reviewTime      64706 non-null  object\n",
      "dtypes: int64(2), object(7)\n",
      "memory usage: 4.4+ MB\n"
     ]
    }
   ],
   "source": [
    "df.info()"
   ]
  },
  {
   "cell_type": "markdown",
   "metadata": {
    "id": "VfSn8N2RLs6K"
   },
   "source": [
    "Смотрим на распределение рейтинга для разных параметров: категории 5 больше всего (составляет половину), в то время как негативных меньше всего."
   ]
  },
  {
   "cell_type": "code",
   "execution_count": 7,
   "metadata": {
    "colab": {
     "base_uri": "https://localhost:8080/"
    },
    "id": "j6rXaMG1LO5p",
    "outputId": "d729f1de-2176-4b27-f3a8-8bc4d3444e42"
   },
   "outputs": [
    {
     "data": {
      "text/plain": [
       "5    35580\n",
       "4    16536\n",
       "3     6789\n",
       "2     3010\n",
       "1     2791\n",
       "Name: overall, dtype: int64"
      ]
     },
     "execution_count": 7,
     "metadata": {},
     "output_type": "execute_result"
    }
   ],
   "source": [
    "df.overall.value_counts()"
   ]
  },
  {
   "cell_type": "code",
   "execution_count": 8,
   "metadata": {
    "colab": {
     "base_uri": "https://localhost:8080/",
     "height": 265
    },
    "id": "JD2a3swxKrWT",
    "outputId": "ef5cc93f-42af-4603-8727-4dedda47effc"
   },
   "outputs": [
    {
     "data": {
      "text/plain": [
       "<matplotlib.axes._subplots.AxesSubplot at 0x7fb3f11db150>"
      ]
     },
     "execution_count": 8,
     "metadata": {},
     "output_type": "execute_result"
    },
    {
     "data": {
      "image/png": "[encoded data removed]",
      "text/plain": [
       "<Figure size 432x288 with 1 Axes>"
      ]
     },
     "metadata": {},
     "output_type": "display_data"
    }
   ],
   "source": [
    "df.overall.value_counts().plot.pie(autopct=\"%1.2f%%\")"
   ]
  },
  {
   "cell_type": "markdown",
   "metadata": {
    "id": "4qgFDMQWKE1A"
   },
   "source": [
    "### Анализ ревью"
   ]
  },
  {
   "cell_type": "markdown",
   "metadata": {
    "id": "3LemgFizNsFj"
   },
   "source": [
    "Текстовая информация у нас содержится и в ревью, и в саммари. Таким образом, мне кажется важным учитывать все возможные текстовые ячейки, которые могут дать информацию о том, что пишет пользователь: он может назвать музыку лучшей/худшей достаточно экспрессивно везде, поэтому будем смотреть на reviewText и summary."
   ]
  },
  {
   "cell_type": "code",
   "execution_count": 9,
   "metadata": {
    "id": "9OGpp0F_OSz5"
   },
   "outputs": [],
   "source": [
    "from tqdm.auto import tqdm"
   ]
  },
  {
   "cell_type": "code",
   "execution_count": 10,
   "metadata": {
    "colab": {
     "base_uri": "https://localhost:8080/",
     "height": 49
    },
    "id": "yo5-g2-rNJew",
    "outputId": "b3fd2425-6b73-4701-d80d-855e4ecc4f4d"
   },
   "outputs": [
    {
     "data": {
      "application/vnd.jupyter.widget-view+json": {
       "model_id": "6daf4c8b79ed499f8f7d60e7bb679f2a",
       "version_major": 2,
       "version_minor": 0
      },
      "text/plain": [
       "0it [00:00, ?it/s]"
      ]
     },
     "metadata": {},
     "output_type": "display_data"
    }
   ],
   "source": [
    "# объединяем и получаем весь текст\n",
    "\n",
    "rev_sum = []\n",
    "\n",
    "for index, row in tqdm(df.iterrows()):\n",
    "    rs = ''\n",
    "    r = row['reviewText']\n",
    "    s = row['summary']\n",
    "    rs = str(r) + ' ' + str(s)\n",
    "    rev_sum.append(rs)\n",
    "\n",
    "\n",
    "df['review_summary'] = rev_sum"
   ]
  },
  {
   "cell_type": "code",
   "execution_count": 11,
   "metadata": {
    "colab": {
     "base_uri": "https://localhost:8080/",
     "height": 547
    },
    "id": "vQAw0l72O3Be",
    "outputId": "3040e48a-9119-4d57-8ad1-07256bb6df61"
   },
   "outputs": [
    {
     "data": {
      "text/html": [
       "<div>\n",
       "<style scoped>\n",
       "    .dataframe tbody tr th:only-of-type {\n",
       "        vertical-align: middle;\n",
       "    }\n",
       "\n",
       "    .dataframe tbody tr th {\n",
       "        vertical-align: top;\n",
       "    }\n",
       "\n",
       "    .dataframe thead th {\n",
       "        text-align: right;\n",
       "    }\n",
       "</style>\n",
       "<table border=\"1\" class=\"dataframe\">\n",
       "  <thead>\n",
       "    <tr style=\"text-align: right;\">\n",
       "      <th></th>\n",
       "      <th>reviewerID</th>\n",
       "      <th>asin</th>\n",
       "      <th>reviewerName</th>\n",
       "      <th>helpful</th>\n",
       "      <th>reviewText</th>\n",
       "      <th>overall</th>\n",
       "      <th>summary</th>\n",
       "      <th>unixReviewTime</th>\n",
       "      <th>reviewTime</th>\n",
       "      <th>review_summary</th>\n",
       "    </tr>\n",
       "  </thead>\n",
       "  <tbody>\n",
       "    <tr>\n",
       "      <th>0</th>\n",
       "      <td>A3EBHHCZO6V2A4</td>\n",
       "      <td>5555991584</td>\n",
       "      <td>Amaranth \"music fan\"</td>\n",
       "      <td>[3, 3]</td>\n",
       "      <td>It's hard to believe \"Memory of Trees\" came ou...</td>\n",
       "      <td>5</td>\n",
       "      <td>Enya's last great album</td>\n",
       "      <td>1158019200</td>\n",
       "      <td>09 12, 2006</td>\n",
       "      <td>It's hard to believe \"Memory of Trees\" came ou...</td>\n",
       "    </tr>\n",
       "    <tr>\n",
       "      <th>1</th>\n",
       "      <td>AZPWAXJG9OJXV</td>\n",
       "      <td>5555991584</td>\n",
       "      <td>bethtexas</td>\n",
       "      <td>[0, 0]</td>\n",
       "      <td>A clasically-styled and introverted album, Mem...</td>\n",
       "      <td>5</td>\n",
       "      <td>Enya at her most elegant</td>\n",
       "      <td>991526400</td>\n",
       "      <td>06 3, 2001</td>\n",
       "      <td>A clasically-styled and introverted album, Mem...</td>\n",
       "    </tr>\n",
       "    <tr>\n",
       "      <th>2</th>\n",
       "      <td>A38IRL0X2T4DPF</td>\n",
       "      <td>5555991584</td>\n",
       "      <td>bob turnley</td>\n",
       "      <td>[2, 2]</td>\n",
       "      <td>I never thought Enya would reach the sublime h...</td>\n",
       "      <td>5</td>\n",
       "      <td>The best so far</td>\n",
       "      <td>1058140800</td>\n",
       "      <td>07 14, 2003</td>\n",
       "      <td>I never thought Enya would reach the sublime h...</td>\n",
       "    </tr>\n",
       "    <tr>\n",
       "      <th>3</th>\n",
       "      <td>A22IK3I6U76GX0</td>\n",
       "      <td>5555991584</td>\n",
       "      <td>Calle</td>\n",
       "      <td>[1, 1]</td>\n",
       "      <td>This is the third review of an irish album I w...</td>\n",
       "      <td>5</td>\n",
       "      <td>Ireland produces good music.</td>\n",
       "      <td>957312000</td>\n",
       "      <td>05 3, 2000</td>\n",
       "      <td>This is the third review of an irish album I w...</td>\n",
       "    </tr>\n",
       "    <tr>\n",
       "      <th>4</th>\n",
       "      <td>A1AISPOIIHTHXX</td>\n",
       "      <td>5555991584</td>\n",
       "      <td>Cloud \"...\"</td>\n",
       "      <td>[1, 1]</td>\n",
       "      <td>Enya, despite being a successful recording art...</td>\n",
       "      <td>4</td>\n",
       "      <td>4.5; music to dream to</td>\n",
       "      <td>1200528000</td>\n",
       "      <td>01 17, 2008</td>\n",
       "      <td>Enya, despite being a successful recording art...</td>\n",
       "    </tr>\n",
       "  </tbody>\n",
       "</table>\n",
       "</div>"
      ],
      "text/plain": [
       "       reviewerID  ...                                     review_summary\n",
       "0  A3EBHHCZO6V2A4  ...  It's hard to believe \"Memory of Trees\" came ou...\n",
       "1   AZPWAXJG9OJXV  ...  A clasically-styled and introverted album, Mem...\n",
       "2  A38IRL0X2T4DPF  ...  I never thought Enya would reach the sublime h...\n",
       "3  A22IK3I6U76GX0  ...  This is the third review of an irish album I w...\n",
       "4  A1AISPOIIHTHXX  ...  Enya, despite being a successful recording art...\n",
       "\n",
       "[5 rows x 10 columns]"
      ]
     },
     "execution_count": 11,
     "metadata": {},
     "output_type": "execute_result"
    }
   ],
   "source": [
    "df.head()"
   ]
  },
  {
   "cell_type": "markdown",
   "metadata": {
    "id": "qyQSy84xpsrf"
   },
   "source": [
    "### Подгтовка текстов для использования формулы"
   ]
  },
  {
   "cell_type": "markdown",
   "metadata": {
    "id": "s6szS-u1rha5"
   },
   "source": [
    "Думая, в дальнейшем о профиле, учтем то, что в формуле рассматриваются токены. Поэтому сначала токенизируем текст, а после найдем только те контексты, в которых есть наш экспрессив. (В формуле указано, что считается все на токенах, поэтому предварительно протокенизируем тексты.) "
   ]
  },
  {
   "cell_type": "code",
   "execution_count": 12,
   "metadata": {
    "colab": {
     "base_uri": "https://localhost:8080/"
    },
    "id": "IjSrp4hrtPGY",
    "outputId": "abbe5ee8-1556-4161-e413-0cef194ad707"
   },
   "outputs": [
    {
     "name": "stdout",
     "output_type": "stream",
     "text": [
      "[nltk_data] Downloading package punkt to /root/nltk_data...\n",
      "[nltk_data]   Package punkt is already up-to-date!\n"
     ]
    },
    {
     "data": {
      "text/plain": [
       "True"
      ]
     },
     "execution_count": 12,
     "metadata": {},
     "output_type": "execute_result"
    }
   ],
   "source": [
    "import nltk\n",
    "nltk.download('punkt')"
   ]
  },
  {
   "cell_type": "code",
   "execution_count": 13,
   "metadata": {
    "id": "6TDSucK1pyuD"
   },
   "outputs": [],
   "source": [
    "from nltk.tokenize import word_tokenize"
   ]
  },
  {
   "cell_type": "markdown",
   "metadata": {
    "id": "6cSj4dT7FkBQ"
   },
   "source": [
    "Очистим тексты от пунктуации, чтобы при токенизации знаки препинания не мешали. \n",
    "\n",
    "P.S. Но мы держим в голове, что в отзывах могут быть конструкции типа \"d@mn\", но такие изначально делятся токенизатором как \n",
    "\n",
    "```\n",
    "['d', '@', 'amn']\n",
    "```\n",
    "\n",
    "поэтому мы будем просто удалять все сегменты, где вообще нет букв."
   ]
  },
  {
   "cell_type": "code",
   "execution_count": 14,
   "metadata": {
    "id": "RmfN6Az9v6yv"
   },
   "outputs": [],
   "source": [
    "import string\n",
    "import re"
   ]
  },
  {
   "cell_type": "code",
   "execution_count": 15,
   "metadata": {
    "id": "ECSl6vb7symA"
   },
   "outputs": [],
   "source": [
    "def text_tokenize(text):\n",
    "\n",
    "    \"\"\" токенизируем \"\"\"\n",
    "\n",
    "    return word_tokenize(text.lower(), language=\"english\")\n",
    "\n",
    "\n",
    "def text_clean(text):\n",
    "  \n",
    "    \"\"\"\"очистим от пунктуации токенизируемый текст\"\"\"\n",
    "  \n",
    "    # оставляем только текст\n",
    "    clean_words = []\n",
    "\n",
    "    tokens = text_tokenize(text)\n",
    "\n",
    "    for word in tokens:\n",
    "        is_w = re.findall(r'[A-Za-z]+', word)\n",
    "        if len(is_w) >= 1:\n",
    "            clean_words.append(word)\n",
    "    \n",
    "    txt = ' '.join(clean_words)\n",
    "\n",
    "    return txt"
   ]
  },
  {
   "cell_type": "code",
   "execution_count": 16,
   "metadata": {
    "id": "bVmojYomuZML"
   },
   "outputs": [],
   "source": [
    "tqdm.pandas()"
   ]
  },
  {
   "cell_type": "code",
   "execution_count": 17,
   "metadata": {
    "colab": {
     "base_uri": "https://localhost:8080/",
     "height": 81,
     "referenced_widgets": [
      "0d7af62b2c1643d8b327bbcd5d6d7664",
      "f03bb2d221864194ba830b012f8b659a",
      "a2f6a2ea2a28466e957a22a584f54d8e",
      "7da34bc2eba7462bb4df7713d656c2ab",
      "c3abc339460a4c9db7d039efbd02f397",
      "a01be14786524550840b7eded4a055b2",
      "d2d6648840c743c9b23da69822acc8e7",
      "21d807d0bd71483784d78bcd4922fd36",
      "7a1f73ac02ec4c5caa5e0deecf497129",
      "e88a2c82cd2044e884760418a3359d9f",
      "ceca947aba0847cf97c6f1fb6d46ece7"
     ]
    },
    "id": "wDl9zDLBtD1L",
    "outputId": "d47be9cd-9c86-4f30-82e6-cdca309963ef"
   },
   "outputs": [
    {
     "data": {
      "application/vnd.jupyter.widget-view+json": {
       "model_id": "0d7af62b2c1643d8b327bbcd5d6d7664",
       "version_major": 2,
       "version_minor": 0
      },
      "text/plain": [
       "  0%|          | 0/64706 [00:00<?, ?it/s]"
      ]
     },
     "metadata": {},
     "output_type": "display_data"
    },
    {
     "data": {
      "application/vnd.jupyter.widget-view+json": {
       "model_id": "a3abd74a0fd1400d8308a10909a5c803",
       "version_major": 2,
       "version_minor": 0
      },
      "text/plain": [
       "  0%|          | 0/64706 [00:00<?, ?it/s]"
      ]
     },
     "metadata": {},
     "output_type": "display_data"
    }
   ],
   "source": [
    "df[\"clean_text\"] = df['review_summary'].progress_map(text_clean)\n",
    "df[\"text_in_tokens\"] = df['clean_text'].progress_map(text_tokenize)"
   ]
  },
  {
   "cell_type": "code",
   "execution_count": 18,
   "metadata": {
    "colab": {
     "base_uri": "https://localhost:8080/",
     "height": 171
    },
    "id": "9K5LOtvPcPz5",
    "outputId": "0fffb9b6-de2d-4c9a-a3a9-1203114e96bf"
   },
   "outputs": [
    {
     "data": {
      "application/vnd.google.colaboratory.intrinsic+json": {
       "type": "string"
      },
      "text/plain": [
       "'It\\'s hard to believe \"Memory of Trees\" came out 11 years ago;it has held up well over the passage of time.It\\'s Enya\\'s last great album before the New Age/pop of \"Amarantine\" and \"Day without rain.\" Back in 1995,Enya still had her creative spark,her own voice.I agree with the reviewer who said that this is her saddest album;it is melancholy,bittersweet,from the opening title song.\"Memory of Trees\" is elegaic&majestic.;\"Pax Deorum\" sounds like it is from a Requiem Mass,it is a dark threnody.Unlike the reviewer who said that this has a \"disconcerting\" blend of spirituality&sensuality;,I don\\'t find it disconcerting at all.\"Anywhere is\" is a hopeful song,looking to possibilities.\"Hope has a place\" is about love,but it is up to the listener to decide if it is romantic,platonic,etc.I\\'ve always had a soft spot for this song.\"On my way home\" is a triumphant ending about return.This is truly a masterpiece of New Age music,a must for any Enya fan! Enya\\'s last great album'"
      ]
     },
     "execution_count": 18,
     "metadata": {},
     "output_type": "execute_result"
    }
   ],
   "source": [
    "df.review_summary.tolist()[0]"
   ]
  },
  {
   "cell_type": "code",
   "execution_count": 19,
   "metadata": {
    "colab": {
     "base_uri": "https://localhost:8080/",
     "height": 154
    },
    "id": "c5NcKKqXcfAu",
    "outputId": "b12abedd-a2a2-4900-f578-7cfe9db0d9ad"
   },
   "outputs": [
    {
     "data": {
      "application/vnd.google.colaboratory.intrinsic+json": {
       "type": "string"
      },
      "text/plain": [
       "\"it 's hard to believe memory of trees came out years ago it has held up well over the passage of time.it 's enya 's last great album before the new age/pop of amarantine and day without rain back in enya still had her creative spark her own voice.i agree with the reviewer who said that this is her saddest album it is melancholy bittersweet from the opening title song memory of trees is elegaic majestic pax deorum sounds like it is from a requiem mass it is a dark threnody.unlike the reviewer who said that this has a disconcerting blend of spirituality sensuality i do n't find it disconcerting at all anywhere is is a hopeful song looking to possibilities hope has a place is about love but it is up to the listener to decide if it is romantic platonic etc.i 've always had a soft spot for this song on my way home is a triumphant ending about return.this is truly a masterpiece of new age music a must for any enya fan enya 's last great album\""
      ]
     },
     "execution_count": 19,
     "metadata": {},
     "output_type": "execute_result"
    }
   ],
   "source": [
    "df.clean_text.tolist()[0]"
   ]
  },
  {
   "cell_type": "code",
   "execution_count": 20,
   "metadata": {
    "colab": {
     "base_uri": "https://localhost:8080/",
     "height": 547
    },
    "id": "XsuI-YDA__Zj",
    "outputId": "828a6123-8aa8-4d03-9deb-b230bc60bdd3"
   },
   "outputs": [
    {
     "data": {
      "text/html": [
       "<div>\n",
       "<style scoped>\n",
       "    .dataframe tbody tr th:only-of-type {\n",
       "        vertical-align: middle;\n",
       "    }\n",
       "\n",
       "    .dataframe tbody tr th {\n",
       "        vertical-align: top;\n",
       "    }\n",
       "\n",
       "    .dataframe thead th {\n",
       "        text-align: right;\n",
       "    }\n",
       "</style>\n",
       "<table border=\"1\" class=\"dataframe\">\n",
       "  <thead>\n",
       "    <tr style=\"text-align: right;\">\n",
       "      <th></th>\n",
       "      <th>reviewerID</th>\n",
       "      <th>asin</th>\n",
       "      <th>reviewerName</th>\n",
       "      <th>helpful</th>\n",
       "      <th>reviewText</th>\n",
       "      <th>overall</th>\n",
       "      <th>summary</th>\n",
       "      <th>unixReviewTime</th>\n",
       "      <th>reviewTime</th>\n",
       "      <th>review_summary</th>\n",
       "      <th>clean_text</th>\n",
       "      <th>text_in_tokens</th>\n",
       "    </tr>\n",
       "  </thead>\n",
       "  <tbody>\n",
       "    <tr>\n",
       "      <th>0</th>\n",
       "      <td>A3EBHHCZO6V2A4</td>\n",
       "      <td>5555991584</td>\n",
       "      <td>Amaranth \"music fan\"</td>\n",
       "      <td>[3, 3]</td>\n",
       "      <td>It's hard to believe \"Memory of Trees\" came ou...</td>\n",
       "      <td>5</td>\n",
       "      <td>Enya's last great album</td>\n",
       "      <td>1158019200</td>\n",
       "      <td>09 12, 2006</td>\n",
       "      <td>It's hard to believe \"Memory of Trees\" came ou...</td>\n",
       "      <td>it 's hard to believe memory of trees came out...</td>\n",
       "      <td>[it, 's, hard, to, believe, memory, of, trees,...</td>\n",
       "    </tr>\n",
       "    <tr>\n",
       "      <th>1</th>\n",
       "      <td>AZPWAXJG9OJXV</td>\n",
       "      <td>5555991584</td>\n",
       "      <td>bethtexas</td>\n",
       "      <td>[0, 0]</td>\n",
       "      <td>A clasically-styled and introverted album, Mem...</td>\n",
       "      <td>5</td>\n",
       "      <td>Enya at her most elegant</td>\n",
       "      <td>991526400</td>\n",
       "      <td>06 3, 2001</td>\n",
       "      <td>A clasically-styled and introverted album, Mem...</td>\n",
       "      <td>a clasically-styled and introverted album memo...</td>\n",
       "      <td>[a, clasically-styled, and, introverted, album...</td>\n",
       "    </tr>\n",
       "    <tr>\n",
       "      <th>2</th>\n",
       "      <td>A38IRL0X2T4DPF</td>\n",
       "      <td>5555991584</td>\n",
       "      <td>bob turnley</td>\n",
       "      <td>[2, 2]</td>\n",
       "      <td>I never thought Enya would reach the sublime h...</td>\n",
       "      <td>5</td>\n",
       "      <td>The best so far</td>\n",
       "      <td>1058140800</td>\n",
       "      <td>07 14, 2003</td>\n",
       "      <td>I never thought Enya would reach the sublime h...</td>\n",
       "      <td>i never thought enya would reach the sublime h...</td>\n",
       "      <td>[i, never, thought, enya, would, reach, the, s...</td>\n",
       "    </tr>\n",
       "    <tr>\n",
       "      <th>3</th>\n",
       "      <td>A22IK3I6U76GX0</td>\n",
       "      <td>5555991584</td>\n",
       "      <td>Calle</td>\n",
       "      <td>[1, 1]</td>\n",
       "      <td>This is the third review of an irish album I w...</td>\n",
       "      <td>5</td>\n",
       "      <td>Ireland produces good music.</td>\n",
       "      <td>957312000</td>\n",
       "      <td>05 3, 2000</td>\n",
       "      <td>This is the third review of an irish album I w...</td>\n",
       "      <td>this is the third review of an irish album i w...</td>\n",
       "      <td>[this, is, the, third, review, of, an, irish, ...</td>\n",
       "    </tr>\n",
       "    <tr>\n",
       "      <th>4</th>\n",
       "      <td>A1AISPOIIHTHXX</td>\n",
       "      <td>5555991584</td>\n",
       "      <td>Cloud \"...\"</td>\n",
       "      <td>[1, 1]</td>\n",
       "      <td>Enya, despite being a successful recording art...</td>\n",
       "      <td>4</td>\n",
       "      <td>4.5; music to dream to</td>\n",
       "      <td>1200528000</td>\n",
       "      <td>01 17, 2008</td>\n",
       "      <td>Enya, despite being a successful recording art...</td>\n",
       "      <td>enya despite being a successful recording arti...</td>\n",
       "      <td>[enya, despite, being, a, successful, recordin...</td>\n",
       "    </tr>\n",
       "  </tbody>\n",
       "</table>\n",
       "</div>"
      ],
      "text/plain": [
       "       reviewerID  ...                                     text_in_tokens\n",
       "0  A3EBHHCZO6V2A4  ...  [it, 's, hard, to, believe, memory, of, trees,...\n",
       "1   AZPWAXJG9OJXV  ...  [a, clasically-styled, and, introverted, album...\n",
       "2  A38IRL0X2T4DPF  ...  [i, never, thought, enya, would, reach, the, s...\n",
       "3  A22IK3I6U76GX0  ...  [this, is, the, third, review, of, an, irish, ...\n",
       "4  A1AISPOIIHTHXX  ...  [enya, despite, being, a, successful, recordin...\n",
       "\n",
       "[5 rows x 12 columns]"
      ]
     },
     "execution_count": 20,
     "metadata": {},
     "output_type": "execute_result"
    }
   ],
   "source": [
    "df.head()"
   ]
  },
  {
   "cell_type": "markdown",
   "metadata": {
    "id": "m_JCoNWh-yvw"
   },
   "source": [
    "### Формирование подкорпуса"
   ]
  },
  {
   "cell_type": "markdown",
   "metadata": {
    "id": "ifcZ2-NR7mdR"
   },
   "source": [
    "Возьмем эксперссив:"
   ]
  },
  {
   "cell_type": "code",
   "execution_count": 21,
   "metadata": {
    "id": "x2JJQ6FT7Gm_"
   },
   "outputs": [],
   "source": [
    "expressive_target = 'trash'"
   ]
  },
  {
   "cell_type": "markdown",
   "metadata": {
    "id": "g7I0CWZWPWyM"
   },
   "source": [
    "Будем выбирать предложения, только такие, где есть вхождение слова в том виде, в каком мы его задаем (в данном случае нет смысла проводить морфологическую разметку и убирать дизамбигуацию, так как нам интересны конкретные токены + из-за того, что отзывы могут быть написаны очень специфично, много сленга, например, морфологический анализатор может показывать нам не то, что мы хотим) "
   ]
  },
  {
   "cell_type": "code",
   "execution_count": 22,
   "metadata": {
    "id": "yjNW_9CZQzfs"
   },
   "outputs": [],
   "source": [
    "def find_context(text, express=expressive_target):\n",
    "    \"\"\"\n",
    "    будем искать наш экспрессив в выбранных контекстах\n",
    "    \"\"\"\n",
    "\n",
    "    if express in text:\n",
    "        return \"+\"\n",
    "    else:\n",
    "        return \"-\""
   ]
  },
  {
   "cell_type": "code",
   "execution_count": 23,
   "metadata": {
    "id": "jTpHMFZISZWP"
   },
   "outputs": [],
   "source": [
    "df[\"is_expressive\"] = df['text_in_tokens'].apply(find_context)"
   ]
  },
  {
   "cell_type": "code",
   "execution_count": 24,
   "metadata": {
    "colab": {
     "base_uri": "https://localhost:8080/"
    },
    "id": "4GysWAovSloP",
    "outputId": "2d4221f2-f9e4-4b1b-8188-337c1aab8040"
   },
   "outputs": [
    {
     "data": {
      "text/plain": [
       "-    64237\n",
       "+      469\n",
       "Name: is_expressive, dtype: int64"
      ]
     },
     "execution_count": 24,
     "metadata": {},
     "output_type": "execute_result"
    }
   ],
   "source": [
    "df.is_expressive.value_counts()"
   ]
  },
  {
   "cell_type": "markdown",
   "metadata": {
    "id": "VJh2IoLPTBly"
   },
   "source": [
    "Создадим свой корпус на основании полученных данных. Возьмем только те контексты, где есть экспрессив"
   ]
  },
  {
   "cell_type": "code",
   "execution_count": 25,
   "metadata": {
    "id": "dvxMEUexTBFn"
   },
   "outputs": [],
   "source": [
    "new_df = df.loc[df['is_expressive'] == \"+\"]"
   ]
  },
  {
   "cell_type": "code",
   "execution_count": 26,
   "metadata": {
    "id": "xTk3rdhXTeqf"
   },
   "outputs": [],
   "source": [
    "expressive_df = new_df[['reviewText', 'overall',\n",
    "                        'summary', 'review_summary',\n",
    "                        'text_in_tokens']]"
   ]
  },
  {
   "cell_type": "markdown",
   "metadata": {
    "id": "gqugwT2hEfkm"
   },
   "source": [
    "У нас есть небольшая проблема: все тексты разной длины, поэтому нам нужно их унифицировать определенным образом, чтобы было удобно работать дальше."
   ]
  },
  {
   "cell_type": "code",
   "execution_count": 27,
   "metadata": {
    "id": "kLi6O_ijEe78"
   },
   "outputs": [],
   "source": [
    "def count_tokens_in_sent(text):\n",
    "    return len(text)"
   ]
  },
  {
   "cell_type": "code",
   "execution_count": 28,
   "metadata": {
    "colab": {
     "base_uri": "https://localhost:8080/"
    },
    "id": "OILQBEXWEyVc",
    "outputId": "ed80b8a5-53b7-47e6-9102-ed0459b8e40e"
   },
   "outputs": [
    {
     "name": "stderr",
     "output_type": "stream",
     "text": [
      "/usr/local/lib/python3.7/dist-packages/ipykernel_launcher.py:1: SettingWithCopyWarning: \n",
      "A value is trying to be set on a copy of a slice from a DataFrame.\n",
      "Try using .loc[row_indexer,col_indexer] = value instead\n",
      "\n",
      "See the caveats in the documentation: https://pandas.pydata.org/pandas-docs/stable/user_guide/indexing.html#returning-a-view-versus-a-copy\n",
      "  \"\"\"Entry point for launching an IPython kernel.\n"
     ]
    }
   ],
   "source": [
    "expressive_df[\"num_tokens\"] = expressive_df['text_in_tokens'].apply(count_tokens_in_sent)"
   ]
  },
  {
   "cell_type": "code",
   "execution_count": 29,
   "metadata": {
    "colab": {
     "base_uri": "https://localhost:8080/",
     "height": 323
    },
    "id": "RAAiUgeRUc5v",
    "outputId": "9f8273b9-0d79-46b2-dcd6-c4c7eb1f81d6"
   },
   "outputs": [
    {
     "data": {
      "text/html": [
       "<div>\n",
       "<style scoped>\n",
       "    .dataframe tbody tr th:only-of-type {\n",
       "        vertical-align: middle;\n",
       "    }\n",
       "\n",
       "    .dataframe tbody tr th {\n",
       "        vertical-align: top;\n",
       "    }\n",
       "\n",
       "    .dataframe thead th {\n",
       "        text-align: right;\n",
       "    }\n",
       "</style>\n",
       "<table border=\"1\" class=\"dataframe\">\n",
       "  <thead>\n",
       "    <tr style=\"text-align: right;\">\n",
       "      <th></th>\n",
       "      <th>reviewText</th>\n",
       "      <th>overall</th>\n",
       "      <th>summary</th>\n",
       "      <th>review_summary</th>\n",
       "      <th>text_in_tokens</th>\n",
       "      <th>num_tokens</th>\n",
       "    </tr>\n",
       "  </thead>\n",
       "  <tbody>\n",
       "    <tr>\n",
       "      <th>597</th>\n",
       "      <td>E-40 is the head of west coast sibling clan TH...</td>\n",
       "      <td>4</td>\n",
       "      <td>Tight Production</td>\n",
       "      <td>E-40 is the head of west coast sibling clan TH...</td>\n",
       "      <td>[e-40, is, the, head, of, west, coast, sibling...</td>\n",
       "      <td>145</td>\n",
       "    </tr>\n",
       "    <tr>\n",
       "      <th>700</th>\n",
       "      <td>I'm not gonna say that I expected better of th...</td>\n",
       "      <td>1</td>\n",
       "      <td>And No,It's Not Just Because They're The Backs...</td>\n",
       "      <td>I'm not gonna say that I expected better of th...</td>\n",
       "      <td>[i, 'm, not, gon, na, say, that, i, expected, ...</td>\n",
       "      <td>259</td>\n",
       "    </tr>\n",
       "    <tr>\n",
       "      <th>1826</th>\n",
       "      <td>This is one of the best power pop albums ever ...</td>\n",
       "      <td>5</td>\n",
       "      <td>For Plimsouls Fans Who Want To Own The Nerves'...</td>\n",
       "      <td>This is one of the best power pop albums ever ...</td>\n",
       "      <td>[this, is, one, of, the, best, power, pop, alb...</td>\n",
       "      <td>397</td>\n",
       "    </tr>\n",
       "    <tr>\n",
       "      <th>2045</th>\n",
       "      <td>When this was was released, my friend loaned m...</td>\n",
       "      <td>5</td>\n",
       "      <td>Trashy Dance Pop At its Best!</td>\n",
       "      <td>When this was was released, my friend loaned m...</td>\n",
       "      <td>[when, this, was, was, released, my, friend, l...</td>\n",
       "      <td>127</td>\n",
       "    </tr>\n",
       "    <tr>\n",
       "      <th>2388</th>\n",
       "      <td>No need to address the specific content or the...</td>\n",
       "      <td>5</td>\n",
       "      <td>redefines \"superlative\"</td>\n",
       "      <td>No need to address the specific content or the...</td>\n",
       "      <td>[no, need, to, address, the, specific, content...</td>\n",
       "      <td>238</td>\n",
       "    </tr>\n",
       "  </tbody>\n",
       "</table>\n",
       "</div>"
      ],
      "text/plain": [
       "                                             reviewText  ...  num_tokens\n",
       "597   E-40 is the head of west coast sibling clan TH...  ...         145\n",
       "700   I'm not gonna say that I expected better of th...  ...         259\n",
       "1826  This is one of the best power pop albums ever ...  ...         397\n",
       "2045  When this was was released, my friend loaned m...  ...         127\n",
       "2388  No need to address the specific content or the...  ...         238\n",
       "\n",
       "[5 rows x 6 columns]"
      ]
     },
     "execution_count": 29,
     "metadata": {},
     "output_type": "execute_result"
    }
   ],
   "source": [
    "expressive_df.head()"
   ]
  },
  {
   "cell_type": "code",
   "execution_count": 30,
   "metadata": {
    "colab": {
     "base_uri": "https://localhost:8080/",
     "height": 297
    },
    "id": "Nd7Whqx6Fpu7",
    "outputId": "7fa735da-2630-421d-ecb2-617af8b5f67d"
   },
   "outputs": [
    {
     "data": {
      "text/html": [
       "<div>\n",
       "<style scoped>\n",
       "    .dataframe tbody tr th:only-of-type {\n",
       "        vertical-align: middle;\n",
       "    }\n",
       "\n",
       "    .dataframe tbody tr th {\n",
       "        vertical-align: top;\n",
       "    }\n",
       "\n",
       "    .dataframe thead th {\n",
       "        text-align: right;\n",
       "    }\n",
       "</style>\n",
       "<table border=\"1\" class=\"dataframe\">\n",
       "  <thead>\n",
       "    <tr style=\"text-align: right;\">\n",
       "      <th></th>\n",
       "      <th>overall</th>\n",
       "      <th>num_tokens</th>\n",
       "    </tr>\n",
       "  </thead>\n",
       "  <tbody>\n",
       "    <tr>\n",
       "      <th>count</th>\n",
       "      <td>469.000000</td>\n",
       "      <td>469.000000</td>\n",
       "    </tr>\n",
       "    <tr>\n",
       "      <th>mean</th>\n",
       "      <td>2.861407</td>\n",
       "      <td>260.799574</td>\n",
       "    </tr>\n",
       "    <tr>\n",
       "      <th>std</th>\n",
       "      <td>1.630368</td>\n",
       "      <td>230.910577</td>\n",
       "    </tr>\n",
       "    <tr>\n",
       "      <th>min</th>\n",
       "      <td>1.000000</td>\n",
       "      <td>13.000000</td>\n",
       "    </tr>\n",
       "    <tr>\n",
       "      <th>25%</th>\n",
       "      <td>1.000000</td>\n",
       "      <td>110.000000</td>\n",
       "    </tr>\n",
       "    <tr>\n",
       "      <th>50%</th>\n",
       "      <td>3.000000</td>\n",
       "      <td>198.000000</td>\n",
       "    </tr>\n",
       "    <tr>\n",
       "      <th>75%</th>\n",
       "      <td>4.000000</td>\n",
       "      <td>345.000000</td>\n",
       "    </tr>\n",
       "    <tr>\n",
       "      <th>max</th>\n",
       "      <td>5.000000</td>\n",
       "      <td>2766.000000</td>\n",
       "    </tr>\n",
       "  </tbody>\n",
       "</table>\n",
       "</div>"
      ],
      "text/plain": [
       "          overall   num_tokens\n",
       "count  469.000000   469.000000\n",
       "mean     2.861407   260.799574\n",
       "std      1.630368   230.910577\n",
       "min      1.000000    13.000000\n",
       "25%      1.000000   110.000000\n",
       "50%      3.000000   198.000000\n",
       "75%      4.000000   345.000000\n",
       "max      5.000000  2766.000000"
      ]
     },
     "execution_count": 30,
     "metadata": {},
     "output_type": "execute_result"
    }
   ],
   "source": [
    "expressive_df.describe()"
   ]
  },
  {
   "cell_type": "markdown",
   "metadata": {
    "id": "r3JZrydqGCe0"
   },
   "source": [
    "Минимальное количество токенов - 13, максимальное - 2766. \n",
    "\n",
    "Необходимо найти тексты, длина которых была бы оптимальна: не слишком большая и не слишком маленькая. Исходя из таблицы мы видим, что достаточно большая часть текстов небольшая по длине. Тем не менее, мне кажется, что посмотреть на группу текстов +- средней длины будет интерснее.\n",
    "\n",
    "Возьмем тексты длиной 250 - 400 - около 100 вхождений попадет в анализируемый корпус длиной с разницей в 150 предложений. Мне кажется, что такой вариант достаточно комфортный для анализа: люди, которые в восторге от музыки будут писать достаточно большое тексты с восхищением, а люди, которым не понравилось - будут писать тексты +- такой же длины с недовольством. Это оптимальный вариант (как мне кажется), чтобы захватить много гнева и много восхищения."
   ]
  },
  {
   "cell_type": "code",
   "execution_count": 31,
   "metadata": {
    "id": "YOkiHnqgGQyS"
   },
   "outputs": [],
   "source": [
    "expressive_df = expressive_df[(expressive_df.num_tokens <= 400) &\n",
    "                              (expressive_df.num_tokens >= 250)]"
   ]
  },
  {
   "cell_type": "code",
   "execution_count": 32,
   "metadata": {
    "colab": {
     "base_uri": "https://localhost:8080/",
     "height": 297
    },
    "id": "iJT5bkFHGhAQ",
    "outputId": "4c14749f-ced7-4a0f-adfb-9e718983c6d5"
   },
   "outputs": [
    {
     "data": {
      "text/html": [
       "<div>\n",
       "<style scoped>\n",
       "    .dataframe tbody tr th:only-of-type {\n",
       "        vertical-align: middle;\n",
       "    }\n",
       "\n",
       "    .dataframe tbody tr th {\n",
       "        vertical-align: top;\n",
       "    }\n",
       "\n",
       "    .dataframe thead th {\n",
       "        text-align: right;\n",
       "    }\n",
       "</style>\n",
       "<table border=\"1\" class=\"dataframe\">\n",
       "  <thead>\n",
       "    <tr style=\"text-align: right;\">\n",
       "      <th></th>\n",
       "      <th>overall</th>\n",
       "      <th>num_tokens</th>\n",
       "    </tr>\n",
       "  </thead>\n",
       "  <tbody>\n",
       "    <tr>\n",
       "      <th>count</th>\n",
       "      <td>97.000000</td>\n",
       "      <td>97.000000</td>\n",
       "    </tr>\n",
       "    <tr>\n",
       "      <th>mean</th>\n",
       "      <td>3.113402</td>\n",
       "      <td>319.360825</td>\n",
       "    </tr>\n",
       "    <tr>\n",
       "      <th>std</th>\n",
       "      <td>1.619390</td>\n",
       "      <td>44.843056</td>\n",
       "    </tr>\n",
       "    <tr>\n",
       "      <th>min</th>\n",
       "      <td>1.000000</td>\n",
       "      <td>251.000000</td>\n",
       "    </tr>\n",
       "    <tr>\n",
       "      <th>25%</th>\n",
       "      <td>1.000000</td>\n",
       "      <td>278.000000</td>\n",
       "    </tr>\n",
       "    <tr>\n",
       "      <th>50%</th>\n",
       "      <td>3.000000</td>\n",
       "      <td>317.000000</td>\n",
       "    </tr>\n",
       "    <tr>\n",
       "      <th>75%</th>\n",
       "      <td>5.000000</td>\n",
       "      <td>349.000000</td>\n",
       "    </tr>\n",
       "    <tr>\n",
       "      <th>max</th>\n",
       "      <td>5.000000</td>\n",
       "      <td>397.000000</td>\n",
       "    </tr>\n",
       "  </tbody>\n",
       "</table>\n",
       "</div>"
      ],
      "text/plain": [
       "         overall  num_tokens\n",
       "count  97.000000   97.000000\n",
       "mean    3.113402  319.360825\n",
       "std     1.619390   44.843056\n",
       "min     1.000000  251.000000\n",
       "25%     1.000000  278.000000\n",
       "50%     3.000000  317.000000\n",
       "75%     5.000000  349.000000\n",
       "max     5.000000  397.000000"
      ]
     },
     "execution_count": 32,
     "metadata": {},
     "output_type": "execute_result"
    }
   ],
   "source": [
    "expressive_df.describe()"
   ]
  },
  {
   "cell_type": "markdown",
   "metadata": {
    "id": "cPj_z81TSPG1"
   },
   "source": [
    "Дополнительный плюс - получаем +- равномерное распределение."
   ]
  },
  {
   "cell_type": "code",
   "execution_count": 33,
   "metadata": {
    "colab": {
     "base_uri": "https://localhost:8080/",
     "height": 265
    },
    "id": "8u8lSB3JUe3y",
    "outputId": "6274d5d3-0a9c-4aa8-8937-48b104afb569"
   },
   "outputs": [
    {
     "data": {
      "text/plain": [
       "<matplotlib.axes._subplots.AxesSubplot at 0x7fb3a4e8aed0>"
      ]
     },
     "execution_count": 33,
     "metadata": {},
     "output_type": "execute_result"
    },
    {
     "data": {
      "image/png": "[encoded data removed]",
      "text/plain": [
       "<Figure size 432x288 with 1 Axes>"
      ]
     },
     "metadata": {},
     "output_type": "display_data"
    }
   ],
   "source": [
    "expressive_df.overall.value_counts().plot.pie(autopct=\"%1.2f%%\")"
   ]
  },
  {
   "cell_type": "code",
   "execution_count": 34,
   "metadata": {
    "id": "Zy66-K5cgSPP"
   },
   "outputs": [],
   "source": [
    "# записываем в файл\n",
    "expressive_df.to_csv('expressive.csv', index=False, sep='\\t')  "
   ]
  },
  {
   "cell_type": "markdown",
   "metadata": {
    "id": "tg0vMNbKpbVN"
   },
   "source": [
    "## Профиль экспрессива"
   ]
  },
  {
   "cell_type": "markdown",
   "metadata": {
    "id": "nK9gJ8hmpfGZ"
   },
   "source": [
    "![Снимок экрана 2021-10-08 в 19.05.05.png](data:image/png;base64,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)"
   ]
  },
  {
   "cell_type": "markdown",
   "metadata": {
    "id": "RCYgFUJap0yl"
   },
   "source": [
    "### Подсчет"
   ]
  },
  {
   "cell_type": "code",
   "execution_count": 35,
   "metadata": {
    "colab": {
     "base_uri": "https://localhost:8080/",
     "height": 306
    },
    "id": "yUunHyJnvSOy",
    "outputId": "3c9a5ba6-1c7f-405e-fa74-934bd54bfd5b"
   },
   "outputs": [
    {
     "data": {
      "text/html": [
       "<div>\n",
       "<style scoped>\n",
       "    .dataframe tbody tr th:only-of-type {\n",
       "        vertical-align: middle;\n",
       "    }\n",
       "\n",
       "    .dataframe tbody tr th {\n",
       "        vertical-align: top;\n",
       "    }\n",
       "\n",
       "    .dataframe thead th {\n",
       "        text-align: right;\n",
       "    }\n",
       "</style>\n",
       "<table border=\"1\" class=\"dataframe\">\n",
       "  <thead>\n",
       "    <tr style=\"text-align: right;\">\n",
       "      <th></th>\n",
       "      <th>reviewText</th>\n",
       "      <th>overall</th>\n",
       "      <th>summary</th>\n",
       "      <th>review_summary</th>\n",
       "      <th>text_in_tokens</th>\n",
       "      <th>num_tokens</th>\n",
       "    </tr>\n",
       "  </thead>\n",
       "  <tbody>\n",
       "    <tr>\n",
       "      <th>700</th>\n",
       "      <td>I'm not gonna say that I expected better of th...</td>\n",
       "      <td>1</td>\n",
       "      <td>And No,It's Not Just Because They're The Backs...</td>\n",
       "      <td>I'm not gonna say that I expected better of th...</td>\n",
       "      <td>[i, 'm, not, gon, na, say, that, i, expected, ...</td>\n",
       "      <td>259</td>\n",
       "    </tr>\n",
       "    <tr>\n",
       "      <th>1826</th>\n",
       "      <td>This is one of the best power pop albums ever ...</td>\n",
       "      <td>5</td>\n",
       "      <td>For Plimsouls Fans Who Want To Own The Nerves'...</td>\n",
       "      <td>This is one of the best power pop albums ever ...</td>\n",
       "      <td>[this, is, one, of, the, best, power, pop, alb...</td>\n",
       "      <td>397</td>\n",
       "    </tr>\n",
       "    <tr>\n",
       "      <th>2715</th>\n",
       "      <td>I give 'All Eyez on Me' a 5 out of 5 for a num...</td>\n",
       "      <td>5</td>\n",
       "      <td>A Living Legend</td>\n",
       "      <td>I give 'All Eyez on Me' a 5 out of 5 for a num...</td>\n",
       "      <td>[i, give, 'all, eyez, on, me, a, out, of, for,...</td>\n",
       "      <td>385</td>\n",
       "    </tr>\n",
       "    <tr>\n",
       "      <th>5889</th>\n",
       "      <td>Still holds up 25 years later.Ridgway comes th...</td>\n",
       "      <td>5</td>\n",
       "      <td>Totally unique sound and vibe, dark and far of...</td>\n",
       "      <td>Still holds up 25 years later.Ridgway comes th...</td>\n",
       "      <td>[still, holds, up, years, later.ridgway, comes...</td>\n",
       "      <td>251</td>\n",
       "    </tr>\n",
       "    <tr>\n",
       "      <th>5953</th>\n",
       "      <td>Forget the Offspring and Blink 182. There is a...</td>\n",
       "      <td>4</td>\n",
       "      <td>Keeping punk rock elite</td>\n",
       "      <td>Forget the Offspring and Blink 182. There is a...</td>\n",
       "      <td>[forget, the, offspring, and, blink, there, is...</td>\n",
       "      <td>319</td>\n",
       "    </tr>\n",
       "  </tbody>\n",
       "</table>\n",
       "</div>"
      ],
      "text/plain": [
       "                                             reviewText  ...  num_tokens\n",
       "700   I'm not gonna say that I expected better of th...  ...         259\n",
       "1826  This is one of the best power pop albums ever ...  ...         397\n",
       "2715  I give 'All Eyez on Me' a 5 out of 5 for a num...  ...         385\n",
       "5889  Still holds up 25 years later.Ridgway comes th...  ...         251\n",
       "5953  Forget the Offspring and Blink 182. There is a...  ...         319\n",
       "\n",
       "[5 rows x 6 columns]"
      ]
     },
     "execution_count": 35,
     "metadata": {},
     "output_type": "execute_result"
    }
   ],
   "source": [
    "expressive_df.head()"
   ]
  },
  {
   "cell_type": "code",
   "execution_count": 36,
   "metadata": {
    "id": "GYHIu0j3OZ5e"
   },
   "outputs": [],
   "source": [
    "import math"
   ]
  },
  {
   "cell_type": "code",
   "execution_count": 37,
   "metadata": {
    "id": "PcLRw093p6ch"
   },
   "outputs": [],
   "source": [
    "def tokencount(x_n, r_cat):\n",
    "  \n",
    "    \"\"\"\n",
    "    количество появлений токена в категории рейтинга:\n",
    "    x_n - искомый токен, r_cat - категория\n",
    "    \"\"\"\n",
    "\n",
    "    counter = []\n",
    "    txt_tok = expressive_df[expressive_df.overall == r_cat].text_in_tokens.tolist()\n",
    "\n",
    "    for text in txt_tok:\n",
    "    # сделаем так, чтобы странные конструкции,\n",
    "    # с добавленными специфичными символами, но такими, где есть \"trash\" попали\n",
    "      \n",
    "        for word in text:\n",
    "            if x_n in word:\n",
    "                counter.append(word)\n",
    "\n",
    "    return len(counter)\n",
    "\n",
    "\n",
    "def widecount(x_n, r_cat):\n",
    "\n",
    "    \"\"\"\n",
    "    количество слов длины n (от длины экспрессива x_n)\n",
    "    в категории r_cat\n",
    "    \"\"\"\n",
    "\n",
    "    txt_tok = expressive_df[expressive_df.overall == r_cat].text_in_tokens.tolist()\n",
    "\n",
    "    new_l = []\n",
    "    for text in txt_tok:\n",
    "        for word in text:\n",
    "            if len(word) == len(x_n):\n",
    "                new_l.append(word)\n",
    "\n",
    "    return len(new_l)\n",
    "\n",
    "\n",
    "\n",
    "def log_odds(x_n, r_cat):\n",
    "\n",
    "    \"\"\"\n",
    "    формула распределения логарифмических коэффициентов \n",
    "    для заданной категории r_cat\n",
    "    \"\"\"\n",
    "\n",
    "    count_xn_r = tokencount(x_n, r_cat)\n",
    "    count_nr = widecount(x_n, r_cat)\n",
    "    funk = math.log(count_xn_r / (count_nr - count_xn_r))\n",
    "\n",
    "    return funk"
   ]
  },
  {
   "cell_type": "code",
   "execution_count": 38,
   "metadata": {
    "id": "LEHHr0hC297d"
   },
   "outputs": [],
   "source": [
    "# значения для категорий\n",
    "\n",
    "list_categories = []\n",
    "\n",
    "for i in range(5):\n",
    "    list_categories.append([i+1, log_odds(expressive_target, i+1)])"
   ]
  },
  {
   "cell_type": "code",
   "execution_count": 39,
   "metadata": {
    "colab": {
     "base_uri": "https://localhost:8080/"
    },
    "id": "YyOomMfj2vAt",
    "outputId": "c4349bc4-c9e2-47b9-e5df-76eaca1fb152"
   },
   "outputs": [
    {
     "data": {
      "text/plain": [
       "[[1, -3.21796632048536],\n",
       " [2, -3.3015186994717602],\n",
       " [3, -3.578604923653681],\n",
       " [4, -3.7376696182833684],\n",
       " [5, -3.588408923750302]]"
      ]
     },
     "execution_count": 39,
     "metadata": {},
     "output_type": "execute_result"
    }
   ],
   "source": [
    "list_categories"
   ]
  },
  {
   "cell_type": "code",
   "execution_count": 40,
   "metadata": {
    "id": "fbnWQ4J_3Hx0"
   },
   "outputs": [],
   "source": [
    "# количество слов-экспрессивов (учтем, так как они распределены в категориях)\n",
    "\n",
    "count_expressives = []\n",
    "\n",
    "for i in range(5):\n",
    "    count_expressives.append([i+1, tokencount(expressive_target, i+1)])"
   ]
  },
  {
   "cell_type": "code",
   "execution_count": 41,
   "metadata": {
    "colab": {
     "base_uri": "https://localhost:8080/"
    },
    "id": "10oZb9-v3jEA",
    "outputId": "097f70a6-b498-426f-b256-028b987ea021"
   },
   "outputs": [
    {
     "data": {
      "text/plain": [
       "[[1, 44], [2, 13], [3, 17], [4, 17], [5, 34]]"
      ]
     },
     "execution_count": 41,
     "metadata": {},
     "output_type": "execute_result"
    }
   ],
   "source": [
    "count_expressives"
   ]
  },
  {
   "cell_type": "markdown",
   "metadata": {
    "id": "biEBzqb_4RZt"
   },
   "source": [
    "Как мы видим, больше всего экспрессивов содержится в 1 и 5 категориях, категория 2 самая малочисленная по количеству экспрессивов. \n",
    "\n",
    "Всего: 125 вхождений \"trash\"."
   ]
  },
  {
   "cell_type": "markdown",
   "metadata": {
    "id": "6kcpeJ_GZ0x2"
   },
   "source": [
    "### График и анализ"
   ]
  },
  {
   "cell_type": "code",
   "execution_count": 42,
   "metadata": {
    "id": "-IhNj4IxZ0Hf"
   },
   "outputs": [],
   "source": [
    "import matplotlib.pyplot as plt"
   ]
  },
  {
   "cell_type": "code",
   "execution_count": 43,
   "metadata": {
    "id": "ZQIekYleamU5"
   },
   "outputs": [],
   "source": [
    "x = [int(coord[0]) for coord in list_categories]\n",
    "y = [coord[1] for coord in list_categories]"
   ]
  },
  {
   "cell_type": "code",
   "execution_count": 44,
   "metadata": {
    "colab": {
     "base_uri": "https://localhost:8080/",
     "height": 295
    },
    "id": "ftphzFkoQyD4",
    "outputId": "a5faa145-c351-4c60-a0a5-d85a1e56219a"
   },
   "outputs": [
    {
     "data": {
      "image/png": "[encoded data removed]",
      "text/plain": [
       "<Figure size 432x288 with 1 Axes>"
      ]
     },
     "metadata": {
      "needs_background": "light"
     },
     "output_type": "display_data"
    }
   ],
   "source": [
    "plt.scatter(x, y, alpha=0.5)\n",
    "plt.title('Log odds для экспрессива')\n",
    "plt.xlabel('rating')\n",
    "plt.ylabel('log odds')\n",
    "plt.show()"
   ]
  },
  {
   "cell_type": "markdown",
   "metadata": {
    "id": "lNVIUMtJSz3L"
   },
   "source": [
    "## Рергессионная модель для данных"
   ]
  },
  {
   "cell_type": "code",
   "execution_count": 45,
   "metadata": {
    "id": "d4s8342D5r3R"
   },
   "outputs": [],
   "source": [
    "from sklearn.linear_model import LinearRegression"
   ]
  },
  {
   "cell_type": "markdown",
   "metadata": {
    "id": "wr2sVNT5_Pc-"
   },
   "source": [
    "Вязла [отсюда](https://python-school.ru/blog/linear-regression-basis/)"
   ]
  },
  {
   "cell_type": "code",
   "execution_count": 46,
   "metadata": {
    "id": "kT9YdOqt5s-s"
   },
   "outputs": [],
   "source": [
    "# делаем array\n",
    "\n",
    "x_ar = [[int(el)] for el in x]\n",
    "\n",
    "#  no intercept will be used in calculations. => используем\n",
    "reg_lin = LinearRegression(fit_intercept=True).fit(x_ar, y)\n",
    "\n",
    "new_y = []\n",
    "# подготваливаем формулу для регрессии b0 +b1x\n",
    "# b0 - intercept\n",
    "for coord in x_ar:\n",
    "    b0 = reg_lin.intercept_\n",
    "    b1 = reg_lin.coef_[0]\n",
    "    new_y.append(b0 + b1*coord[0])"
   ]
  },
  {
   "cell_type": "code",
   "execution_count": 47,
   "metadata": {
    "colab": {
     "base_uri": "https://localhost:8080/"
    },
    "id": "npYYPgSN-l6L",
    "outputId": "26fa01d9-ae33-4229-af29-78afc9f5ca53"
   },
   "outputs": [
    {
     "data": {
      "text/plain": [
       "[-3.249426472060596,\n",
       " -3.367130084594745,\n",
       " -3.4848336971288942,\n",
       " -3.6025373096630435,\n",
       " -3.720240922197193]"
      ]
     },
     "execution_count": 47,
     "metadata": {},
     "output_type": "execute_result"
    }
   ],
   "source": [
    "new_y"
   ]
  },
  {
   "cell_type": "code",
   "execution_count": 48,
   "metadata": {
    "colab": {
     "base_uri": "https://localhost:8080/",
     "height": 295
    },
    "id": "E5-wKrAt6eN-",
    "outputId": "692ce67c-cdfb-4f25-e462-e4cc58f7a860"
   },
   "outputs": [
    {
     "data": {
      "image/png": "[encoded data removed]",
      "text/plain": [
       "<Figure size 432x288 with 1 Axes>"
      ]
     },
     "metadata": {
      "needs_background": "light"
     },
     "output_type": "display_data"
    }
   ],
   "source": [
    "plt.plot(x_ar, new_y, color='red')\n",
    "plt.scatter(x, y, alpha=0.5)\n",
    "plt.title('Log odds для экспрессива')\n",
    "plt.xlabel('rating')\n",
    "plt.ylabel('log odds')\n",
    "plt.show()"
   ]
  },
  {
   "cell_type": "markdown",
   "metadata": {
    "id": "tG3kjPDz_H4Y"
   },
   "source": [
    "Взяла [отсюда](https://www.statology.org/quadratic-regression-python/)"
   ]
  },
  {
   "cell_type": "code",
   "execution_count": 49,
   "metadata": {
    "id": "2Smw9P71_aEc"
   },
   "outputs": [],
   "source": [
    "import numpy as np"
   ]
  },
  {
   "cell_type": "code",
   "execution_count": 50,
   "metadata": {
    "colab": {
     "base_uri": "https://localhost:8080/",
     "height": 295
    },
    "id": "pEXr7qQI-75r",
    "outputId": "afb390b6-7582-4dca-d9cb-9b99b33aec12"
   },
   "outputs": [
    {
     "data": {
      "image/png": "[encoded data removed]",
      "text/plain": [
       "<Figure size 432x288 with 1 Axes>"
      ]
     },
     "metadata": {
      "needs_background": "light"
     },
     "output_type": "display_data"
    }
   ],
   "source": [
    "# тоже самое для кв регрессии\n",
    "\n",
    "model_quad = np.poly1d(np.polyfit(x, y, 2))\n",
    "\n",
    "#(start, stop, num) => (1,5)\n",
    "polyline = np.linspace(1, 5)\n",
    "\n",
    "plt.plot(polyline, model_quad(polyline), color='green')\n",
    "plt.plot(x_ar, new_y, color='red')\n",
    "plt.scatter(x, y, alpha=0.5)\n",
    "plt.title('Log odds для экспрессива')\n",
    "plt.xlabel('rating')\n",
    "plt.ylabel('log odds')\n",
    "plt.show()"
   ]
  },
  {
   "cell_type": "markdown",
   "metadata": {
    "id": "RoNaSBKhS4uK"
   },
   "source": [
    "Для графика лучше всего подойдет квадратичная регрессия, причем такая, что:\n",
    "\n",
    "\n",
    "\n",
    "*   квадратичный коэффициент положительный (вершина функции ниже концов), p - значимый\n",
    "*   линейный коэффициент отрицательный (функция убывает), p - значимый\n",
    "\n",
    "\n",
    "То есть, смотря на график мы видим, что у нас нет линейности (в 4 употреблений меньше, чем в 5). Значит, у нас есть квадратичная регрессия (не прямая, а кривая, так как видно, что есть квадратичные коэффициенты). Более того, видно, что от 1 к 5 функция убывает. \n",
    "\n",
    "+ смотря на график, и сранивая квадратичную и линенейную регрессии видно, скалыдвается ощущение, что квадратичная все же лучше подходит (хотя и не супер идеально - игнорирует 4 как будто, зато попадает в другие точки)\n",
    "\n",
    "Комментарий: меня немного смущало, что log odds получились не очень большими. Думаю, что это связано с тем, что вхождений слова в подкорпусе не очень много и на большем количестве данных ситуация могла бы измениться. + как оказалось (уже после того, как я все проанализировала), в диджитал музыки есть такое ответвление как треш жанр, возможно, в данном случае, это повляило на результаты, так как автоматически не всегда можно это отследить (маркируется это также как и то, что нам нужно с точки зрения морфологии и обозначается людьми по-разному, иногда просто имплицитно).\n"
   ]
  },
  {
   "cell_type": "markdown",
   "metadata": {
    "id": "gVJLN4sCjjeL"
   },
   "source": [
    "## Профиль и его анализ"
   ]
  },
  {
   "cell_type": "markdown",
   "metadata": {
    "id": "auOzCGpZkq3X"
   },
   "source": [
    "Какой профиль получился -- U-образный, J-образный, перевернутое U или что-то другое? Проиллюстрируйте распределение примерами. Подтвердилась ли изначальная гипотеза? Есть ли среди корпусных данных неожиданные и интересные случаи?"
   ]
  },
  {
   "cell_type": "markdown",
   "metadata": {
    "id": "XjAJjIzlkrgH"
   },
   "source": [
    "### Какой профиль получился\n",
    "\n",
    "В ходе анализа получился **J-образный перевернутый профиль (J-shpae reverse)**. Наша гипотеза **подтвердилась**.\n",
    "\n",
    "\n",
    "---\n",
    "\n"
   ]
  },
  {
   "cell_type": "markdown",
   "metadata": {
    "id": "IIvnOmhf83yD"
   },
   "source": [
    "При этом, интересным дополнением стало бы то, что, смотря на корпус с 469 вхождениями (полный корпус) мы получили бы чуть-чуть другую картину: (запустила уже после выполнения всего остального для сравнения)"
   ]
  },
  {
   "cell_type": "code",
   "execution_count": 65,
   "metadata": {
    "id": "DZH9fkqr9BoK"
   },
   "outputs": [],
   "source": [
    "expressive_df = new_df[['reviewText', 'overall',\n",
    "                        'summary', 'review_summary',\n",
    "                        'text_in_tokens']]"
   ]
  },
  {
   "cell_type": "code",
   "execution_count": 66,
   "metadata": {
    "id": "QJadNVjq9Gyl"
   },
   "outputs": [],
   "source": [
    "list_categories = []\n",
    "\n",
    "for i in range(5):\n",
    "    list_categories.append([i+1, log_odds(expressive_target, i+1)])"
   ]
  },
  {
   "cell_type": "code",
   "execution_count": 67,
   "metadata": {
    "colab": {
     "base_uri": "https://localhost:8080/",
     "height": 295
    },
    "id": "2R_uW3ZZ9Kq4",
    "outputId": "45e83f82-5185-41c1-8c04-d28c89c0e3ae"
   },
   "outputs": [
    {
     "data": {
      "image/png": "[encoded data removed]",
      "text/plain": [
       "<Figure size 432x288 with 1 Axes>"
      ]
     },
     "metadata": {
      "needs_background": "light"
     },
     "output_type": "display_data"
    }
   ],
   "source": [
    "x = [int(coord[0]) for coord in list_categories]\n",
    "y = [coord[1] for coord in list_categories]\n",
    "\n",
    "x_ar2 = [[int(el)] for el in x]\n",
    "\n",
    "\n",
    "reg_lin2 = LinearRegression(fit_intercept=True).fit(x_ar2, y)\n",
    "\n",
    "new_y2 = []\n",
    "for coord in x_ar2:\n",
    "    b0 = reg_lin2.intercept_\n",
    "    b1 = reg_lin2.coef_[0]\n",
    "    new_y2.append(b0 + b1*coord[0])\n",
    "\n",
    "\n",
    "model_quad2 = np.poly1d(np.polyfit(x, y, 2))\n",
    "polyline2 = np.linspace(1, 5)\n",
    "\n",
    "plt.plot(polyline2, model_quad2(polyline2), color='green')\n",
    "plt.plot(x_ar2, new_y2, color='red')\n",
    "\n",
    "\n",
    "plt.scatter(x, y, alpha=0.5)\n",
    "plt.title('Log odds для экспрессива')\n",
    "plt.xlabel('rating')\n",
    "plt.ylabel('log odds')\n",
    "plt.show()"
   ]
  },
  {
   "cell_type": "markdown",
   "metadata": {
    "id": "hMqlvLeu9REC"
   },
   "source": [
    "Результат этот практически подтверждает то, что мы получили ранее, но все-таки отличается.\n",
    "\n",
    "3 и 5 получают практически одинаквые значения, а 4 - совсем немного меньше их по log odds. Мы видим, что квадратичная регрессия также подходит тут лучше линейной.\n",
    "\n",
    "Таким образом, я склонялась бы к тому, что профиль все-таки квадратичный, чем линейный. \n",
    "\n",
    "---\n",
    "\n"
   ]
  },
  {
   "cell_type": "markdown",
   "metadata": {
    "id": "_VE5q_y6-48o"
   },
   "source": [
    "Просмотрим все категории о пишем, что происходит в них и почему распределение такое, какой получилось"
   ]
  },
  {
   "cell_type": "code",
   "execution_count": 54,
   "metadata": {
    "colab": {
     "base_uri": "https://localhost:8080/"
    },
    "id": "naLZF8ToLzgl",
    "outputId": "a3e73de2-b72c-403f-a4c0-47f21cf7549a"
   },
   "outputs": [
    {
     "data": {
      "text/plain": [
       "5    29\n",
       "1    28\n",
       "4    17\n",
       "3    15\n",
       "2     8\n",
       "Name: overall, dtype: int64"
      ]
     },
     "execution_count": 54,
     "metadata": {},
     "output_type": "execute_result"
    }
   ],
   "source": [
    "expressive_df.overall.value_counts()"
   ]
  },
  {
   "cell_type": "markdown",
   "metadata": {
    "id": "s_Vy1nMjmMLZ"
   },
   "source": [
    "####  Категория 1"
   ]
  },
  {
   "cell_type": "markdown",
   "metadata": {
    "id": "HFf199axBero"
   },
   "source": [
    "Вторая по частотности категория и первая по количеству употреблений слова trash.\n",
    "\n",
    "\n",
    "\n",
    "1.   Используется преимущественно негативный окрас. Слово  имеет негативную полярность. \n",
    "\n",
    "     `I can\\'t think of one good thing about this trash except that you actually like the songs for about 3 seconds until you come back to reality.`\n",
    "\n",
    "     `You\\'ve got to be kidding me - Pimp singing on the chorus \"I need a prostitute,\" is just ignorant trash and dreadful music if you want to call that music.` \n",
    "\n",
    "     `so, here it is. the follow up to that damned trash heep get rich or die trying'`\n",
    "\n",
    "2.   Интересно то, что для того, чтобы показать, насколько все плохо в песне/альбоме людьми используется усиление, путем увеличения количества экспрессивов:\n",
    "\n",
    "    `if you havent thrown it out the window by now. trash, trash, and more trash...`\n",
    "\n",
    "3.  Для подкрепления того, что песня/альбом совсем плохи, говорящие могут переходить на личность слушателей, кому альбом понравился + добавляются оскорбления:\n",
    "\n",
    "    `\"For the love of God any youngster who loves this trash...WAKE UP AND SMELL THE COFFEE.` (если бы мы заменили просто на song эффекта экспрессии бы не было)\n",
    "  \n",
    "4.  Экспрессивность может осложняться такими штуками как piece of ..., что только усиливает негативный оттенок слова:\n",
    "\n",
    "    `Before I conclude my review on this piece of trash, I would like to comment on something that I saw this band do to one of their fans.`\n",
    "\n",
    "    Также как и в некоторых других категориях тут появляются штуки типа \"trash can material\", что усиливает понимание того, что музыка - мусор.\n",
    "\n",
    "5.  Очень неожиданным и инетресным случаем оказался пример, в котором треш представлен в значении \"тяжелые\" = крутые/положительные. То есть тут скорее позитивная полярность, чем отрицательная:\n",
    "\n",
    "   ` The first two albums had so much creativity for  example  the jazz breaks followed by the insane Trash breaks in \"Sugar\" or the beautiful, yet so dark \"Aerials\"`\n",
    "\n",
    "\n",
    "В целом, отзывы данной категории агрессивные и очень негативные. Экспрессив имеет негативную полярность, однако есть некоторые выбросы, для которых невозможно однозначно сказать, негативная полярность у экспрессива или позтивная."
   ]
  },
  {
   "cell_type": "code",
   "execution_count": 55,
   "metadata": {
    "id": "Vy6-WffslFoZ"
   },
   "outputs": [],
   "source": [
    "cat1 = expressive_df[expressive_df.overall == 1].review_summary.tolist()"
   ]
  },
  {
   "cell_type": "code",
   "execution_count": 56,
   "metadata": {
    "colab": {
     "base_uri": "https://localhost:8080/"
    },
    "id": "C-YV4G89lSq6",
    "outputId": "39e90dbe-fc3d-4232-cc5d-a2e8bc4b4638"
   },
   "outputs": [
    {
     "data": {
      "text/plain": [
       "['I\\'m not gonna say that I expected better of this album,because I seriously didn\\'t.I knew this album was going to be the start of a horrible era...the boyband era ALL OVER AGAIN!I knew that this album was going to SUCK once I heard \"We Got It Goin\\' On\".But,I have to admit,I tried to be fair and like at least one song,but I just couldn\\'t!Every song is so damn obnoxious and so manufactured,it\\'s almost as if you\\'re forced not to like them,unless of course you\\'re a girl in her teens willing to scream for any group with a little sex appeal.Sure,all the songs make you wanna kill yourself if you actually listen to GOOD music,but the most annoying are definitely \"Everybody(Backstreets\\'Back)(back from where?)\" and the horrible vomit-worthy cover of \"Set Adrift On Memory Bliss\".And the vocals:Lord save me now!Nick Carter sounds like a deeper version of Alanis Morisette on crack(sorry for insulting a music genius like you,Alanis)!I can\\'t think of one good thing about this trash except that you actually like the songs for about 3 seconds until you come back to reality.Sure,they\\'re a manufactured boy band and that\\'s bad enough,but they could\\'ve at least given a 2-star effort!The Verdict:Why this sold so much is beyond me!Recommended:I think you know my answer! And No,It\\'s Not Just Because They\\'re The Backstreet Boys!',\n",
       " 'This may be the second worst Priest album after Ram it Down. Rocka Rolla can be excused because the band hadn\\'t found its sound yet, Turbo and Point of Entry are excuseable because the band (and the fans) looked at both albums as experients. There\\'s no such redemption here, this album is every bit as bad as Ram it Down. Granted, then first two tracks (Freewheel Burning and Jawbreaker) are awesome songs, the rest are all completely forgettable. Even look at the stupid song titles (Love Bites, Heavy Duty, Turn On Your Light). Love Bites is a mind-numbingly awful track with stupid lyrics about Vampires (Vampires are awesome but not here). Heavy Duty and the title track both stink, in fact both are the two worst priest songs ever. Some Heads are Gonna Roll has a good solo but that\\'s it. Eat Me Alive has a good intro, and then goes downhill from there.And another thing, the lyrics are TERRIBLE. Yeah Painkiller had stupid lyrics too but it could get away with it because the music was so damned awesome. There\\'s no such redemption for that too, the lyrucs are stupid. With dumb lyrics like \"We\\'re gonna rock you till your metal hunger\\'s fed\", \"Let\\'s all join forces- rule with an iron hand- and prove to all the world- Metal rules the land\" as well as \"With animal lust they\\'ll devour your life- and slice your word to bits like a knife\". This is especially shocking since Halford wrote the lyrics. Wasn\\'t Halford supposed to be the \"Metal God\" or something? As for the production is terrible too- the guitars sound like keyboards, the drums sound like Holland is banging on a plastic cup, and the bass is too loud. THere are noticeable volume drops on the album too.How this trash got the reputation of \"Best Priest Album\" is beyond me. Cut your teeth on \"Killing Machine\" or \"Sad Wings of Destiny\" or even \"Painkiller\" instead, if you must. Some eyes are gonna roll',\n",
       " \"For the love of God any youngster who loves this trash...WAKE UP AND SMELL THE COFFEE. Is it just me or is this exactle what answers my question about the dumbening down of Americas youth. This band is nothing but pure garbage. When I borrowed this CD from a classmate about a year ago just after this album came I laughed at the stupidity of the content of what came out of my boombox. Hot Dog was so stupid I couldn't help but laugh at Fred Durst for making a complete and total fool out of himself. It's also funny how a band tries to put the F word into a song and yell it over 50 times in just under 4 minutes of endless noise. It's so sad that our culture is becoming low-life when worthless bands like them are shoving this garbage down the throat of America. There is nothing good to say about this really BAD CD. I have never heard such musical vomit in my life.DO NOT call me some 50 year old bald man because I,m 19 years old and I am appalled at the fact that many 13-16 year olds paying more attention on how 'cool' they are by using obscenity than how smart they really are. Well what I can say is that music is really dead if this is what the future holds for our countrys music scene.Buy Roland Orzabals Tomcats Screaming Ourside(One of the best pop albums I,ve heard in years), Bjorks Vespertine, or anything by Afro Celt Sound System. Bloody hell even Korn does better than this. Am I the only 19 year old who hates this??!!!!!!!!\",\n",
       " 'For some reason about 3 years ago i used to like this b^tch for some f!\"king reason, I bought this and played it on my cd player and for the whole 80 MINUTES (yes 80 minutes of this sh%t) I didn\\'t like it. Yeah there was about one track I might of nearly liked but I have never listened to the whole thing since and i\\'m planning on selling this sh^t. That says alot about the cd.Well there is about 25 tracks for P diddy and the bad boy family which was made in 2001 or 2002 I dont know but i dont like this. P diddy\\'s rhymes are weaker than a 2 year old and the production is just wack. All he rhymes is cash, bling, saying his name over and over, and saying bad boy over and over again.i fyou own this pick this up off ya collection go over to ya window open it and this dis 25 track pile of dogsht in the trash where it belongs or sell it to some idiot who thinks it is good. Instead of this pop rap wackness buy one of these REAL cd\\'sSlick Rick-the great adventures of..Eric B and Rakim-Paid in FullGZA-Liquid SwordsNaughty by nature-Naughty by NatureIce Cube-death certificateBig l-lifestyles ov da poor and dangerousmethod man-ticalGangstarr-Full Clip:Ten years of gangstarr 89 99Jeru the damaja-The sun rises in the eastDo not listen to P diddy and get one of the above.Thats all I have to say about that sh-t DO NOT WASTE YOUR MONEY ON THIS!',\n",
       " 'The way this guy cusses and talks extremely fast over a messy beat makes me want to hurl. It\\'s the saddest thing in the world that teenagers and some young adults think that THIS is \"cool.\"  I\\'m a preteen, and I DO NOT think that this is the definition of \"cool.\" Maybe it\\'s just me, as a 12-year old, has a better taste of music than any ordinary 17-year old, who LIKES this trash. Why can\\'t this guy just go back to jail, where he belongs? He only teaches teenagers rudeness and disrespect. That\\'s what rap does. I\\'m sorry, but I have to announce this Eminem has no talent. Talking fast and cussing isn\\'t a talent, nor is it music. I don\\'t feel sorry for him either.It scares me that people play this on the radio, and it makes it to the top 10 hits. It also scares me that only  of SMART teenagers with great musical taste hate this stuff. Hopefully this nightmare will be over in a year or so when this kind of music goes bad, just like what happened with bubblegum pop, and everybody hates it and doesn\\'t listen to it anymore. 50 Cent, Nelly, and especially Eminem all need to GO AWAY. Why can\\'t people just SING, not rap, for once? I\\'m just glad that we have great pop and rock artists with REAL talent, like Michelle Branch, Evanescence and Avril Lavigne; otherwise our music world and its industry would die. Belongs in the trash.,',\n",
       " \"Lil Kim IS the worst female mc to touch the mic.  I don&#65533;t know what happened to her.  Her debut album was kinda tight and she showed promise on the Junior Mafia album but from there she has gone downhill.  FAST.  She has no originality ( in music ) whatsoever.  When I listen to this cd I feel like I&#65533;ve been here before.  First off her lyrics aren&#65533;t original&#65533;I can deal with beats being reused but when it&#65533;s lyrics it gets annoying.  She steals lyrics from basically everywhere (mostly BIG) and hooks too.  Secondly she steals voice from the Notorious BIG and Foxy Brown.  Since when does Lil Kim have a Jamaican accent or Carribean roots?  That was a complete jack move if you ask me.The beats on the album are borderline unlistenable.  Even the single &#65533;Jump Off&#65533;, which was produced by Timbaland, is not bumping.  The guests steal the show&#65533;Twista, 50 Cent, and Styles P seem to overshadow Lil Kim&#65533;s performance and that is just unacceptable.  She also chooses to flaunt her body and sexuality on the album when in reality she is not the least bit attractive or sexy.  The Swizz Beats track is quite possibly the worst song of the year.  And what was the fascination with putting Lil Shanice on &#65533;Shake Ya Bum&#65533; ?  CORNY!  When your friends come to your house make sure you hide this so they won&#65533;t know you have it.  Because if they see this they will clown you till the end of time.  WACK.Man after the horrendous &#65533;Notorious KIM&#65533;, I gave Lil Kim a chance to redeem herself and she has failed me horribly.  Lil Kim has proved with this album that Foxy Brown has always had more talent, beauty, flow and originality&#65533;stay away from this trash. It's Official...\",\n",
       " 'Linkin Park has released their next amazing album! That\\'s right, amazingly s&**$y! I still don\\'t understand how people call this trash music.The lyrics are terrible! Chester Bennington tries to write good lyrics to show he is an intelligent man, but he fails miserably. Instead of sounding good, he ends up sounding like a whiney 7 year old who can\\'t get his way. He says his life sucks...\"I\\'m so rich, and my band is one of the biggest bands in the world, it\\'s so terrible, I just want to take back my life!!!\" Idiot.The music is just as bad. The guitar is just one riff played over and over with a remix to add \"diversity\", the bass isn\\'t heard, the drums are the sound of what ypu\\'d get if you threw drum parts on the wall, and don\\'t get me started on the DJ...I bet none you stupid Linkin Crap fans have ever heard of Nile. They have only THREE, yes THREE, members in their band, and they have more talent in their nuts than everyone in LP combined! Their song \"Unas: Slayer Of The Gods\" has an amazing intro that has more complexity, thought, and intelligence then every Linkin Park song combined.Here\\'s an idea: listen to real music like Dream Theater, Sprial Architect (WARNING: The bassist in this band can be heard and you might not be able to take it, but if you talk tarsh about this band you will truly regret it), Opeth, Death, Meshuggah, Carcass, Manowar, Napalm Death, Dying Fetus, Mayhem, Venom, Emperor, Testament, Iron Maiden, Black Sabbath, Judas Priest, Sepultura, Slayer, Megadeth, Anthrax, Metallica (hell, even the new stuff is better than this garbage!), In Flames, Iced Earth, Blind Guardian, etc. I could go on, but my hands are getting tired. Oh yeah, one last thing: f*** Linkin Park! Hey kiddies!',\n",
       " \"I'm sick and tired of seeing club, bootie shaking, cars, and cash,videos, with rappers who just can't rap at all!!  Now heres one contributing to that peice o trash legacy.Now Ludacris, he can rap, but now he's just going pop, and it's making him wack.  Now, in my mind, he's just as annoying as 50 cent!!  It seems nowdays rappers just can't rap about anything else for some reason.  It makes me sick to my stomach!!  This is one of the reasons why I hardly tune into BET!!  I hate it when rappers are acually good, they wanna do what the teens ant them to do to get rich, which is good for them, but it's painful music to my ears!!Anyway, This album just made Ludacris De/evolve more into a piece o trash Stand up is trash, p'poppin is trash, splash waterfalls is trash, Hard times is trash, screwd up is trash, Diamonds in the back is trash, blow it out is trash(He sampled it from the untouchables), and I didn't listen past the point of P'poppin cuz it was just painful.Whoever like this stuff, will libaley hate me, but those who don't like this trash, and listened to it, I feel your pain, and rap is just dead nowdays!  The only good rap nowdays, is Dead Prez, Diolated peoples, and maybe Lil Flip, and thats about it!!  I wish AZ, Nas, Mobb Deep, Luniz, Rakim, GZA, KRS-1, Kool G Rap, M.O.P., Gangstarr, MCeight, Big Daddy Kane, and Scarface, would come back somehow someway, and show what real hip-hop is.peace This repetitive legace must end!!\",\n",
       " 'I don\\'t know the members of G-Unit and I don\\'t want to. However, I know for sure that these are fake ass thugs trying to bite on \\'Pac\\'s music. If G-Unit truly stands for \"Gangsta Unit\", they need to think twice about their name. 50 Cent is and NEVER will be a GANGSTA. What you look at when you see 50 \"Loose Change\" Cent is a WANKSTA, a wannabe gangsta, a wannabe 2Pac, a wannabe thug. 50 Cent will never be a dope rapper, he ain\\'t even a rapper. And what sickens me is the fact that Dr. Dre is down with this stupid n*gga. What happened to the Dre that used to be hardcore like his N.W.A. days?Gay Unit is the reason why so many people are hating on rap music. Because these idiots, along with a lot of soft f*cks in the game, are ruining the GREAT image of rap music. And to be honest, I\\'m starting to turn away from rap music, even though I\\'ve been a long time listener of rap music. Honestly, Gay Unit are a menace to society. They need to ban this garbage rather than banning the true sh*t. Why is it that the realists are getting banned for incredible rhymes they create and when fake ass thugs come out with trash and rubbish, they don\\'t get banned? The media are even hypnotized by these annoying little critters.Gay Unit make me sick, 50 Cent makes me sicker. Gay Unit, if you\\'re reading this, I seriously suggest you should get out of the game and allow the REALISTS to keep rap alive.Listen to \"So Many Rappers in Love\" by Westside Connection and \"Peace of Mine\" by Gang Starr and you\\'ll see why these suckers are no where near going to be rappers. G-G-GAAAY UNIT!',\n",
       " 'A friend of mine purchased this latest Lamb Of God release, and wanted to listen to it in my car, so I let him put it in. This album sounds like someone sending a piece of wood through a chipping machine, while screaming and beating on a trashcan. I couldn\\'t believe that my friend liked garbage like this. It has no good drum beat and no good guitar or bass playing, just lots of useless noise. The band might not be half bad if the lead singer actually sang. That\\'s right, instead of screaming a bunch of jibberish that no one can understand, why not do what good rock singers do, just sing! Before I conclude my review on this piece of trash, I would like to comment on something that I saw this band do to one of their fans. As many of you may know, MTV has a new show called \"Battle For Ozzfest\" where multiple bands compete for a chance to make it big in the death metal scene. Anyway, on the other nights episode, the members of one band were given the task of dressing up in various embarassing costumes and then going out on stage to introduce the bands. The one guy that had to introduce Lamb Of God was wearing some sort of short shorts and a fake gold dollar sign necklace. Well, the lead singer of Lamb Of God figured that it would be cool to harass and further embarass this guy all through their show. They made the man do stupid dances while they played and at one point the lead singer of Lamb Of God spit in the guys face and then the bands security threw the man off stage. This made me sick. I will never support a band or musical artist that treats their fans in that way. Later that night, the guitar player from Lamb Of God tried to repent by inviting the guy to some cheap drinking party on a tour bus. That gesture did not impress me one bit. The actions and music of this band are truly sickening. Pure Garbage',\n",
       " 'LOL...Wow look what we have here...another album from thiz immature male that gotz a mind of a 12 yr old girl...that tries to act like a thug...Face it STANS (F@gg0t Eminem fans) you have to admit that this cd suckz azz...stop tryin to defend pop muzik...I mean look at hundredz of unbelievable 1 star ratings...and whats worse is that many of theze Stans dont even like thiz garbage...hahahaha...For thoze that think Em\\'s songs are funny...are a bunch of mindless 14 yr old or younger females or homos that like to giggle alot...Eminem tries to sucker you teens (Suckaz) by buying his Limited Edition version with his picture, dvd, and a bunch of other crap in that album...Well I try to explain what album is good and what album iz trash (On other reviews)...but the Radio, MTV, BET & other new TV video crap haz taken over theze brainless teens mindz...like zombies...and try to attack me with powerful wordz like \"your a hypocrite, your full of $h!t, I hate you...etc.\" and try to defend Mr Radio, MTV, BET and of course POP muzik :*(...SAD...LOL...:D...you have to admit that rap or may I say \"HIP-POP\" has changed alot az the yearz go by and muzik iz gettin worse n worse...and Eminem gets goofier, more stupid & retarded az he keepz making albumz...then yall will realize that he iz garbage...Well that is all i got to say about thiz review...and I will wait for a brainless hater (crybaby) that talkz about a review about me & talk $h!t bout me....so I can laugh at yo stupid azz whining...Juss to let you know...dont waste yo breath n time to talk & make a review bout me cuz you aint going to change me...lol...Itz a damn net review...deal wit it...b!tch :)I am OUT...Have a nice day :)`[...] Stans take the bait...lol....Face It Stans..this cd is trash',\n",
       " \"Man what happen to Eminem. He just droped the ball on this album. Wack lyrics and weak beats is what sums this album up. I never thought Eminem was the greatest rapper(MTV veiwers say that) but he had good songs.  Eminem always has that funny or catchy single like The Real Slim Shady or Without Me, but Just Loose It was a terrible song. It looks like Eminem just didn't have anything else to write about. The Marshell Matthers LP and the Eminem Show were good albums. Not classic albums but they had some good beats and good lyrics. The Slim Shady LP had good Beats but some bad lyrics except for Guilty Conscience and Bad Meets Evil. But thats his debut album so whats Eminem's excusse for putting this trash out. Puke, My First Single, Rain Man, and Big Wennie are stupid and annoying songs. The beats in this album also are weak. I don't know how much Dre had some input but this isn't Dre's best work. Dr. Dre needs to slap eminem for putting this album out. It gives Dre a bad name and Aftermath. I only liked two songs on this album. Never Enough featuring Nate Dogg and 50 Cent was pretty good, and Encore Feat. Dr. Dre & 50 Cent was good but not great. Eminem do yourslelf a favor. Listen to your old albums, have Dre do all the production and you do nothing but rap. Don't have anything else to write, than let Dre write your lyrics. Sorry but this album dosn't deserve 5 stars. It dosn't even deserve 1 star but that's the lowest I can go. Wack\",\n",
       " 'I can\\'t believe this CD is overall rated at 4 and 1/2 stars! Are you people listening to the same album I am!?!? This album is ASS, Complete Garbage!!This moronic, idiotic nonsense was released while Pimp C was still locked up. In an interview with The Source Magazine a couple months ago, Pimp C (and Bun B as well) revealed that he was very appreciative of the love and support he received from the people while he was locked up, but now that he\\'s out, UGK was going to confront some people who were making money off of the whole \\'Free Pimp C\\' campaign that was going on. (I know there were a lot of people profiting from the campaign with the notion in mind that since he\\'s locked up, he wouldn\\'t be able to do much legally.)Now that Sweet Jones is out and is hard at work on the next UGK everyone\\'s craving, he may want to consider talking to the people who were responsible for putting this trash out through Rap-A-Lot. I know C and J. Prince are homeboys but Pimp couldn\\'t have been serious when this dropped: this is either Pimp C at his worst (which there is NO SUCH THING) or someone swindling the man\\'s music. I opt for the latter.Including \"Isa Playa\" (feat. Z-Ro on the hook), there\\'s only about two or at the most three songs (out of fourteen) that knock; the rest are either mediocre or just plain suck. And c\\'mon!! Track 10 is just ridiculous. The producer basically lifts the entire track from Chuck Brown\\'s \"Bustin Loose\" as Pimp superimposes his version over the music: \"Young Prostitute\". You\\'ve got to be kidding me - Pimp singing on the chorus \"I need a prostitute,\" is just ignorant trash and dreadful music if you want to call that music. Pimp C couldn\\'t have signed off on that track to be released.This album is appalling and denigrates the talent of Pimp C; J. Prince and Co. at Rap-A-Lot should be utterly ASHAMED of themselves. But, the people spoke when this dropped: I know not one person with this CD, and copies of this blunder of an album are sparse and \"few and far in between.\" Thank goodness Pimp is out; we\\'ll get some quality music from him! People, COOOOME ON!!!!!!!! This Sucks!!!',\n",
       " 'This album is so God awful, it makes me scared for what our future leaders are going to be. Reality TV watching, 50 Cent listening, manner lacking, disrespecting, MTV believing, bling blinging, thug slinging, trash talking, garbage wearing people. Yikes. I\\'d rather have the bubble gum music phase that passed instead of this mainstream rap crap phase that has been going on long enough. Hit music radio is NOT good. It sucks! The same five songs over and over again, and none of them are good. Then DJ\\'s that think they are cool because they are on top of the latest trends in \"lingo\". \"Yeah dawg, that\\'s dope foo, we got a bitchin\\' cut here we are about to drop like a bomb on Sadaam\" Gag me with a knife, but stab me with it first! This is what todays youth like??? I feel dumber after listening to it. Then hit radio has so many freakin\\' commercials because of the lack of music that they have available, and then what\\'s next? MTVized shout outs by teenage girls to each other like they are super cool, and girls talking to DJ\\'s about relationship crisis. \"Yeah, I\\'d like to give a shout out to my girl Missy in the 214 and my chica Lindsey in... well, the 214 also.\" \"My boyfriend is such a prick, he won\\'t split his hostess cupcake with me! What does that mean, does that mean he thinks I\\'m fat or that he is selfish?\" GAG ME! Thank God for two new inventions: IPod and JACK/BOB FM. Both play great music, have no (or little used) DJs, and fewer commercials. Plus I can hear new music that is good, like Coldplay, The Killers, Howie Day, Outkast, Lifehouse, Dave Matthews Band, along with my favorite cuts from the 60\\'s, 70\\'s, 80\\'s, and 90\\'s. Remember that band that was the fab four? The Beatles? Remember when MJ was black and could pack a dance floor? Remember Stevie Wonder, Hootie and Third Eye Blind? Kids need to start listening to that music, because if the great and late Marvin Gaye were to hear the music of today, he definitely would be asking \"what\\'s going on?\"BTW Marvin Gaye, a great artist from the 60\\'s-70\\'s-early 80\\'s that people should listen to as well. The Reason Why I never Listen to Hit Music Radio',\n",
       " 'So, here it is. The follow up to that damned trash heep Get rich or Die Trying\\' (Funny how he cant spell anything). I thought it couldn\\'t get any worse, but how wrong I was...This has to be one of the crappiest \"albums\" (I refer to it as a frisbee) I\\'ve ever heard. I was at my dads house one day, and my sister Ashley was blasting this crap through the radio. I said \"What the hell is that noise\". She said \"It be da new fiddy CD\" (Yes, she is white). I got so sick of it in 3 seconds that I got a headache, and I just decided to go to my friend Vince\\'s house. We were going to play frisbee because there was nothing else to do, but alas, no fribee. I knew what I had to do. I went back to my house and stole the CD from my sisters sterio, she was watching The Wrong World in the living room. When I made it back to Vinces he had found a basketball, so I just decided to frisbee the plastic in the garbage. It makes a GREAT frisbee! But I now use it as a coaster, because I ended up breaking the edge and now it wont fly straight, dammit. Oh well, if you want to spend $15 on a really thin, 6 inch plastic frisbee, then this is what to buy, but DO NOT, I repeat, DO NOT put this in your sterio/CD player/radio/anything that plays plastic such as this.Update 7/22/05That guy \"MTV Rocks\", yeah what a stupid f**k. I normally dont make fun of peoples opinions because they do have a right to believe what they want. But this guy insults great bands like Van Halen, Megadeth, and Steve Vai while worshipping godawful crap such as \"fiddy\" here. Sorry \"MTV rocks\" but you, Bush, and eMpTyV are why most countries hate the USA. (this used to be a great country in the 60\\'s - 90\\'s, what happened?) Rap should take out a restraining order against 50 cent',\n",
       " '50 cent round 2. he hit us with \"the massacre\" with his rhymes SLIGHTLY stepped up which would put him now in the D category for grades. i do have to question how this guy is so tough in his rhymes and poses with numerous guns but has a restraining order on vivica a fox and irv gotti? as i recall neither of them have harmed the 5-0 police snitch. so why have this restraining order? aren\\'t you man enough to tell vivica face to face when she wants an explanation for the split between them? apparently not. ha! and the bullet proof vest for his son? ha! don\\'t let your mouth write checks that your a$$ can\\'t cash, 50! don\\'t talk trash to jada and fat joe cuz they don\\'t play! as you see he\\'s already scared. plus rolling with a slew of bodyguards doesn\\'t make you gangsta, it shows how weak you are! oh man anyway back to his music after i let the truth be told. anyway didn\\'t this 50 guy say that he was sick of ja rule singing and if you wanna hear the real gangsta rap buy my album? i\\'m not quoting him but yes that was his strategy. a good one in fact that seemed to show him doing the opposite. countless songs have 50 crooning away in the chorus like this is a drifters album or something. \"now featuring the king of motown, the wonderfully talented, tenor voiced, the heartbreaking 50 cent!\" i can see it right now. stop singing man! if u wanna sing then make amends with ja rule! you gotta laugh',\n",
       " 'Now I usually don\\'t give something one star because for me to give something one star it has to REALLY suck.  Heck, this is only my second review.  But Webbie manages to hit rock bottom with the release of his album Savage Life.  And for that matter I don\\'t think you can live to be 18 like he says he is long enough to live a life like that.But back to the album, you can really tell that Webbie\\'s vocabulary skills are really limited with his constant usage of the b-word and the s-word in almost every bar he uses and his hooks.  Song titles don\\'t get creative here with \"G-S**t\", \"Gutta B\", and the disgusting \"Bad B\".  And as if that song wasnt already bad enough he does a remix with Trina (now that sounds like a winning formula?).Webbie is definatley describing himself on the song \"Retarded\", why anyone would make a song like that song is beyond me.  And \"Gotta Show Me U Worth It\" is a phrase I\\'m definatley going to.So there has to be a bright spot here right?  Well I havent even mentioned his single, \"Give Me That\", but trust me it\\'s not good because of Webbie.  Bun-B is featured in it and he manages to shine nicely without the filthy mouth.  For that matter his verse is the only thing worth listening to on this whole CD if you havent thrown it out the window by now. Trash, trash, and more trash...',\n",
       " 'Even though many will not agree, SOAD seems to be caught somewhere in a pop-music downward spiral, and with the release of this, it is evident to me that a change is nowhere near the horizon. What made me such a fan of the first two albums was the aggressiveness and creativity and was unlike any other Metal (if you want to call it that) album that I have ever heard. The first two albums had so much creativity for  example  the jazz breaks followed by the insane Trash breaks in \"Sugar\" or the beautiful, yet so dark \"Aerials\" What in the hell happened to this band. Even Steal this album, which I know was a collection of B-Sides was better. This band has seemed to lose its CREATIVITY. I understand that a band is entitled to change, and maybe they wanted to move away of the direction of the sheer heaviness of the first two albums. I also dont want to sound like an ignorant metal head and say \"well if it slows down, or its to mellow it sucks\" Look at the classic Def Tones album \"White Pony\" It lacked the edge and aggressiveness of \"Adrenlin\" but it was way more creative, and as it turned out (at least in my mind) it was the best album the Def Tones did. I think this band needs to restructure themselves and worry about selling less albums and writing better material, regardless of what style they choose. FM pop laden tracks are not what this band should be about. They are way to talented to waste their time with simple songs. Hopefully they will get back to their roots and give us something to smile about. This band is on a downward spiral',\n",
       " 'Wow. There is nothing much I can add to the reviews about this CD here, because it can be one word, \"Horrifing\". Cam\\'Ron has be putting out wack music for a while since \"Come Home With Me\". I\\'ve given him (let alone Dip Set) enough chances, but I\\'m finally done with them. (The final straw was that JR Writer album). Me I don\\'t know what to say about this that would give creditability towards the album. The beats have been repetative with those sped up 80\\'s samples. It was fun the first two times, but now it\\'s old and horrible. And Cam\\'Ron\\'s rhymes are more confusing than ever. Listening to \"IBS (Irritable Bowel Syndrome)\", I don\\'t thought he was complaining about having that problem up until the end when he stars making poinless comments. Some of these songs make absolutely no sense like \"Wet Wipes\" and \"He Tried To Play Me\". And is metaphors are trash, like on \"White Girls\" where he is talking about pusing coke, from what I figured out, if you actually understand it. He tries to diss Jay-Z on \"You Gotta Love It\" which actually came out in the spring of this year. I don\\'t even think Jay would take that song serious, if you ask me. Most of these songs here are easly forgettable, that I just completely forgotten most of them.Guest appearances do absolutely nothing. The only person who has a suspect of rapping talent is Hell Rell, but is that saying much? The only song I was felling a little bit was \"Get Em Daddy (remix)\". I can go on and on about how horrible this album is but that I don\\'t want to write 10 paragraphs. All I want to say is \"Killa Season\" is really killing fans of Cam\\'Ron. I can\\'t stand it anymore. Two thumbs down for this album.Lyrics: FProduction: DGuest Appearances: D-Musical Vibes: FOverall: D-Fav Tracks: Get Em Daddy (Remix) Killed Me With Wackness (Rating: 3 out of 10- -1.5 stars)',\n",
       " \"First, your lead singer must enter FOX's biggest (and rigged) TV show called American Idol. This will give him the exposure on national television, raise his ego by over a thousand points, and make him idolized amongst the mainstream audience. Second, it doesn't matter if you win, you'll still get all the fans who loved you to support your future. You'll end up on TV, and people will still adore you, even if you didn't make in American Idol. Top four is good enough on a fixed show! Third, to advance your career and get your name heard, form a band, but your band must not have creativity, originality, and must appeal to the people that adored Nickelback and Hinder's watered-down, lifeless trash. Fourth, you cut your third album, claiming it's not pop, yet it reaches number one on the Billboard 200.This album is just what you'd expect to be on your generic hard rock station. There are much more talented vocalists than Daughtry, believe me, like Mike Patton (Faith No More/Mr. Bungle), Dax Riggs (Acid Bath/Agents of Oblivion), Burton C. Bell (Fear Factory, Ascension of the Watchers) and Pete Steele (Type O Negative) which display excellent talent and range. What's that? They've been in the game longer than Daughtry? At least they didn't have to get where they are right now by some rigged FOX network show. Amirite?Oh yeah, Daughtry also covered a Creed song when he was an American Idol contestant! *burst in laughter* The Procedure In Forming Daughtry\",\n",
       " 'Let\\'s start off with the obvious when we talk about Hurlricane Chris(I meant to write that). He cant flow, he has no personality and there is nothing about him that distinguishes him from the tons of rappers out there from the south. To tell you the truth, he almost sounds like Lil Boosie! The best example of how wack he is, is when Cipha Sounds ripped him a new one on his show. Ay Bay Bay is another one of those terrible singles that you wish you never heard. You know things are bad when an up and coming singer like Nicole Wray couldnt save any track by appearing on it. Getting Money, Momma and Doin My Thang are prime examples of this. Then members of his wack crew Ratchet City contribute some terrible performances on here. Big Poppa and Hollyhood Bay Bay show up on the weak second single, The Handclap. Big Poppa would also appear on the wack tracks  Bang and Doin My Thang. Even with these guest performances the worst of all would be the all-star weakmix of Ay Bay Bay with E-40, Jadakiss, The Game, Lil Boosie, Baby and Angie Locc. Hip hop laughable from Walk Like That \"I flipped her over on her back and hit her with the lizard/I bim bim bim and I didnt even kiss her\". LOL! There is one track that is not absolutely garbage and that\\'s Playas Rock. I wouldnt recommend downloading it because it\\'s not worth it. In short this album sucks on all levels. The beats are trash, the lyrics are pathetic and the guest appearances made this album even worser than it had to be. And to think XXL gave this slop an XL rating. Pity on those who still take that ragazine at face value.PS: How are you going to take the word \"ratchet\" and use it to mean hood? EVERYBODY knows that that word is Upnorth slang for burner. You see what I\\'m saying? These little kids are messing up the game! Tropical Storm Chris',\n",
       " \"I could go on about how 50 used to be nice on the mic(back in the How To Rob days) or how Banks used to kill it on the early G-unit mixtapes or how Tony Yayo used to bust a decent verse once in a blue moon but it makes no sense to do that now. On the advent of Game's departure and  Young Buck being dropped from the group(I dont care what coast you're from.... we all got agree that 50 made a big mistake right there), G-unit only had one thing to do: prove that they can still stay afloat after all this. Unfortuantely this is not the album that is going to do it. Straight Outta Southside is the best track on the album and it pretty much goes downhill after that. A lot of the beats here suck as well as the hooks. Both 50 and Banks rhymes are phoned in and even the Yayo's rhymes are trash, for some strange reason, he is the only one(out of the remaining members) who has a presense on the mic on this album. Young Buck appears on a few songs and brings some heat but even he cant save this album from being garbage. Piano Man, Rider Pt 2, Close To Me, Party Aint Over, Let It Go, You So Tough stink lyrically and production wise. The title track is flat out weak and anyone bumpin I Like The Way She Do It and Kitty Kat in their whips needs to be slapped senseless. Both of those tracks are straight garbage. Ready Or Not has some decent bars by Lloyd Banks but Yayo and 50 both bring the track down. Money Make The World Go Round has a nice beat but the track suck lyrically.Bottom Line: Terminate On Sight is even worse than Beg For Mercy(at least that album had five passable tracks). The beats are weak and the rhymes are telegraphed in. Its safe to say that G-unit is on the downslide and this album will get them on the fast track to obscurity a lot quicker than they expected. Two thumbs all the way downStandouts: STRAIGHT OUTTA SOUTHSIDE. Incinerate on sight (1 and 1/2 stars)\",\n",
       " 'How this guy gets paid to put this out is one of the great mysteries of the world. After breaking on the scene with the grammatical superhit \"Can I buy you a drank?\", he follows up Epiphany, or as I call it, bucket o\\' trash, with this nugget. This guy makes Lil Wayne sound talented and Soulja Boy the next Chuck D. My friend Kroll was playing this thing when we were cruising last week on Dodge for chicks in his tricked out Type 10 Chevy Cavalier. After the first track, it was like watching a car wreck. Every track was horrid and had no real value to society, but we kept listening. His voice, awful, songwriting, awful, his shoes, awesome. I watched a documentary about my greatness last night on Nick Jr. and realized it\\'s about time for the new Asschowder album to be cut and dropped on the world. T-Pain showed me just how far the music biz has fallen. I got on the horn with Burns, Chad, Kroll and J-Abs. It is time to put the tracks down. I\\'ve written some off the hook stuff like Tuna Lady and My Car is smoking candy cigarettes. The content is earth shattering and we are hotter than N\\'Sync was when they came out, but we play instruments and have opinions on North Korea.So save your money and don\\'t buy this right now. Buy some Richard Marks or just wait for our album. You don\\'t want to encourage average or it won\\'t leave your front door. This is a special kind of garbage',\n",
       " \"This album is a hot steamin pile of B.S.  Busta Rhymes has officially tried me (and everyone else) with this album.  The Big Bang was a pretty good album and Busta Rhymes had been puttin in work on remixes to a bunch of popular songs and that really had me anticipating this album.  I thought that Busta Rhymes would be back as he puts it.  WRONG!  There's only a few songs worth listening to on Back On My B.S. (Respect My Conglomerate, Hustlers Anthem 09 (the remix is a million times better though), Arab Money (remix once again way better), Don't Believe Them and Decisions) and the rest are trash can material.  Kill Dem is unbelievably bad...Do The Ricky Bobby bad.  The World Round ft. Estelle is just laughable; a full blown techno song???  WTF Busta?  Terrible.  Another song I just laughed at uncontrollably was Wheel of Fortune...tried us all.  I'm A Go And Get My ft. Mike Epps has the worst chorus of all time and the song itself is even cornier.  We Want In ft. Ron Browz is an instant failure because anything featuring Ron Browz is an instant failure.I think this album suffered from leaks of songs that aren't on here such as Blown with TPain or I Got Bass and plenty more.  Busta Rhymes has disappointed to no end with Back On My B.S and consequently may be the worst album he's ever dropped.  Busta Rhymes has served hip hop faithfully for nearly 15 years...it may be time for him to bow out.  I feel the same way about this album as I did LL Cool J's last album Exit 13.  We Still love you Busta but you just don't have it anymore.  Well atleast it's better than Jim Jones last album.  1.5 stars. Album title says it all\",\n",
       " \"When it does come to to Heidi Montag, the so-called star of The Hills on MTV, it seems more as if she wants to be famous for nothing, just like Paris Hilton. Sad, but honestly no doubt about it true. SO when it feels like she has the independence to do everything, it feels like a big fat train wreck. That comes with the feeling of trying to be a wannabe singer with her debut record, Superficial. The songs here are just a bunch of wasted trash on the voice, and spending time with the ears listening to the record. Each track like the so-called dance rhythms of Fanatic, to the lackluster feelings of One More Drink, all the way to the end with Love It Or Leave It, is just all about being within dance music. Unfortunately, it is a displeasure at all from start to finish. It is such a shame that Heidi wanst to deliver as a singer, by thinking she is now trying to be like Britney Spears, and the rhythms of her record Circus. Yet, it feels like Heidi Montag is now trying to be the next Paris Hilton instead. I remember how disgraceful Paris's record was a few years ago, and how bad her songs were, and now I found a record that is even worse than what Ms. Hilton's record was. Don't even bother getting Heidi's Superficial at all. You're just wasting all the time in the world!!!!!Album Cover: D-Songs: F-Price: FMastering: FOverall: F- Wannabe Like Paris Hilton, NOT BRITNEY SPEARS!!!!\",\n",
       " \"I don't know whether her first name or the last name are the joke, or both, or just the result of a questionable decision at the end of a bottle of rye whiskey from a hot Summer night in Kentucky. The voice is at best irritating, at worst, a deliberate act of war and a weapon of mass suicide. The music is plain old vanilla formula driven. It's a pity Simon Cowell, professional British a$$hole and only among the many imported English masters we in America so submissively provide them with billion dollar contracts, belittling ourselves and denying equally or better skilled AMERICAN show hosts, the opportunity to earn money and keep it at home. Why is this country so fascinated by England, the country that sucked the original Americans' lives dry, and denied them the same rights they granted horses, dogs, and other similar bute beasts? Have we learned nothing from that worthless nation with world domination ambitions? Has not the mass genocide of Americans and Indians taught us nothing about the real face of Britain? I guess not. We keep hiring them and giving them million dollar contracts by the droves, while we starve at home and keep Americans from getting these greatly coveted US jobs. Britain is the #1 recipient of US welfare, not Israel or Egypt. And in return, we get crap music from talentless junior high school trailer trash drop outs. CRY, AMERICA! Plastic Music from a No-Talent Busker - We should pay her NOT to sing!\",\n",
       " 'I\\'m a middle school teacher, so on this past \"Friday\", I couldn\\'t make it ten minutes in a row without hearing of this song.  I finally got a chance to hear the song as a couple students played it for me on You Tube after school, and there was nothing surprising about it other than the depths to which its lameness plunged.  This song typifies our new cultural mindset: everybody deserves, nay, is entitled to being a celebrity.  To facilitate this, we CGI and brush images and slather on minerals and make-up to make images appear to be what they are not, and we auto-tune and over-produce sounds to make it seem as if each one of us is, \"the next American Idol\".\"Friday\" is the death of the American Dream come reality.  Whereas the American Dream in all its imperfections had in the past been about achievement, now it is simply about being recognized and famous.  Innovation, creativity, hard-work, integrity, and spirit are the collateral damage.However, I am given hope, I think, by the other reviews on this page, because after reading them and thinking for a moment that I awoke this morning in The Twilight Zone, I have begun to think that the reviews here are attempting to make \"Friday\" something worthwhile.  I cannot read the reviews on this page now without thinking of the iconic \"Three Wolves\" shirt and its now famous reviews.  I must believe, for the sake of all humanity, that this is what is going on here.  And if it is the case, then sorry Rebecca, but that is exactly what you deserve for releasing such trash and buying into the \"We\\'re all stars\" mentality of your generation. (and true fans, don\\'t argue with me about how successful her song is, ARK entertainment is pushing this and the trash of other 13 year-old \"prodigies\" and I\\'m sure they are taking a pretty penny of the 99 cent download - sorry Rebecca and others - infamy, and not money, will be your reward) The New Three Wolves Shirt?!?!?',\n",
       " 'aw come on you all!this song is TERRIBLE!So lets go through it.she meets this guy and gives him her number.and then she repeats call me maybe like 50 times.and then,what really cheeses me off about this whole song is :after all this yappy crap over and over,they NEVER  say wether he calls!is there like another song on the album that tells?like \"he called me and we hooked up\"?or a plan for a follow up single?they couldve had a booty call,a relationship,a group setting,a marriage,he couldve knocked her up,he couldve really been a girl and then she liked it anyway,a engagement proposal,a murder,they got high and he was a cop,or he called and she missed it and she got mad and then freaked out and had a meltdown before he found her at the club and explained how his phone died or some crap.that was a top ten list of better ways the song couldve ended right off the top of my head.i couldve thought up 100.the beatles probably puke every time they hear this.\"we brought pop to this world and its degenerated into this!\"the other 2 are rolling around in thier graves wondering where it all went wrong.if you like this song,then buy it.you\\'ve no doubetly heard it.they play it at least once every hour on every dance,pop,top 40 radio station around here.this is just another fine example of just how far down music has come.i havent even bought a new album in like 3 years.the last one was bob dylan.before you go talking trash on that american master,he just got the medal of freedom from the president.i\\'ll bet whoever this chick is,that never happens to her.i give her 3-5 years before she\\'s broke again and turning tricks. this song SUCKS!']"
      ]
     },
     "execution_count": 56,
     "metadata": {},
     "output_type": "execute_result"
    }
   ],
   "source": [
    "cat1"
   ]
  },
  {
   "cell_type": "markdown",
   "metadata": {
    "id": "md5JpxrjmQCx"
   },
   "source": [
    "#### Категория 2"
   ]
  },
  {
   "cell_type": "markdown",
   "metadata": {
    "id": "ac6yxwQEv47D"
   },
   "source": [
    "Самая малочисленная категория.\n",
    "\n",
    "\n",
    "\n",
    "1.   Присутсвутют экспрессивы, где люди оскорбляют других\n",
    "  \n",
    "      `you like romantic novels so f.ck u you are a trash so f.ck u`\n",
    "\n",
    "\n",
    "\n",
    "2.   Уничижительные оценки музыке\n",
    "\n",
    "   ` white girl is just plain awful. in ya a** is trash and has the dumbest hook the juve has ever`\n",
    "\n",
    "\n",
    "\n",
    "3.   Интересное наблюдение 1: название альбома одной группы - треш (что, с одной стороны, может стать шумом, а с другой - подчеркнуть кошмарность своей работа -- ирония над собой или оценка тому, о чем пишется в текстах самой группой)\n",
    "\n",
    "4.  Интересное наблюдение 2: люди говорят о мусорных ведрах с целью показать, что все очень плохо и кого-то/что-то обесценили. Они также дают оценку происходящему и в контексте это выглядит экспрессивно, но это не совсем тот экспрессив, который нам нужен, хотя сам случай интересный\n",
    "\n",
    "    `o'neal slam dunked into the studio trash can.`\n",
    "\n",
    "Несмотря на это, все экспрессивы, которые тут есть очень яркие и агрессивные (в том числе конструкции про мусорное ведро). Все экспрессивы максимально отрицательно окрашены (негативная отрицательная полряность)\n",
    "\n"
   ]
  },
  {
   "cell_type": "code",
   "execution_count": 57,
   "metadata": {
    "id": "ccEhjuAPlXkY"
   },
   "outputs": [],
   "source": [
    "cat2 = expressive_df[expressive_df.overall == 2].review_summary.tolist()"
   ]
  },
  {
   "cell_type": "code",
   "execution_count": 58,
   "metadata": {
    "colab": {
     "base_uri": "https://localhost:8080/"
    },
    "id": "1uTOIBZ9lf5p",
    "outputId": "8d7dc06f-6be3-45cc-e101-137d2df8bdf0"
   },
   "outputs": [
    {
     "data": {
      "text/plain": [
       "[\"Say what you will about Alice Cooper, but his music is a reflection of the times. You have the straight ahead 70's rockers of &quot;Love it to Death&quot; through &quot;Muscle of Love&quot; and his solo projects covered disco with &quot;Goes to Hell&quot;, 80's synth/new wave with &quot;Flush the Fashion&quot; and &quot;Special Forces&quot;, to the Nu-Metal sounds of &quot;Brutal Planet&quot; & &quot;Dragontown&quot;. In the 80's Alice tackled the Hair Metal scene with &quot;Constrictor&quot;, &quot;Raise Your Fist and Yell&quot; and his most popular album of the decade &quot;Trash&quot;. Now as an Alice fan, I don't really care for &quot;Trash&quot;, mainly because it doesn't sound like Alice Cooper. The songwriting, the guest stars like Joan Jett, Bon Jovi, the &quot;pop&quot; production by Desmond Child. &quot;Poison&quot; is a great song, no doubt about it, and really the only Cooperesque track on &quot;Trash&quot;. &quot;House of Fire&quot; sounds like a Joan Jett song, and would have worked on a Joan Jett album, but not for Cooper. &quot;Spark in the Dark&quot;, &quot;This Maniac's in Love with You&quot;, &quot;Hell is Living Without You&quot;, &quot;Trash&quot; & &quot;Bed of Nails&quot; are all okay songs, which would have fit perfectly on a Bon Jovi record, but Alice singing about lost love/being in love/finding love just don't seem to fit with Cooper's image. Now I can appreciate what Alice was trying to do here, but &quot;Trash&quot; does not hold up compared to his other music. You can put in &quot;Killers&quot; or &quot;From the Inside&quot; and the music still sounds fresh and original. &quot;Trash&quot; just sounds like so many other hair bands from the late 80's, and I think that's because too many of the then-popular stars of the era had too big a hand in creating the album. Still, I see some of the used copies here under $5, and &quot;Poison&quot; alone is worth that. A Very Un-Alice, Alice Cooper Album\",\n",
       " 'I remember back when the singles from \"No Way Out\" were on the radio constantly and I was young and bought into the hype of it all. I\\'m sure alot of people can relate to what I\\'m talking about; this album was being shoved down everyone\\'s throats back in 1997 and Biggie had just died so there was a level of sentimentality that went along with this album at the time.In 2012, that doesn\\'t hold up anymore. This is called Puff Daddy and the Family probably because Sean Combs knows he has no business rapping (or should know). Every track on this that features Puff Daddy rapping solo with no guest artist, is average at best; you could pick a random unknown underground MC to rap over the track and it would sound better.The reason this album gets 2 stars is because there are some songs that are saved by the guest artists:Been Around the World (Mase and Biggie rescue this one)Don\\'t Stop What You\\'re Doing (Lil\\' Kim actually stops this from being trash)It\\'s All About The Benjamins (The Lox, Lil Kim, Biggie, they all turned this one around)I\\'ll Be Missing You (don\\'t get me wrong, Puff Daddy\\'s raps suck but Faith Evans and 112 sound beautiful for B.I.G.)Can\\'t Nobody Hold Me Down (without Mase in this, Puff Daddy wouldn\\'t have a leg to stand on here)Not a very good ratio for an album with a large amount of songs. If you get this, get it VERY VERY cheap. I wouldn\\'t pay more than 2.00 for it and I hope that Sean Combs stops making music sooner than later for all our sakes. Without guest spots or samples, no talent',\n",
       " \"How do you see an album like this one coming? What Thee Album, Dare Iz A Darkside, Muddy Waters and Doc's Da Name 2000 were all great albums. So why does this stink. 1. He sounds uninspired on here. 2. He has too many of his local homies who all (except for Icarus and Jamal) suck. The Good: Aside from the commercial tracks like Let's Get Dirty and Smash Sumthin(which are good) he has only three others which are standouts. Uh Huh is vintage Redman. Real N****z(featuring Scarface, Mally G, Icarus and Treach) is one of the best songs on here minus Treach's weak verse. Scarface, Mally G and Icarus stole the show on that one. Enjoy Da Ride is the best track on here with Method Man, Saukrates& Streetlife contributing some solid verses on the track right along with Redman. The skits are pretty humorous also(the Jerry Swinger being the funniest out of them all). The Bad: Songs like Lick A Shot, Diggy Doc and Muh F**** are as dull as it gets. And dont get me started on Bricks Two featuring all his garbage homies(D-Don sounds like a New Jersey version of D12's Bizarre) who stink up the track worser than it had to be. The Ugly: Songs llke Whut I'ma Do Now, DoggzII, J.U.M.P., Da Bull****(Icarus was alright on here but its still a suspect track) and the ultrawack Soopaman Luva(parts I&2) should have been Shaquille O'Neal slam dunked into the studio trash can. Dat B****(featuring Missy who adds nothing to the track) is the dumbest track that Redman has ever made period!  Bottom Line: Redman should be sued for Malpractice(literally). The beats stunk, Redman sounded bored on most tracks and the guest appearances were weak. To put it bluntly: the skits were better than the album itself. Never mind that Redman himself said that this album was weak. Listen to his previous albums then listen to this and you will see how much of a dud it is. Funk Doc precribed some bad meds (2 and 1/2 stars)\",\n",
       " \"This is not a good album. I dont know who is doing the beats but it is not good at all the flow is straight garbage, But Yo I can review this u cant, I know hiphop you dont, you are a fagg your Momma should of swallowed the nut that went up in ya Mom's stankin azz pussy, but you know what, f.ck you you dont like hiphop and I dont like you so f.ck you. You like romantic novels so f.ck u you are a trash so f.ck u, I dont like star wars so f.ck u I dont like beevis and cumhead so f.ck u If you like the KKK f.ck u If u like David Duke f.ck u, I dont like either one so f.ck u, you want to say Nas sounds like a Monkey you are a monkey, so f.ck u, U want to say that hiphop sucks, maybe u need to start suckin maybe you can teach your parents that so maybe they wont have anymore kids like u so f.ck you....clown You dont like Marilyn Manson and called him a girl u dumb b.st.rd whats wrong with u everybody knows that it is a guy you fagg...you want it to be a girl dont you. Like Thaman said u remind me of C.U.M.! Ha Ha Ha Ha Cumboy suck it up I mean litarally Hiphop is whats going on today not Rock n Roll Not POP and definitely not COUNTRY so suck it up and stop letting it drip off ya mouth B.TCH! I had this\",\n",
       " \"Everybody who says that this is Juvenile's worst album is on the money. Juvenile was about to leave Cash Money so he put out a halfassed effort in order to fullfill the contract promise before he left. This album is the end product. The album has two flaws: Juvenile doesnt sound as inspired as he did on Soulja Rags and 400 Degreez and Mannie Fresh's production was already becoming redundant. The Good: Set It Off was an okay first single but the remix with The Hot Boys and Baby is somewhat better. My Life and They Lied are the best tracks on the album. Mama Got A** is Back That Azz Up part 2 and Lil Wayne saves What U Scared 4 from being a total waste. The Bad: H.B. Headbuster is unwashed crusty butt! Be Gone with The Big Tymers is garbage plus how are you going to have a song on Juve's album without Juvenile on it? In The Nolia is a total waste and Get Your Hustle On is boring.  The Ugly: White Girl is just plain awful. In Ya A** is trash and has the dumbest hook the Juve has ever put together. 4 Minutes sounds like a piss poor imitation of the old Doug E Fresh classic 6 minutes and the reggae-inspired Sunshine is bad enough to offend the Jamaican Community. Bottom Line: This was and still is Juvenile's worst effort. Even though every album that came after it was suspect, this album still stands out as his worst. Juvenile just doesnt have the fire that he had when he first came in the game and he pretty much sounds like he's just making tracks for the hell of it. Project Broken English\",\n",
       " 'first off i wanna address something prior to my review. east..187 why would you say such a horrible thing calling 2pac \"wack\". that\\'s blasphemy right there. he was as real as it gets, he had quite a few positive songs, and he was one of the greatest! anyone would agree with me there. on to my review of this cd. i weep at the current state of hip hop. how did we go from notorious big to lil flip? hip hop has taken a huge plunge in terms of its lyrical prowess and it\\'s pathetic. 50 cent doesn\\'t help one bit. yes yes congratulations mr curtis jackson on going multiple times platinum. but why did this album sell so much? i think it was based on the fact that he dissed ja rule and that he was shot nine times and lived to tell. i mean anyone who says 50 is a lyrical beast is totally assinine. this guy is so predictable! let\\'s see, if he talks about selling rocks he will probably mention something about glocks in the next few words. and if he mentions hoes he will probably mention about him doing shows. and if he mentions....you get my point. he is such a bad lyricist. if he came outta the south i\\'d understand but coming from queens? ny is respected as the breeders of lyrical geniuses but 50 is trash. stop talking about how (...)ja rule is! he beat u up and had u shot and stabbed! you\\'re the wanksta 50 cuz u never got back at him! this album gets its 2 stars because the beats are hella good thanks to dre and eminem two of the best but this guy\\'s living off of his \"9 shots\" story. i love how people gave him the name 5-0 and called 50 a snitch cuz its true. new title for this album \"get (...)or die crying\" please someone anyone save rap music!',\n",
       " '50 Cent came to Chicago talking so much trash about Kanye West. When people brag that hard, you start to wonder is their album really that raw. Initially I wasn\\'t sure if I was going to buy it, but this cat is charming in interviews so I pre-ordered his CD along with Kanye\\'s.  The radio interviews he did on WGCI and B-96 were so funny that I took my shoes off and laid up in my car for an hour to listen to the whole thing before I left the parking lot. I didn\\'t want to miss anything he said--the man had grandmothers calling in talking about how much they love him and to drink his water.  However, I found a Website to preview the whole CD, and I\\'m so disappointed. Basic summary of the album: Load a gun, I\\'m fly, I have money, and if I call my woman a b**ch, I\\'ll apologize with my fingers crossed.  AND?!  I heard \"I Get Money\" on \"So You Think You Can Dance\" and I loved the routine they did to that show.  I\\'d already been bumping \"Amusement Park\" for quite some time.  I thought this album was going to be full of cool songs like that, or at least something clever.  The man even had Robin Thicke on here, and I love Thicke, but I was bored to death with that song. \"Straight to the Bank\" irritates me to no end with that one guy who hangs with him all the time laughing in that anal \"Ha ha ha ha ha haaaaaa\" chorus.  Aargh! Of course the song that really blew me was when he said he\\'s not from the hood, he\\'s still in the hood.  The killer part about that was a young lady called in while he was on WGCI and asked him if she could find him in New York, and he said he doesn\\'t hang around like that.  Now how are you going to be still in the hood, but then say you don\\'t hang around like that?  I hope Kanye\\'s album is better. I\\'m actually quite shocked that Kanye is being so mellow, when he\\'s usually so vain about his work. I guess 50 decided to take his place. Still in the Hood?',\n",
       " 'The new Jimi Hendrix cd, People, Hell & AngelsComparing it to the sappy stuff that is being released these days in modern music, this is brilliant and cutting edge, get it.Lifelong Hendrix fans already have better versions of these songs already. So buy this, turn on, then find the versions we\\'ve all loved for years. Is that their goal?Thank you for the break down, Christopher Elliot.\"People, Hell and Angels\" features 12 songs that Hendrix recorded in 1968 and 1969, many of which were intended for the studio follow-up to \"Electric Ladyland.\"Here\\'s the collection of all the stuff they tossed then swept off the floor that someone was supposed to put in a trash can. Who took it out, WHO TOOK IT OUT!?I\\'ve loved Jimi\\'s music since being 10 years old, back in 1967.A couple nice moments here (just from familiarity), not many at all.Spend your $10 on a couple gallons of gas and crank up some other Hendrix as you travel the highways of life.Looks like the Hendrix family has posted some uplifting reviews here,themselves\\'sWho else could have posted such up lifting, shinning reviews who loves Jimi\\'s music?Sorry but this and the last release, Valleys of Neptune is doing nothing but making hard core, lifelong fans angry.Artiest get upset about people listening to their stuff on the internet. The other side of the coin, we consumers can save cash from buying clunkers.Real Hendrix fan\\'s will say, \"A collection of the worst versions of these songs I\\'ve ever heard.\"Just a tip here, don\\'t think we\\'ll need a new version of Purple Haze summer of 2014 either. Excuse me while I skip this one...']"
      ]
     },
     "execution_count": 58,
     "metadata": {},
     "output_type": "execute_result"
    }
   ],
   "source": [
    "cat2"
   ]
  },
  {
   "cell_type": "markdown",
   "metadata": {
    "id": "HrImKKX-mSdY"
   },
   "source": [
    "#### Категория 3"
   ]
  },
  {
   "cell_type": "markdown",
   "metadata": {
    "id": "SYE-RBS9yM84"
   },
   "source": [
    "\n",
    "В данной категории, несмотря на наличие экспрессива (полряность негативная), контексты более нейтральные. Люди не окрашивают их агрессией и унижением людей в контекстах в данной категории (в отличие от 1 и 2)\n",
    "\n",
    "\n",
    "1.   Более нетривиальные контексты в данной категории:\n",
    "\n",
    "    `rockin & rollin and a pimp's a pimp are studio trash can material.`\n",
    "    \n",
    "    студийный мусорный материал может быть метафорой, которую с некоторой точки зрения тоже можно отнести к оценке и показанию как бы высшей точки кошмара\n",
    "\n",
    "2.   Есть предложения, где говорящий понижает \"уровень агрессии\" и соблюдает своеобразную вежливость. Благодаря этому полярность становится уже не такой негативной как она была ранее, то есть негативность задается самом словом, но избежание агрессии это снижает.\n",
    "\n",
    "    `i am not saying the cd is trash. there are some really memorable efforts on here`\n",
    "\n",
    "\n",
    "3.   Также присутствуют названия альбомов\n"
   ]
  },
  {
   "cell_type": "code",
   "execution_count": 59,
   "metadata": {
    "id": "Lq4FkJlmlZXQ"
   },
   "outputs": [],
   "source": [
    "cat3 = expressive_df[expressive_df.overall == 3].review_summary.tolist()"
   ]
  },
  {
   "cell_type": "code",
   "execution_count": 60,
   "metadata": {
    "colab": {
     "base_uri": "https://localhost:8080/"
    },
    "id": "uP3JFWSNlhHc",
    "outputId": "951937be-b657-4dbc-dba7-46fa69fa2bff"
   },
   "outputs": [
    {
     "data": {
      "text/plain": [
       "[\"Wishbone Ash - from around the time of the druids.... nah just joking. But we are discussing a record from 1972.It's well documented that Steve Harris of Iron Maiden is a big fan of these boys and it's claimed that their early twin guitar attack was quite influential on his musical thinking. So for the heavy rock fan what is there on offer here?It starts fairly non mainstream with a 9.42 track called Time Was. The first couple of minutes stubmle along but then a rockabilly feel comes in and it becomes generic rock 'n' roll territory. Most of the rest of the tracks are overly mellow, plodding is a word that springs to mind. Alleged classic Blowin' Free isn't too bad but best of the bunch is, by far, The King Will Come.This track - a staple of their live set for evermore - has movements of rockin' out and mellow phases that actually work. When the band played the Metal Hammer Festival at Loreley this was chosen to represent the band on the attendant video, such was it's strenght still, over a decade after it's release here on Argus.However after this we get more longwinded trash, often only saved by some very pleasing guitar work. Some variety is injected by the shared vocal duties and bonus points for Andy Powell playing a flying V style guitar way back in 1972! My version of this disc has the bonus track of No Easy Road, initially a b-side for the Blowin Free single.Oh and a pretty nifty cover by Hipgnosis. Utterly irrelevant to the music by you get that.... A crusty rock artifact!\",\n",
       " \"Cam'ron's first single 357 showed that he had potential but his second single Horse & Carriage made people sleep on him and this album. Now this album is not great by any means but its decent at best. After a silly intro, the albums starts off with Glory(feat Noreaga) which is not bad. 357 was a great first single because Cam actually spit on that track. The track Death is hilarious because its Death teasing and taunting Cam'ron about his fear of dying. Confessions is Cam'ron giving the most ridiculous confession to a priest that you'll ever hear but this track is one of the better songs on the album. Cam'ron gives two honest attempts at songs of substance with Prophecy(feat Kelly Price) and D Rugs. On Prophecy, Cam'ron gets introspective plus Kelly Price on the chorus was a nice touch and D Rugs is Cam telling a story of how his mother was a addicted to drugs. Shanghai is a comical account of Cam'ron robbing a restaurant. There are songs that stop this album from being the great album it could have been. Horse & Carriage is garbage and why he thought Mase would have made this song better by being on the hook is beyond me. Both the Jermaine Dupri featured tracks, Rockin & Rollin and A Pimp's A Pimp are studio trash can material. We Got It is straight up filler. Cam also falls flat when he tries his hand at songs for the ladies like Me & My Boo(feat Charli Baltimore) and Feels Good(featuring Usher. Bottom Line: While Cam'ron's Confessions Of Fire is not the best album of 1998, its one of his best albums and is better than the hot garbage he has been putting out lately. Cam'ron's rhymes on certain tracks were better than the way he raps now. He blow this one out the water with S.D.E. though. Standout Tracks: GLORY, 357, WRONG ONES, DEATH, PROPHECY, D RUGS, CONFESSIONS, SHANGHAI and WHO'S NICE. My confessions (3 and 1/2)\",\n",
       " 'Restless is a surprisingly mundane effort from X to the Z. After having some truly memorable cameos as well as one hit song under his belt I was excited about the prospect of Restless. Also, when I saw it was produced by Dre I thought it was a \\'can\\'t miss effort\\'. However, I was unpleasantly surprised.I am not saying the CD is trash. There are some really memorable efforts on here. \"X\", \"Alkaholik\", \"Double Time\", and \"Don\\'t Approach Me\" are all worth a listen. That said, none of these songs are especially powerful. They are solid rap efforts that I like to listen to.The big problem I have with Restless is that I become restless when listening to it. X manages to put together a painfully ordinary lineup of standard Xzibit jive. He\\'s hard core, he\\'s a heavy drinker, and that\\'s about all. X falls flat on his ass on his attempt at meaningful expression: \"I\\'m Sorry I\\'m Away so Much\". This song sucks hard. I appreciate that X wants to send a message to his son on the disc, but you gotta go it a little better, man.Something X will always be fighting is that he is the jack of all trades, master of none. He is somewhat funny, somewhat hard core, somewhat drug related, somewhat violent, and has a somewhat interesting style. This combination causes the CD to lose a lot of its power.After listening to it all the way through there are few memorable moments. There are some good tracks, but none that I wanted to listen to again and again. I hate to come off like I\\'m busting his chops because I really love what he does. When he\\'s doing it well. This album just doesn\\'t do it for me though. I can sum it up in one word: unremarkable. Very disapointed.',\n",
       " \"On his 3rd album, Xzibit seeks to finally break out from the underground and get exposed to a larger audience. It seems he's accomplished that, especially with MTV recently falling in love with his new video. This album will most likely go double platinum, but at what price? On some tracks, he makes you believe he's all-out given in, seemingly wanting to gain the respect (and money) of the millions of mainstream Eminem fans. It's a shame, because X has much more talent than what he shows on this album.The standout tracks on the album would be U Know (featuring Dre), Alkoholik (which features a great verse from Tash that really carries the track), D.N.A., Get Your Walk On, and Best Of Things, which is easily the album's best track. It features a great beat from Dre, and the kind of fierce, grimy flow that makes X head and shoulders above the average MC. This is the kind of flow that he used on almost all of &quot;40 Dayz and 40 Nightz,&quot; and more recently on &quot;What's The Difference&quot; and his guest spot on Kurupt's album. It's too bad he didn't stick with it for more tracks.The rest of the album is saturated with mediocrity: watered down flows and beats which fail to grab the listener's attention. Kenny Parker Show 2001 sounds like a track rejected from an early N.W.A. project, with Xzibit sounding like an 80's MC Ren over an 80's beat. It doesn't mesh well at all. Rimz &amp; Tirez is boring....not one of Soopafly's better beats in the least bit, and a horrible chorus that sounds like something they found in Outkast's trash can. And F' You Right would be pretty good: the beat is actually entertaining. Except X blatantly bites the other X from the East (DMX).This may please the ears of the mainstream crowd, but it's not as good as either of his previous albums. If you don't already have &quot;40 Dayz &amp; 40 Nightz&quot; or &quot;At The Speed Of Life,&quot; pick those up. Then maybe pick this one up somewhere down the line and compare them: you'll see that it just doesn't measure up. 3.5 - Overall, disappointing.\",\n",
       " \"Ludacris: Rap music's answer to Dr. Seuss.  &quot;Cadillac grills, Caddilac mills, check out the oil my Cadillac spills...&quot;  If this couldn't have been a line from the ghetto version of 'Cat in the Hat', then I guess I'm just crazy.Anyway, if you liked 'Back for the First Time', then you'll definitely like this one.  It actually sounds like the same CD all over again.  Hell, it should have been called 'Back for the First Time...Again'.  'Word of Mouf' has the same feel, same mood...damn near the same beats and lyrics as 'Back for the First Time'.  If you liked the freestyle track on the last one...there's another one with the same guys on this one.  Even the skits on this CD are continuations of the skits on the LAST CD.  If you're expecting our boy Ludacris to break new ground or 'push the envelope', you're sadly mistaken.Yes, the lyrics are elementary, the beats are simple (even the Timbaland produced &quot;Roll Out&quot; is much toned down from what we'd normally expect from 'Timmy'), nothing spectaclar to this CD at all.That being said...I can't help liking it.  'Back for the First Time' was a CD that I couldn't believe I spent my hard earned money on at first, then it grew on me.  Like a bad rash that ends up looking like a nice tattoo.  'Word of Mouf' is more of the same.  Though artisticly speaking, it's trash, it really is an enjoyable disk.  'Cris is just a humorous cat, who can put together catchy hooks and get over.  I really hate to say it, but I like this CD.Troy's picks: 'Keep it on the Hush', and 'Saturdays' I hate to like it\",\n",
       " 'As the Amazon review accurately points out, this record is heavily infused with prog rock along with jam band and classic, psychedelic Brit pop, sprinkled with some California stoner rock.Having recently purchased \"Real Emotional Trash\" as my first Malkmus album, and thoroughly enjoyed it, I decided to dig back a little.  \"Pig Lib\" isn\\'t as polished as Real Emotional Trash, but the latter flows naturally from Pig Lib.On \"Do not feed the oyster\", Malkmus delivers a nice Beatles synthesized sitar that would have fit nicely on \"Tomorrow Never Knows\".\"Vanessa from Queens\" begins with a distinct Velvet Underground/Modern Lovers feel to it, then segues nicely into meandering guitars and ripples of sunny California jams perfect for getting baked as the kids say.On the best tracks that follow, Malkmus continues wailing away on the wah wah pedals, at times conjuring up David Byrne \"speak sing\" vocal inflections.  On \"Animal midnight\", we get another ride on 70s keyboard stylings with plenty of great jamming.In perusing the bulletin board on Malkmus\\' website, it comes as little surprise to find several deadheads.  Indeed, in addition to nods to the Beach Boys, \"Pig Lib\" has plenty of jams with distinct Grateful Dead structures.There are some weak points on this record.  They come when Malkmus loses focus, gets a little too oblique, and wallows in the type of prog rock that now sounds dated.  Sorry, but some of my 70s LPs just haven\\'t stood the test of time.Anyway, in fairness to Mr. Malkmus, let\\'s stop with the \"when are you going to do a Pavement reunion\" questions. It\\'s time to dispense with the \"Indie rock\" label.  Malkmus & Co. have successfully picked up where some of the great 60s and 70s bands left off, and along with Wilco, Beck, some other jam bands, not to mention the so called \"freak folk\" (Vetiver, Devendra Banhart, etc.) crowd, they\\'re bringing the best of these influences to a new generation.For those of us who grew up listening to the Grateful Dead, Deep Purple, Yes, Roxy Music, Frank Zappa, The Beatles and George Harrison, it\\'s great to have younger musicians like Mr. Malkmus nearly seamleassly blend all these influences. Prog, Jams and Classic Rock Reinvented',\n",
       " 'Very rarely do I ever complain about a band putting out an album that sounds too much like the previous ones.  If you know my history, I am a very easy person to please when it comes to music.  I almost never trash anything unless there is a deep-rooted hatred somewhere.That being said, I was let down by Godsmack\\'s new release, \"Faceless.\"  It just sounds way too similar to the other two albums.  When I was listening to this disk, I was convinced that I had put \"Awake\" in my stereo instead of \"Faceless,\" but no, it was indeed \"Faceless.\"  Is it a good album?  I think it\\'s all right, but that\\'s not a very big compliment coming from me.It\\'s a shame, because I think this band has a lot of potential, but failed to use it all on this album.  Everything sounds the same; the guitars, the song writing, the singing, everything.  They use the same formula and structure that we\\'ve seen on the previous albums.  Now this isn\\'t always a bad thing, but it would\\'ve been nice to see SOME change.  Sadly, there wasn\\'t much that I heard.Songs that I do like are \"make me believe,\" \"faceless,\" \"I stand alone,\" \"re-align,\" \"I ****** hate you,\" and \"serenity.\"  The others are all right, but those are the songs that stick out the most to me.Will Godsmack fans be pleased with this release?  Hard to say.  If you want an album that sounds like the other two, then you will be very pleased.  If you\\'re looking for some change, then you\\'re going to be disappointed.  Is it a good album?  Yeah, it\\'s decent.  But \"decent\" isn\\'t what Godsmack can do.  They\\'re better than this, or at least I think so. Haven\\'t They Already Released This Album???',\n",
       " \"There's a few things the album was missing before it was even released: Tony Yayo (The fourth and final member of G-Unit) and Eminem's superior influence. In the past, 50 Cent and his G-Unit crew have never had problems filling up their CDs (a towering 18 tracks, all songs). However maybe sometimes less is more. Don't get me wrong, &quot;Beg For Mercy&quot; isn't all trash, there are some hidden gems waiting to be found such as &quot;My Buddy&quot;, &quot;G-Unit&quot;, &quot;Salute U&quot;, &quot;Beg For Mercy&quot;, &quot;G'd Up&quot;, &quot;Lay You Down&quot; and &quot;Gangsta S**t&quot; as well as the debut scorcher &quot;Stunt 101&quot; - However is a handful of songs worth paying hard earned money for? Becareful, think again. While there are some hot songs, the amount of fillers overwhelms this album. One might wonder why 50 Cent rips on Ja Rule for crooning to &quot;hoes&quot; about love when 50 himself sings on mostly all the songs, not to mention there being about 5 &quot;Ja-esque&quot; love songs polluting this album. After listening to the CD a few times, I've begun to realize a big problem/difference with what we're all used to is the quality of the beats. No Eminem, hardly any Dr. Dre - the beats are all boring, slow and poorly put together. Either Eminem didn't touch this cause he knew it was gonna suck, or 50 avoided him in an attempt to be different. Either way, they need Shady more than Shady needs them. Lets hope Young Buck (Unit's most outspoken MC) was truthful when he preached &quot;Next time Dre does the whole album!&quot; - That'd be much more wholesome. If you want a good album, pick up Jay-Z's recent &quot;The Black Album&quot; or for some oldschool funk Redman's &quot;Muddy Waters&quot;. G-g-g-g-g-g-garbage! Ain't to proud to &quot;Beg For Mercy&quot;\",\n",
       " 'Lloyd Banks\\' solo debut isn\\'t nearly as good as what people said it was.  I don\\'t understand how G-Unit can diss Ja Rule for singing and then it\\'s aight for 50 and Lloyd Banks to sing on certain songs(which they do).  But I won\\'t say this album is trash, but I don\\'t think it\\'s worth paying for.  \"Ain\\'t No Click\" is I think a tight song, but is repetitive.  \"Playboy\" is just Lloyd showing off so it\\'s basically filler since he really doesn\\'t have anything to show off.  \"If You So Gangsta\" doesn\\'t even compare to 50\\'s \"Wanksta\" or any song of that type.  Lloyd starts the song singing like he\\'s from Nelly\\'s block, using \\'erryday\\' at least once.  \"Warrior Part 2\" could\\'ve been alot more, but it isn\\'t.  Instead, we have Eminem, Lloyd Banks, and 50 Cent spitting disappointing verses and Nate singing a decent hook.  \"Work Magic\" is luckily what brings these crap songs back on track.  The song features Young Buck and the beat is sick.  \"Karma\" is like a part 2 to \"Smile\" but sounds a little too commercial, like something Ja Rule would spit.  \"I Get High\" is a horrible song that I forgot to mention earlier.  The song is boring as hell with no style and no flavor.  Basically 50 Cent SINGS the hook and Snoop drops a cameo verse.  \"Til The End\" is probably the best song on here.  I say that because Lloyd doesn\\'t brag like he does on most of the other songs.  \"When The Chips Are Down\" is a tight song I think, featuring The Game of G-Unit.  The beat sounds like Kanye West, but it isn\\'t.  And the ones I didn\\'t mention were just decent.Basically this album is bad for a few reasons.  One is that Lloyd Banks doesn\\'t sound like he\\'s writing songs, it sounds like they\\'re all freestyles with a chorus in between them.  And this is just a disappointment overall.  I suggest all y\\'all download the good songs I talked about and forget buying the album.  I\\'m hungry for something...and it\\'s a flawless CD. It\\'s A Letdown',\n",
       " \"In a world full of absolutely terrible hip hop nowadays, it is extremely difficult for me to give a new artist a chance. However, with The Game, its different. He's different. His G-Unit days didn't last long, and that was predictable, he didnt' fit in with them at all. He's better off without them, considering every member of G-Unit is not very good, except for Lloyd Banks, who at least has a little bit of talent. Anyways, this album is better than most of the trash out there, but it has its flaws. The Game gets a little repetitive from time to time, and his subject matter gets a little bland as well, especially when he talks about his shoes in like 4 straight tracks. However, there are high points, most notably the production. I knew that this album would be listenable, because its executive produced by Dr. Dre. Dre obviously hasn't fallen off, he lends 5 tracks. Also lending tracks were Kanye West, Cool and Dre, Just Blaze, Buckwild, Havoc from Mobb Deep, Hi-Tek, Timbaland, Needlz, Eminem, and Focus. The Game is a breath of fresh air, in my opinion, and he does remind me of N.W.A. Hopefully, he will improve, as i believe he will, and keep coming out with more albums. He's really working the mixtape circuit right now, but is spending much of that time dissing G-Unit. If you like gangsta rap, then I would recommend getting this. The Game can only get better. I give him credit and respect\",\n",
       " 'Is it just me, or does anyone else feel like this is the kind of stuff Bleek should\\'ve been dropping in the first place? I mean, he\\'s never been all that amazing as far as lyrical skills are concerned, but this album is easily his most well rounded. Beats, rhymes, and flow -- it\\'s all there this time around. The production is on point. Joints like \"Get Low\", \"Like That\", and \"Oh Baby\" are all sure to keep heads nodding. \"Dear Summer\" is a pretty good joint which features some decent work from Jay Z. Jay has slipped lyrically, but he still manages to do a decent job here. Also, 9th Wonder laces Bleek with a killer beat on \"Alright\" (hurry up with that new Little Brother album, dammit!). In my mind, this is the best song on the album because Bleek is actually saying something and the beat is dope (his verse on Dear Summer is suspect). Also, \"Straight Path\" is pretty tight and Bleek comes through on the lyrical side again.There are a few cuts on the album that should\\'ve been sent straight to the trash bin. \"Infatuated\" and \"The One\" are sort of generic and they have a \"been there done that\" feel to them. \"Smoke The Pain Away\" is the obligatory \"weed\" song. It\\'s decent, but it suffers from a suspect hook. \"All About Me\" is pretty boring and \"Hater Free\" is straight up wack.With all things considered, this is a solid release from Bleek. It\\'s not neccesarily out of this world, but you won\\'t be disappointed that you bought it either. It\\'s worth checking out. I\\'d also reccomend picking up Beanie\\'s new joint. And look out for the Young Gunz too.Standout Tracks: Alright (My Favorite), Oh Baby feat. Young Gunz, Like That, Get Low, Dear Summer, First Last & Only feat. M.O.P., Straight Path, and 534 It\\'s About Time (3.5 Stars)',\n",
       " 'FIRST OFF, PRODIGYS FLOW IS GETTING WORSE TO ME2ND, WHY IS 50 ON 1/2 THE DAMN SONGS? WHY CANT HE LET HIS PEOPLE SHINE? HE MUST BE ON THE SINGLE AND 1/2 THE SONGS. ITS MORE OF HIS CD THAN THEIRS. DAMN.BUT THIS CD IS AWKWARD. ITS LIKE 1/2 OLD MOBB DEEP, 1/2 G-UNIT FORMULA PISS.SMOKE IT - 5/5 (HOT INTRO BUT MOBB DEEP ALWAYS HAD HOT INTROS)PUT EM IN THEIR PLACE - 3/5 (HATE THIS GODDAMN BEATS..NUFF SAID)STOLE SOMETHING FEAT. LLOYD BANKS - 5/5 (HEAT WITH AN ILL BEAT)CREEP FEAT. 50 CENT - 4/5 (HAD TO GET USED TO THE BEAT BUT ITS KINDA NICE)SPEAKING SO FREELY - 5/5 (NICE DEEP SONG)BACKSTAGE PASS - 2/5 (WACK ASS G-UNIT TYPE SONG WITH NO PURPOSE)GIVE IT TO ME FEAT. YOUNG BUCK - 5/5 (LOVE THIS BEAT AND BUCK CAME PROPER)CLICK CLICK FEAT. TONY YAYO - 5/5 (ILL BEAT EVEN THOUGH YAYO IS GARBAGE AND UNORIGINAL, HIS VOICE MATCHED)PEARLY GATES FEAT. 50 CENT - 4/5 (PRODIGYS VERSE IS KINDA OFFENSIVE BUT I LIKE THE BEAT AND SOME OF 50 AND HAVOCS LYRICS)CAPITAL P, CAPITAL H - 5/5 (ILL SONG)DAYDREAMING - 3/5 (GET BORED LISTENING TO THIS ABOUT THEIR DREAMS AS A KID)THE INFAMOUS FEAT. 50 CENT - 3/5 (HATE THIS BEAT BUT ITS LISTENABLE)IN LOVE WITH THE MOULA - 4/5 (WOW WHAT AN ORIGINAL CONCEPT)ITS ALRIGHT FEAT. MARY J BLIGE & 50 CENT - 3/5 (ITS AIGHT)HAVE A PARTY FEAT. NATE DOGG & 50 CENT - 3.5/5 (JUST LIKE THE BEAT AND HOOK OTHERWISE THIS SONG IS TRASH)OUTTA CONTROL REMIX FEAT. 50 CENT - 3/5 (GAME KILLED 50 ON THIS SONG WHEN HE DISSED EM...BOOOOOOOOOOOOOOOOO)MOBB DEEP NEED TO QUIT THIS GANGSTA IMAGE MAKING THESE PANSY ASS SONGS THESE DAYS.IM SUPRISED CORMEGA NOR BIG NOYD AINT ON HERE. I KNOW NAS AND ANY WU-TANG MEMBER WONT BE ON HERE SINCE THEY KNOW G-UNIT IS FULL OF B*ITCHES. Its aight...need to get used to some of these songs.',\n",
       " 'First off this cd is not as bad as you heard...it\\'s a decent effort by one of the greatest to ever do it, in this being his 2008 version of himself. I was ready to write him off myself as a recording artist with some of the TRASH he had released recently, but I can see that if he wants to make a decent product he still has it in him...one of the things that I like about this cd is it\\'s use of \"old school\" elements like something as simple as scratching...a lost element in hip-hop in 2008...lyrically LL can still drop verses clear and concise....of course this album does have some filler and I think one of his biggest mistakes with this album was choosing \"Baby\" as the lead single...that\\'s going to turn-off most \"real\" hip-hop heads who will automatically think \"There goes LL again catering strickly to the ladies\"...well if you know this man\\'s career then you already know that he hasn\\'t made one album without something dedicated to either Love or the Ladies hence his name Ladies Love Cool James...but it\\'s always been his versatility that kept him around for so long anyway....he\\'s a love emcee...a battle emcee....a hardcore emcee...he wears a few different hats...anyway Exit 13 is a good effort by the 2008 version of LL Cool J...He\\'ll never be as good as the 1985 version of himself again anyway so I\\'ll have to get used to this other guy...and if he can continue to improve on this \\'08 version of himself then he\\'ll surpass a 30 year hip-hop recording career easily...something unheard of for the hip-hop game...that remains to be seen...he\\'s a free agent now off of Def Jam...let\\'s see if he can regain that hunger and keep releasing hopefully even better material!My top five are:1.Dear Hip-Hop2.Ringtone Murder3.Old School New School4.Rocking With the G.O.A.T.5.Feel My Heartbeat LL COOL J-(2008 VERSION)',\n",
       " 'Coming off her incredible debut, Finally Woken, Jem looks to continue her streak of easily accessible yet always interesting songs with Down to Earth. Does she succeed?Eh. Yes and no.I like Jem, don\\'t get me wrong. But I think it\\'s obvious she doesn\\'t have very impressive vocal range. However, there are oodles of singers out there who have NO range yet somehow put out songs that sound different and, maybe, sometimes, fresh. Jem has the fresh part down pat, clearly, but different? Not so much. The beats are very different from track to track but her vocals always remain the same.Despite her vocal limitations, Jem manages to provide us with some instantly great tracks, mainly in the form of the title track, Down to Earth, and I Always Knew. Both songs are vintage Jem, reminding you immediately of why you listen to her. Down to Earth features the best lyrics of the CD painting an eerily exact portrait of life and people today. I Always Knew, on the other hand, is the tried and true \"even though I\\'m successful now I won\\'t change\" type of song. While these usually turn my stomach at the mere thought of them, Jem goes about it in a way that isn\\'t preachy.Other noteworthy tracks include Keep On Walking, You Will Make It, Got It Good, and How Would You Like It.The one major plus about Down to Earth is that its a CD you can listen to in its entirety whether you like all the songs or not. So I can sit here and talk all the trash I could possibly dream up (most of which would be untrue since I do enjoy this CD) but I will always give that fact to her because that almost never happens. For better or worse, Down to Earth meets expectations, nothing more. You most likely won\\'t have your mind blown but you will definitely enjoy yourself. You can be happy, but you must believe it (3.5)',\n",
       " 'Slipway Fires is the third CD from the London based group Razorlight; however, it is a work that shows a band still struggling to find its identity.  The songs \"Wire To Wire\" and \"The House\" seem like attempts to channelColdplay and ride their coattails of success, but these songs never rights those loft heights.  In part this is because Johnny Borrell doesn\\'t have the chops of Chris Martin.  Another band whose influence shows up on Slipway Fires is Stray Cats.  While it is moresubtle on \"You And The Rest\", \"North London Trash\" seems like a second rate attempt patterned after \"Stray Cat Strut\".  Finally, \"Tabloid Lover\" sounds like it could have come from Keane\\'s latest CD Perfect Symmetry. Borrell hits the same annoying falsetto tones that Tom Chaplin uses.  As you can tell, Slipway Fires is a CD that lacks cohesion.  That\\'s not to say that there is nothing of merit on the CD.  The single \"Hostage Of Love\" shows promise, and this is not coincidentally a track whereRazorlight doesn\\'t seem to be trying to be someone else.  Another track worthy of mention is \"Burberry Blue Eyes\".  Also, \"Wire To Wire\" and \"North London Trash\" are not bad songs in of themselves, but they just don\\'t seem to fit very well on the same CD. Razorlight has potential, but they must find their true identity if they are going to be a band that can stand on their own.Download this:  Hostage Of Love Identity Crisis Bogs Down Slipway Fires']"
      ]
     },
     "execution_count": 60,
     "metadata": {},
     "output_type": "execute_result"
    }
   ],
   "source": [
    "cat3"
   ]
  },
  {
   "cell_type": "markdown",
   "metadata": {
    "id": "2OmBgHO6mW1d"
   },
   "source": [
    "#### Категория 4"
   ]
  },
  {
   "cell_type": "markdown",
   "metadata": {
    "id": "IKo-V2P-0QeH"
   },
   "source": [
    "В рамках данной категории наблюдаются достаточно интересные вещи. Люди используют \"треш\" с отрицательной полярностью здесь значительно реже, чем раньше. Однако слово все еще используется с отрицательной полярностью.\n",
    "\n",
    "\n",
    "\n",
    "1.   Треш рон-н-ролл - жанр в металле, давший направление эктремальным версиям жанра. Тут можно понимать это как устоявшееся выражение, но можно подумать о том, что это слово дает усиление в названии, то есть, мы понимаем, что треш металл - очень жесткое/тяжелое направление. Это может быть не сильно связано с экспрессивностью, но это достаточно интересное наблюдение, которое отражает тяжесть этой музыки (если мы это будем учитывать, то можем сказать, что слово дает определенную окраску предложению => с некоторой точки зрения в этом контексте тоже экспрессив: rock-n-roll vs hard rock-n-roll vs heavy rok-n-roll vs trash rock-n-roll)\n",
    "\n",
    "    `elvis costello - a far cry from the back-to-basics, amps-up-to-11, trash 'n roll that is in the ascendant.`\n",
    "\n",
    "2.   Экспрессив с положительной полярностью. Достаточно необычное явление. Тут треш используется как оценка деятельности артиста + показать его \"превосходство\" в тяжелом/жестком смысле над другими \n",
    "    \n",
    "    `song from the point of view of a middle-aged white trash father`\n",
    "\n",
    "3.  Говорящий говорит про отрицательную оценку музыке как \"сторонний наблюдатель\" (судья). очень интеерсный пример, показывающий оценку с разных точек зрения.\n",
    "    \n",
    "   ` i've read a lot of the reviews here, that trash this record, seemingly on the non-folky arrangments`\n",
    "\n",
    "4.  Несмотря на то, что изначально предполагается, что тексты в категории 4 будут содеражть слово не с отрицательной полярностью, в реальности проскальзывают такие примеры, где конкретно говорят про мусор в эфире (в данном примере сначала говорится про мусор, а после - про то, как группа этот мусор превосходит). Это очень необчный пример, так как в само слово несет отрицательную полярность, а вот отзыв в целом положителен (мне кажется, это не отменяет факта того, что в категории 4 есть несколько примеров с отрицательной полярностью)\n",
    "\n",
    "    `let's not kid ourselves..., there's a lot of trash saturating the airwaves.`\n",
    "   \n",
    "    ...\n",
    "\n",
    "  `  I believe it\\'ll never change, but as an artist, one should strive to redefine the game... and Outkast does just that!`\n",
    "\n",
    "5.  Названия альбомов также есть"
   ]
  },
  {
   "cell_type": "code",
   "execution_count": 61,
   "metadata": {
    "id": "Gn3m94omlbRJ"
   },
   "outputs": [],
   "source": [
    "cat4 = expressive_df[expressive_df.overall == 4].review_summary.tolist()"
   ]
  },
  {
   "cell_type": "code",
   "execution_count": 62,
   "metadata": {
    "colab": {
     "base_uri": "https://localhost:8080/"
    },
    "id": "LPywMNV7li3e",
    "outputId": "22661f73-ebcf-4b49-a598-67ec94674386"
   },
   "outputs": [
    {
     "data": {
      "text/plain": [
       "[\"Forget the Offspring and Blink 182. There is a band that came way before the both of them, and is well known, almost notoriously for its punk rock anthems and extremely crude humor. I'm of course, talking about NOFX. When I say they're one of the greatest, if not the greatest, punk band of all time, I'm not the only one. This release finds NOFX at their prime, and still proves they can put out kick ... albums without resorting to MTV or radio. In case you're wondering where the title comes from, they get hit with shoes a lot at their concerts (don't ask, I don't know why, either). This is yet another great release from Fat Mike and Co. While short on length, it's not short on good stuff. However, with songs like All Outta Angst, Kill Rock Stars, and Murder the Government, I think either Fat Mike lost it, or he was ... ... at something. Another thing I find interesting is that, this album has almost no ska or jazz or anything outside of punk rock, although it does have the Jimmy Buffet-esque Eat the Meek and some of Hefe's trumpet every now and then. And they actually attempt an instrumental this time, too. It's the track Flossing A Dead Horse. The album's not short on their crude sense of humor, either. Just read the answers to the &quot;10 Questions We'd Never Liked To Be Asked Again&quot; portion of the linear notes and you'll see why. This is one CD that all punk rockers should have in their collection, whether you're a fan of NOFX or not. If you're not a fan of NOFX, I suggest you check out the White Trash album first, before you get this one. As the first song implies, this is the punk rock elite. Keeping punk rock elite\",\n",
       " 'Just like Alice Cooper\\'s album \"Trash\", I also bought \"Hey Stoopid\" in April 2011.  I would like to offer my ratings of all of these songs:1.  \"Hey Stoopid\"...This song has a GREAT meaning for the youngsters who are alcoholics, druggies, or even for those who feel suicidal. I esp. love that ONE line of this song, that says \"SOMETIMES YOUR ANSWERS are HEAVEN SENT\".  Nice INSPIRATIONAL words, which was the SELLING POINT for me. I really LOVE this song.  Ozzy is a featured background vocalist & Slash is one of the featured guitarists.2.  \"Love\\'s A Loaded Gun\"...I love this song very much & I remember when this was a hit single.  It is my 2nd Top favorite.3.  \"Snakebite\"...I like this song.4.  \"Burning Our Bed\"...This song is okay, but it\\'s not my favorite!5.  \"Dangerous Tonight\"...I like this song.6.  \"Might As Well Be On Mars\"...Just like \"Love\\'s A Loaded Gun\", this song is definitely the best, actually it\\'s one of my TOP favorites.  This is an excellent ballad.  This song was also very familiar to me, when I first bought this CD.7.  \"Feed My Frankenstein\"...This song is not my favorite, but it is comical @ times.8.  \"Hurricane Years\"...I like this song.9.  \"Little By Little\"...I like this song.10. \"Die For You\"...I like this song.11. \"Dirty Dreams\"...This song is ANOTHER one of my TOP favorites, that TIES w/ \"Might As Well Be On Mars\", even if these 2 songs are ENTIRELY DIFFERENT from each other. \"Dirty Dreams\" is a  song, that\\'s NOT easily forgotten.12. \"Wind Up Toy\"...A typical Alice Cooper song that\\'s quite WEIRD & not too easily forgotten, either.  It\\'s about a mental institution, which puts me in mind of \"The Ballad of Dwight Fry\", from the \"Love It To Death\" album.  Also \"Steven\" from \"Welcome To My Nightmare\", comes to mind.  It\\'s a pretty good & STRANGE song!This song is definitely recommended & you never can really go wrong w/ music from Alice Cooper. \"Hey Stoopid\".....Alice Cooper.....1991',\n",
       " '\"HEY STOOPID\"REVIEW:After the tremendously successful (but disappointing) album \"Trash,\" Alice gets back on track with the Peter Collins produced \"Hey Stoopid\". Comparitively to his previous effort, this album is certainly heavier and features more of the dark, sarcastic and witty lyrics that everyone has come to expect from Alice. Nearly all the songs on this album are well-written and catchy hard rock tunes. The standout tracks are \"Hey Stoopid,\" \"Love\\'s A Loaded Gun,\" the epic \"Might As Well Be On Mars,\" \"Hurricane Years,\" \"Die For You\" and \"Wind-Up Toy\".MUSICIANS:Slash - Guitars (1)Joe Satriani - Guitars (1,4,7,9,12), Backing Vocals (1)Stef Burns - Guitars (1,2,3,4,5,6,7,8,9,10,12)Steve Vai - Guitars (7)Vinnie Moore - Guitar (8,11)Mick Mars - Guitar (10)Hugh McDonald - Bass (1,2,3,4,5,6,8,9,10,11,12)Nikki Sixx - Bass (7)Mickey Curry - Drums (all tracks)John Webster - Keyboards (1,2,3,4,7,9,10,12), B3 Organ (5)Steve Croes - Synclavier (1,10)Robert Bailey - Keyboards (2,5,6,7,8,10,12)Jai Winding - Keyboards (6)Chris Boardman - String Arrangements (6)Backing Vocals - Ozzy Osbourne (1), Zachary Nevel (1)INTERESTING FACTS:1. Released in July of 1991, \"Hey Stoopid\" would peak at #47 on the Billboard Top 200. Meanwhile, the title track would peak at US #78.2. A cover of the classic Jimi Hendrix song, \"Fire\" was recorded during the making of this album as a possible inclusion but would eventually turn up on the \"Love\\'s A Loaded Gun\" single, as well as \"The Life And Crimes of Alice Cooper\" box set and the compilation album, \"Classicks\".3. Alice was featured in a concert scene, performing \"Feed My Frankenstein,\" in the hit 1991 film, \"Wayne\\'s World\". Later on in the film, while backstage meeting Alice, Wayne and Garth would bow in his presence saying \"We\\'re not worthy, we\\'re not worthy!\"4. Horror Queen (aka Mistress of the Dark) Elvira says the line \"He\\'s such a psycho\" on the recording of the \"Feed My Frankenstein\" track.5. Alice played a series of free concerts (actually mini-concerts) that were performed in various, unexpected places --- from Times Square to atop of record store buildings to public parks. This was dubbed the \"Nightmare On Your Street\" Tour.PACKAGING:\"Hey Stoopid\" is certainly one of the weakest album covers by Alice but the booklet opens up as a poster with all the album\\'s lyrics.APPROX. RUNNING TIME:54 min. and 11 sec.FINAL ANALYSIS:This is no \"Billion Dollar Babies\" but it is an infectiously entertaining album that marked his best effort since 1983\\'s \"Dada\". ****1/2 out of 5. ... Alice Gets Back On Track ...',\n",
       " \"Jason Falkner is one of the torch carriers of the Beatlesian pop ethic crafting clever, sophisticated nuggets in the tradition of Paul Mccartney and Elvis Costello - a far cry from the back-to-basics, amps-up-to-11, trash 'n roll that is in the ascendant. Classically-trained JF left cult combo Jellyfish to go solo. Which he's done with convincing results, not least on Presents: Author Unknown which is a more grown-up, expensive-sounding affair than previous hi-octane workouts Bliss Descending EP, for instance, which has the wonderful They Put Her in the Movies. With his last few records, Jason Falkner is, one senses, trying to bring this kind of pop aesthetic to the mainstream audience (I'd rather listen to him than Bryan Adams, for example). He certainly has all the tools at his disposal to carry it off. Talent seems to ooze from his every pore. His main weak selling point is his self-effacing profile; his records lack the kind of homogeneity that all major-selling albums are expected to have. It's top-of-the-line music but doesn't scream `Choose me!' when you browse through your CDs.Typically with an artist like JF, you immediately try to spot the influences. His is a slick mid-Atlantic sound, not at all like the jangly but shambly Brit indie bands. Highlights include Miracle Medicine and She Goes to Bed but the whole record is pretty good.  The key word here is quality: it gleams with sheer quality - the songwriting, the arranging, the lyrics, the tunes are all quality personified. But trying to find the JF personality or soul in the music is a frustrating endeavour. The beat(les) goes on\",\n",
       " 'By this point, the instrumentalists had gelled into a tight unit, what little looseness may have been found on \"The Real Thing\" is gone, but most importantly, vocalist Mike Patton is clearly integrated into the band and is obviously more comfortable, both with himself and the material I suspect.  The result is stunning-- Patton delivers vocals of endless diversity, everything from straighforward rock singing, screaming, rapping, crooning, and even some of the vocalizations that became much more prevelent on his later work.The material on \"Angel Dust\" moves through a number of moods, and is at its best when its at its most experimental-- take standout track \"RV\", a song from the point of view of a middle-aged white trash father, spoken word vocals alternating with extraorindary singing over a countryish jazz sound, or \"Small and Smaller\", which pulls you in with its grunting bass and brilliant vocalizations and really is the sort of melodrama the band excels at.Admittedly, there is quite a bit of straightforward material, but much of it is of consistently high quality (\"Land of Sunshine\", the haunting \"Midlife Crisis\", \"Everything\\'s Ruined\").  In fact, what little is uninteresting is always saved by either great bass work (\"Kindergarten\"), vocals (\"Caffeine\"), or outside guitar noise (\"Malpractice\").Granted, there\\'s a couple misses-- \"Be Aggressive\", with its cheerleader vocals sounds like a better idea on paper than it is on record and \"Jizzlobber\" is kind of a mess (although still fairly enjoyable), but all in all, this is a great album.  Recommended. Unique and interesting record.',\n",
       " 'For years I sort of had this band written off as a catchy but ultimately kind of dumb funk metal band, as based off hearing lots of \"epic\" and \"we care a lot\" and very little else. But after hearing a bit of Mike Patton\\'s stranger projects Fantomas and Mr Bungle, I realized there must be more there. A bit of research downloading mp3\\'s and looking at reviews led me to this here album, and I\\'m glad it did. I\\'ve read this was a bit of a commercial failure upon release, but while there are a few things that probably alienated people who jumped in after \"epic\" from the last record (the piano based white trash character sketch \"RV\", the weird metal of \"jizzlobber\", etc), most of it\\'s the catchy funk metal I was expecting but more intelligently written and with interesting twists, and I have no idea why it doesn\\'t have a big hit single. \"A Small Victory\" has a memorable melody, with an interesting mix of oriental sounding keyboards and record scratches, and \"Be Aggressive\" is infectious and driving enough that I could picture it being played in football stadiums across the US, if not for the fact that it\\'s an ode to, er, oral gratification. The cheerleaders in the chorus are a genius touch too. While there\\'s still a few numbers that haven\\'t really made much of an impression yet, for the most part this album is a perfect mix of pop sensibilities and sonic adventurism, and it\\'s definitely converted me. sing and rejoice.',\n",
       " \"Let's be honest with ourselves. New Edition mopped the for with New Kids On The Block. They also mop the floor with N'Sync, 98 Degrees and B2K. They revolutionized boy groups so you have to give them their respect. Plus they can sing, these cornball groups nowadays cant. After years they come back with an album that shows you why they were a force to be reckoned with.Hit Me Off and You Dont Have To Worry were good singles that show that NE can hold their own with fast records. But singles like One More Day and Still In Love With You show you that what New Edition excels in: love jams. You would look in vain to find a boy group that would would make songs like One More Day and Still In Love With You but you will find a lot of Bump,Bump,Bumps and cheesetastic trash like I Want It That Way. Shop Around and Hear Me Out are pretty decent slow songs but How Do You Like Your Love Served(despite the corny title)is one of the best slow songs on this album.There are little missteps but not many. Try Again which badly samples Slick Rick's Lick The ----- falls flat. Tighten It Up is not bad but its not a notable track by NE. Other than that the album is very good.New Edition's Home Again is one of the best comeback albums from an R&B; group from years. They still have harmony among the group members and the songs have strong replay value despite a few missteps. Definitely recommended to New Edition fans.Standouts: OH YEAH IT FEELS SO GOOD, HIT ME OFF, YOU DONT HAVE TO WORRY, HEAR ME OUT, SOMETHING ABOUT YOU, HOW DO YOU LIKE YOU LOVE SERVED, ONE MORE DAY, I'M STILL IN LOVE WITH YOU and HOME AGAIN. Welcome Back Home, New Edition\",\n",
       " 'Two people could argue  that Can\\'t Buy A Thrill is and is not a REAL Steely Dan album, and both would be right. Steely Dan as a concept, a way of making music, started onCountdown To Ecstasy. That is, Becker and Fagen writing the songs, calling the shots, and getting the best musicians to play themBut even if Can\\'t By A Thrill is the Steely Mothership just taking off, not in full flight, it really does not matter.\"Do It Again,\" and \"Reelin\\' In The Years\" were the hits, and justly so. Even from the kick of, \"Do It Again,\" the ship was gassed up. A true latin street grit as opposed to a facsimile. The lyrics were beyond protest and opposite of the hippy-dippy left overs of 1972 AM radio-a guy shoots another guy who stole his wallet, gets in way over his head, and is dragged through the street. After this he just loves danger and finds it anywhere he canThis was not Dylan poetic comment or Velvet Underground image making--Steely Dan kicked off their career talking about the dirtbags and shoe sole trash they sing of to this day. Dealing with the worst side of us with complete detachment, and getting it onto Top 40 radio. This just was not done in 1972, but \"Do It Again\" was Steely Dan telling you \"we\\'re not only gonna do it, you\\'re gonna hum along to it.\" In  20 almost 11, we are still humming.Elliot Randal\\'s guitar solo in \"Reelin\\' In The Years\" is the kind of impossible standard Dan meets every time. You\\'ve heard it. But hear the unknown tracks, \"Only A Fool Would Say That,\" more Latin bounce, talks about the absurdity of utopian 60s dreams, implying they were doomed from be-in number Uno.  \"Change Of The Gaurd,\" is perfect pop. Self-contained masterpieces by two young and gifted writers. Just like John And Paul, Don and Walter\\'s deep tracks are better than most artists hits.This music is perfect pop, not jazz rock. That started soon enough, on Countdown. But if you cast aside Can\\'t Buy A Thrill , go back to it--it may be just be a rock and roll album, but rock and roll albums don\\'t get a lot better than this. excellent and a half',\n",
       " \"Pastor Troy has long been an underground legend in the A-Town. Ever since his beef with Master P and the menacing 'No MO Play In GA', Pastor Troy has yet to disappoint.  With his first album 'We Ready, I Declare War', He proved he was the most intriguing new artist to hit the scene with fresh original beats and original lyrics.  His second album and his first major release 'Face Off' was another classic even though it featured only about 8 or so new songs.Pastor Troy returned in 2002 with his album Universal Soldier.  First off this album doesn't compare to any of his previous albums so scrap that idea.  This album is definitely...uhh...different.  Some of the songs do have a commercial appeal to them but that doesn't mean they are plain out wick wick wack. He still has the songs with the ultimate rawness we have come to expect from Troy.  Despite what many think, Are We Cuttin is a tight song...and has Troy kicking a completely different style previously unheard of from him. Timbaland keeps up with the theme of the album.Pastor's rawness is displayed on 'Who, What, When Where?' a sinister track that is hard as bones.  Gangsta. 'If I Wasn't Rappin' features the extremely underated duo UGK and is a fiyah track.  4 My Hustlaz and YOu Can't Pimp Me are tight songs as well as 'Ima Raise Me A Soldier and Undefeated.  NO mo Play IN Ga Pt. 2 is the real gem though.  Sporting a great chorus &quot;I'm rEady I'm ready for war bump Peace, I'm Im ready for war I'm in these streets&quot;...that's crunk right there.But don't be mistaken there is some weak trash on the album such as the horrible Tell Em It's ON as well as the less than stellar Chug A Lug.  And When He Comes and If They Kill Me are both wack.This is a nice album from Pastor Troy.  He expands his fanbase on certain songs and on others he gets too experimental and loses focus.  But the album is still a blast to listen to and I would recommend it to you. I'm Ready For War, I'm In These Streets\",\n",
       " 'Let\\'s face it! Everyone knows Hip-Hop is in a dire state of emergency.  Just ask those who have careered at least 2 albums over the years and they\\'ll admit to having purposely tailored tracks to fit what the industry dictates as \"Hip-Hop\" music.  Let\\'s not kid ourselves..., there\\'s a lot of trash saturating the airwaves. We complain about it all the time!  It\\'s kinda like the old Massa and Slave mentality... \"If you wanna eat, you better do as I say or else!\" and thus we have an industry that controls what gets played and merits an album based on the number of sales rather than its musical content.  I believe it\\'ll never change, but as an artist, one should strive to redefine the game... and Outkast does just that!  Both Big Boi and Dre can be considered two of the most deadliest lyricists in the rap game, and still dress different, sound different... and to them... that\\'s ok!  They dare to be different because they can and because they have to. Otherwise they would not be the Outkast we all know and love.  Speakerboxxx/The Love Below is as different as different can get, so don\\'t expect a Hip-Hop album. This effort proves that Kast is way beyond Hip-Hop, which can get sticky... but so what!  Some will find the project to be a bit \"out there\", while others will really appreciate their creativity and songwriting ability.  Either way, this new release brings nothing we are accustomed to.  Kast once again puts it on the line and has been successful in doing so with every album thus far.  Speakerboxxx/The Love Below only moves ahead of our time... and we only need to catch up. Dare 2 B Different!',\n",
       " \"Once again, another anthology of a band with a long history comes out and inevitably, someone's gotta whine about their favorite song not being included...not to try to trash the current incarnation of the band. I had the pleasure to interview Lawrence Gowan about the current state of the band...and I for one am glad to see the overdramatic theatrics set aside in favor of the business of being a straight-ahead ROCK AND ROLL band. Just ask Journey...there will always be nay-sayers and those who long for what once was and won't be again. As much as I like Dennis DeYoung as a musician, I don't miss songs like Babe or Mr. Roboto...I totally disagree with the reviewer that says the band's music has become cheap. Cyclorama is one of their strongest albums in years and completely bridges the past to the present. They're performing some of the album in concert, and while that may be a brave move to some folks who want to ignore the fact that band is still a very hard-working unit...it's very gratifying for me as a fan to see them make such a move. They're still very much in the public eye and sounding tighter than ever onstage. This double anthology may not include every single track some folks may want, but for the price you're getting a huge volume of music, and most of the songs that aren't there weren't really any of my favorites at all. I have all these tracks on their many albums over the years, and welcome their work for years to come...as for anthologies, this is probably the most complete...and for those complaining that this track or that track aren't included...don't you already have those albums? Not a bad collection at all...\",\n",
       " 'Alice Cooper is just amazing. Think for a minute about all of the musical styles the Coop has gone through, whether it\\'s the 70\\'s guitar rock of the original band, disco with \"Goes to Hell\", new age with \"Special Forces\", hair metal with \"Trash\", nu-metal with \"Brutal Planet\", Alice Cooper\\'s catalog is just amazing. And \"Dirty Diamonds\" incorporates all of those styles and more. There are tunes on \"Diamonds\" that you would swear Cooper wrote 30 years ago, the title song \"Dirty Diamonds\" could easily find a place on \"Muscle of Love\". \"Perfect\" sounds like a stripped down song from his \"Zipper Catches Skin\" era, while \"Run Down the Devil\" sounds as though it could have come from the \"Dragontown\" songwriting sessions. I really like the path Cooper started going down with \"The Eyes\" album, and continues following with \"Diamonds\". That\\'s not to say that this is Cooper\\'s best album, there are a few clunkers sprinkled here and there, \"The Ballad of Jesse Jane\" and \"Steal that Car\", but overall the album is everything you could want from Alice and company. And just a quick note; speaking of versatility, Ryan Roxie\\'s guitar work on here is amazing. At times cranking it up to a blistering pace, while on tracks like \"Zombie Dance\" he just plays some great blues riffs, and tones everything down nicely on \"Pretty Ballerina\". I have seen Cooper live on a couple occasions and Roxie\\'s work is just as impressive live. I have listened to this album several times now and keep going back, it really is addictive. Try and Get it Out of Your Head....I Dare ya!',\n",
       " 'I\\'ve like Ice Cube since Amerikkka\\'s Most Wanted and is aware of what he is capable of when he is at his best. I liked Laugh Now Cry Later but that album was far from what Ice Cube can do. This album is more true to what Ice Cube is capable of while not like Amerikkka\\'s Most Wanted, The Predator, Death Certificate and Lethal Injection, its still a notable release that is his best album in recent memory.It Takes A Nation should have been the first track on the album not I Got My Locs On. Gangsta Rap Made Me Do It is a great first single as Cube shows of his lyrical skills while trouncing those who blame the world\\'s problems on gangsta rap.I also like the remix with Nas and Scarface too. He also spreads gems in Why Me feat Musiq, Get Money, Spend Money, No Money, Cold Places, Stand Tall and Hood Mentality. Get Used To It feat WC and The Game is a west coast banger as all three kick it over a laid back funky beat. Jack N The Box is good but the hook needs work. Even with these tracks the album still has its flaws. I Got My Locs On feat Young Jeezy is straight up trash. Do Ya Thing sucks and Ice Cube busts the worst verses of his respectable career on the awful Thank God. Sample: \"He think he the s***/ the s*** think he me/ so come smell mine/I bet it dont stink\". Wow, just wow. Even with these flaws, Raw Footage is still a pretty good release from one of the best things to happen to rap(hint hint Ice Cube). Standouts: GANGSTA RAP MADE ME DO IT(original and remix), HOOD MENTALITY, WHY ME, COLD PLACES, GET MONEY SPEND MONEY NO MONEY, GET USED TO IT, STAND TALL, TOMORROW and IT TAKES A NATION. Raw album',\n",
       " 'Amazon\\'s Vine Program introduced me to Razorlight and \"Slipway Fires\", the band\\'s third album. I did my research before I sat down to right this review. Listened to the album multiple times before formulating an opinion--check. Reading the reviews on the album by other periodicals--check. Reading up on the origin of the band and their previous albums--check.With all this in mind, one thing I did not do was listen to their first two albums. I went into this completely neutral. I have to say I don\\'t understand all the negative press surrounding \"Slipway Fires\". More than half the songs are melodic and memorable. The cd is short and sweet, just like I like them. The first two singles are great--\"Wire To Wire\" is a fine ballad with interesting lyrics delivered in fine passionate form. The second single \"Hostage Of Love\" also catchy and memorable and a change of pace being more uptempo. The third track, \"You And The Rest\" could easily be another single.I see that the band is more popular overseas, in their native U.K., and other parts of Europe, but they are relatively unknown in the U.S. I think if the band received more promotion here they would be more popular. \"Tabloid Lover\", \"North London Trash\", \"60 Thompson\", \"Burberry Blue Eyes\", \"Monster Boots\" and \"The House\" are all great songs. The only weak tracks are \"Stinger\" and \"Blood For Wild Blood\", but hey, no one is perfect.So, the bottom line is this: If you haven\\'t listened to this band, you should do yourself a favor and check them out. If you\\'re a fan, you should give this another chance (assuming you didn\\'t like it compared to the band\\'s first two outings). I give \"Slipway Fires\" four stars because it\\'s enjoyable, memorable and the lyrics and vocals are interesting enough. The band reminds me of Crowded House, another band you ought to check out if you aren\\'t familiar with them. And you ain\\'t bad looking son, she just ain\\'t looking for you.',\n",
       " 'I\\'d never heard of RAZORLIGHT before listening to this album, so my review is not from an experienced fan of their music, much less an Indy Rock fan in general. While I make forays into Indy territory, it\\'s not where I\\'ve made my musical home--it\\'s been more a of a Time Share for me. That said, I really enjoyed this album and it\\'s gotten me interested in trying out RAZORLIGHT\\'s first two albums.SLIPWAY FIRES is melodic, poetic, slickly produced, and at times even rocks out a bit. Songs like \"Tabloid Lover\" have a White Stripes influenced by the Beatles vibe to them (in fact the song would be worth contrasting with \"Paperback Writer\"). Others are quieter, and even have elements of soul coming through the rock feel. \"North London Trash,\" is one such song. \"Wire to Wire,\" the opening single, is a piano ballad anthem with a haunting and beautiful chorus. It\\'s probably my favorite track on the album.Strangely, RAZORLIGHT reminds me most of a band they sound nothing like: Journey. Not because of any musical similarity, but because of the sweeping, poetic, and anthem like song construction. While Journey has started to sound a bit cheese-ball these days, the thing they did best was paint with a broad brush, and RAZORLIGHT has that same ability, even across a diverse variety of musical formats. They also know how to write entertaining lyrics: \"If I had to choose between me and you, I\\'d choose me,\" for example.Filled with short tracks (the longest is 4:34), SLIPWAY FIRES is a very interesting collection of singles. Musical styles are intermixed, but all treated with the same intelligence and balance. \"60 Thompson\" the shortest track at just 2:37, is nicely done; a sort of tribute to 60s ballad music. I, like other reviewers, enjoyed the faster, \\'rockier\\' songs better than the slow burners, but at least there are no self indulgent 7-8 minute long songs, so if you find you\\'re getting tired of a particular song, just wait a minute or two and it will change.4/5 Stars. Slick, Anthematic Rock with a bit of Poetry in the mix',\n",
       " 'Heidi Montag has burst onto the scene as a great new singer of the electronic/dance genre. Her songs are pure fluffy fun tailor-made for the clubs.That said, this album is more of a 3.5 rating.Prior to this album, Heidi released many \"hype\" singles, several of which were 5-star material...and unfortunately, many are missing from this collection.What we do get is a hit-and-miss collection of songs, kicking off with the 5-star-quality \"Look How I\\'m Doing\". Produced and written by one of the biggest in the game and featuring Heidi ON TOP OF IT, the song kicks the album off with a bang!The album gets dodgy inbetween, but back on track by track 5 with another 5-star quality track in \"More Is More.\" My friends and I always play it on the way to the clubs. A CLASSIC. :)\"One More Drink\" is a more midtempo track, but is great. Could see it fitting on Britney\\'s BLACKOUT album. \"My Parade\" is a great marching band/cheerleader type anthem, which Heidi completely works!Rounding out the album are its best tracks: \"Blackout\" and \"I\\'ll Do It\" are what truly steal the show and are easily the album\\'s best tracks. \"Blackout\" recalls frothy beach-ready dance pop at its greatest, while \"I\\'ll Do It\" showcases Heidi at her cooing Playboy bunny best.Overall: \"Turn Ya Head,\" \"Hey Boy\" and \"Twisted\" would have been better off on the cutting floor. 5-star worthy hype singles like \"Body Language.\" the classic \"Overdosin\" and the recent duel-released pair of \"Sex Ed\" and \"Trash Me\" would have made far superior inclusions.Despite the omissions, it was a great debut effort. I can only hope for an incredible followup. :) Pleasant surprise.',\n",
       " 'I only discovered Iron & Wine a few months back, and love \"The Shepherds\\' Dog\", so the first spin of \"Kiss\" really took me aback, but I am really starting to love this record.  At the heart of the album is the beautiful passionate songwriting of Sam Beam, who is one of America\\'s greats in his infant stage.  I think he will amaze us for years to come.I\\'ve read a lot of the reviews here, that trash this record, seemingly on the non-folky arrangments that surround these great songs.  I\\'m sure some of the reviewers will realise their thoughts were a little premature, the more they soak in the sonic variety in this incredible album.  How can you not like funky lyrics like, \"He\\'s an empancipated punkin, he can dance\", or the funky bass-line and even funkier sax solo that accompany the gem \"Me & Lazarus\".  Sam delivers a great vocal performance on this record, annunciating a little more clearly than on earlier records.  This record is more accessible too, and will hopefully garner Iron & Wine a whole legion of new fans.The vinyl sounds great.  Surprisingly, this is not a 180 gram vinyl, and in fact it\\'s a very thin record. That doesn\\'t detract from it\\'s powerful rich sound one bit.  It\\'s about as thin as an 80\\'s vinyl.  I\\'m starting to think this whole 180 gram vinyl thing is a bit gimmicky anyway.  It\\'s the quality of the pressing that really matters, and Ive heard some pretty bad 180 gram pressings, as well as some superb ones. It comes in a gatefold cover which contains the song titles in some indecipherable font, and some digital enlargment of some unknown image, so the gatefold was a bit of a waste IMO.  Thankfully the lyrics, titles and credits are included on a seperate page inside the sleeve.  All that aside, it\\'s the great music that counts anyway, and this album will grow on you in a big way, as all great albums will. Iron & Wine defies expectaion']"
      ]
     },
     "execution_count": 62,
     "metadata": {},
     "output_type": "execute_result"
    }
   ],
   "source": [
    "cat4"
   ]
  },
  {
   "cell_type": "markdown",
   "metadata": {
    "id": "j3ONoOwFmX6l"
   },
   "source": [
    "#### Категория 5"
   ]
  },
  {
   "cell_type": "markdown",
   "metadata": {
    "id": "tjLKunY2MPyr"
   },
   "source": [
    "Интересно, что категория 5 является самой большой по количеству текстов с нашим экспрессивом. В идеале, мы хотели бы ожидать, что полряность слова будет положительной, однако тут есть интересные наблюднеия. \n",
    "\n",
    "\n",
    "\n",
    "*   Есть предложения, где полярность вроде бы отрицательная при том, что категория - положительный отзывов. (мы хотели бы считать, что треш используется в смысле крутой/тяжелый/жесткий в положительном смысле, но есть примеры, где треш = плохой/кошмар)\n",
    "\n",
    "    `This is a nightmare of an album that is absolutely a joy to listen to because of it.It\\'s like, this is the ultimate in excess trash. It\\'s garbage, there\\'s nothing here emotionally or musically. It\\'s all derviative and technically should never have gained any popularity at all.But the fun of the album is the complete trash nature of the album.` (вроде бы слушать удовольствие как раз из-за того, что треш, но это скорее негативная полряность, чем положительная)\n",
    "\n",
    "*   Интересно, что предложения с отрицательной полярностью тут стоят в предложении после отрицания, то есть само предложение приобретает положительный окрас за счет того, что кошмарность отрицается тут.\n",
    "\n",
    "  ` will tell you that none of the songs are horrible trash tracks and that ghost hasn't changed his style one`\n",
    "\n",
    "*   Часто треш - название песен и альбомов (или слова из песен). Кажется, что этой категории тут больше всего (по сравнению с другими категориями). Поэтому часто предложение становится таким, которое не содержит экспрессив. Однако, у нас есть предположение, что в названиях альбомов это тоже стоит не случайно. Тогда мы можем проанализировать такие фрагменты и поймем, что \"trash\" - усиление тяжести: disco-flavored violin trash.\n",
    "\n",
    "\n",
    "Смотря же на предложения с экспрессивами тут, интересно, что в целом тенденция 4 категории повторяется. Люди могут говорить \"это треш и это круто\" / \"я не считаю это таким трешем\", таким образом, понижая негативную экспрессию слова. (однако это мы понимаем из контекста в большей степени, чем из самого слова)."
   ]
  },
  {
   "cell_type": "code",
   "execution_count": 63,
   "metadata": {
    "id": "LtRzNoJnldVK"
   },
   "outputs": [],
   "source": [
    "cat5 = expressive_df[expressive_df.overall == 5].review_summary.tolist()"
   ]
  },
  {
   "cell_type": "code",
   "execution_count": 64,
   "metadata": {
    "colab": {
     "base_uri": "https://localhost:8080/"
    },
    "id": "6S1audislkZn",
    "outputId": "7b5ca9e5-1933-451f-a95b-fd6c1ccdbdb3"
   },
   "outputs": [
    {
     "data": {
      "text/plain": [
       "['This is one of the best power pop albums ever made, with great songs like \"Oldest Story in the World\", \"Inch By Inch\", and of course the classic \"A Million Miles Away\". A little history: in 1976 a band called the Nerves, made up of Peter Case (later of the Plimsouls), Paul Collins (later of the Beat, a.k.a. Paul Collins\\' Beat), and Jack Lee, recorded a 4 song EP. One of the songs was Jack Lee\\'s \"Hanging On The Telephone\", which became famous in 1978 when a cover version by Blondie became a hit. By this time the Nerves had broken up, with the various members each gone their separate ways. Jack Lee released a solo album, \"Greatest Hits Vol. 1\", in 1981 on an obscure label, Maiden America records. Paul Collins\\' band, the Beat, made 2 albums and 1 EP. Peter Case\\'s band, the Plimsouls, made an EP followed by 2 LPs, the best of which is this album, \"Everywhere At Once\". Both Case and Collins had subsequent solo albums, and the Plimsouls reformed for a later album in the late \\'90s, \"Kool Trash\". So there is a wealth of material for fans to track down for their collections. Much of it has never been issued on CD, and some of it is very hard to find. Now for the good news: in 2001 a Spanish label, Penniman Records, reissued the original Nerves 4-song EP, combined with 2 other Nerves studio tracks, on a 10\" vinyl-only collection called \"25th Anniversary\". Only 2000 copies were issued, I don\\'t know if it is still available but if you can find it, I highly recommend it - great stuff. There was also a French reissue in the late \\'80s, now long since out of print, of the same 6 Nerves songs, plus 4 more live tracks. Anyway, I had been searching for those Nerves songs for years before finally finding the Penniman Records release just a few weeks ago. If anyone reading this has been searching for the Nerves like I had been, I hope this helps you find it. Beware, though, of recordings by a different band also called the Nerves, which has made a few albums recently. Check the record label or personnel info carefully. For further collecting, the Paul Collins stuff is still not too hard to find on vinyl, but the Jack Lee album is very rare. For Plimsouls Fans Who Want To Own The Nerves\\' Recordings',\n",
       " 'I give \\'All Eyez on Me\\' a 5 out of 5 for a number of reasons. \\'All Eyez on Me\\' is one of Rap\\'s finest CD\\'s ever made, it sold very, very well and it is by Rap\\'s finest rapper EVER.Known to be his 2nd Deathrow record album, this was Hip-Hop\\'s first double disc album. 2pac was raised in the hard life where nothing really worked out for him. He had no father, he moved from place to place making no childhood friends and his life was a shack. \\'All Eyez on Me\\' pretty much sums up 2pac\\'s life.On \\'All Eyez on Me\\', 2pac released 7 songs from this album. Disc 1 features 6 out of the 7 released songs. Disc 1 starts off with \\'Ambitionz az a Ridah\\', talking about the fast lane. On disc 1, you\\'ll find some of his westside rhymes like \"All Bout U\", \"2 of Amerikaz Most Wanted\", \"California Love\" and \"Heartz of Men\". There are some songs that is powerful enough to make you cry like \"Life Goes On\" and \"I Ain\\'t Mad at Cha\". However 2pac does lack on one song singing about how good sex is on \"What\\'s Ya # Number\". The production for both CD\\'s is excellent and features some pretty good producers like Johnny J, Daz Dillinger and one of Rap\\'s most important producers, Dr. Dre. \"Only God can Judge Me\" pretty much sums up his death and is by far the best song on CD1.Disc 2 is rather different from the first disc. Some songs are heavier, mellower and angrier. \"Shorty Wanna Be a Thug\" explains the meaning of being a gangster whereas \"Can\\'t C Me\" shows 2pac\\'s west side once again. A very excellent track indeed. \"Picture Me Rollin\", 2pac\\'s last single released, is best played in the cars rolling by, \"Rather Be Ya N.I.G.G.A\" is the best song on disc 2 and has a very catchy tune.To sum everything up, \\'All Eyez on Me\\' will always be one of Rap\\'s finest CD\\'s ever made. 2pac wasn\\'t just a person or a rapper. He was a teacher and I thank him for every single message he passed to the world. And if you listen to trash like Ludacris or Nelly, change your taste in Rap. A Living Legend',\n",
       " 'Still holds up 25 years later.Ridgway comes through Austin every year or two, and the songs that always play best are from this record. His solo stuff is good, but this was his masterpiece, an evocative sonic film noir journey through the blue collar nihilism of the American southwest small town trailer trash world.Some hilarious lyrics on this record; I still recall this one all these years later: \"I\\'ve brought the same piece of chicken in a bag to work every day for the last twenty years or so\". And, to a robotic beat: \"I\\'ll do it tomorrow; that seems like a pretty good idea to me.\"It\\'s basically a Ridgway 4-track effort with hypnotically simple drum machine tracks and the band adding some groove.Mexican Radio is far from the best track here, but it sure is a classic.If you\\'re an online bootleg collector, see if you can dig up a live WOV show from Toronto, radio feed, sometime just before this record came out. It\\'s got some of this album and all of the first record, and it\\'s funny and white-boy funky as hell (\"Where\\'s Giddy? I brought my broom!\"). If you find it, look me up and let me know. I always loved it, and the Simple Minds show from the same period. I think they were both at the Concert Hall.In any case, this album is well worth checking out. Totally unique sound and vibe, dark and far off in the desert',\n",
       " \"Ones push it into all-time five star territory. I bought this album when it came out a generation ago,knowing even then that the TITLE TRACK was surely among the most beautiful ballads ever recorded, and an original at that! Now, maybe a little wizened,but surely much more knowledgable of the whole vast history of song recordings, I know this song was no fluke. It is worth the album on it's own.&quot; El Condor&quot; is a nice variation on an old Spanish melody,and holds up nicely too. &quot;Cecilia&quot; is barely above &quot;trash&quot; level, and sounds as bad as ever. At least &quot;Keep the Customer&quot; and &quot;Baby Driver&quot; have a sense of humor, even if they're on the same level as,say,  Hermit's Hermits. &quot;The Boxer&quot; sounds as good as ever,and the story it tells is true as ever,plus shows them doing their best harmonies together. &quot;Only Living Boy&quot; I liked alot back then,though it's charm today surely does not go much past Senior High School,when I first heard it. &quot;Why Don't You Write Me&quot; is in the same goofball league as &quot;Keep..&quot; and &quot;Baby Driver&quot;...&quot;By By Love&quot; strictly for Buddy Holly fans. &quot;So Long Frank Lloyd&quot; must be among the most under-rated gems of the era, a beautiful homage for the architect,where S &amp; G, probably the hottest youth act in the nation in 1970, admit even a great architect can outdo them.&quot;When I run dry,I stop awhile and think of you.&quot;  And the final &quot;Song for the Asking&quot; is a perfect closer...All in all, a monument to song writing,and recording,despite the inclusion of some silly trifles...HOWEVER, BOOKENDS may be better.Buy them both...The rest by this duo is several cuts below these two classics. Some all-time GREATS, plus a few real DUDS..still the great.\",\n",
       " 'I bought this Alice Cooper album in April 2011.  It features many well known, musical guest stars, which make this album, \"TRASH\", one hell of a fantastic piece of Rock & Roll. I would like to offer my review & opinion of each song, as follows:1. \"Poison\"...This song has the word EXCELLENT written all over it. This song was on the Top 40 charts for 10 weeks, reaching #7 in October 1989.  I love this song very much, it\\'s definitely my favorite song incl., here.2. \"Spark In The Dark\"...This song is good, but NOT one of my favorites!3. \"House Of Fire\"...This was a smaller hit from 1990. Another song w/ the word EXCELLENT written all over it.  Joe Perry is a featured guitarist here, which probably explains why the song is so good & also why I love it so much. It is another one of my favorites.  Joan Jett is ONE of the co-writers of this song.4. \"Why Trust You\"...This is a rather comical song & the words make me laugh a lot.  I enjoy this song quite a bit.5. \"Only My Heart Talkin\"...One of the ballads that feature Steven Tyler on additional vocals. It was a smaller hit single from 1990, although I was never too familiar w/ this song.  I rate this song as passable & it\\'s NOT one of my favorites.6. \"Bed Of Nails\"...A smaller hit from 1989, which I do REMEMBER & I really like quite well. I think that this song is rather unique.7. \"This Maniac\\'s In Love With You\"...I guess this WASN\\'T considered as a hit, but this song was very familiar to me, when I FIRST bought this CD.  I like this song a great deal.8. \"Trash\"...Here is the TITLE SONG, which features Jon Bon Jovi on additional vocals.  This song is good, but NOT one of my favorites.9. \"Hell Is Living Without You\"...This song is SLOWER, but I like this one, quite well.10. \"I\\'m Your Gun\"...This song features Kip Winger on additional vocals.  This song is only okay, it\\'s my LEAST favorite song to close out this album.I have read on SOME of Amazon\\'s reviews that this was Alice Cooper\\'s COMEBACK album.  Even if it was HIS comeback album of 1989, I gave this album a 5 star rating. This album is most definitely recommended. Alice Cooper.....1989.....\"Trash\"',\n",
       " \"I am sick of ELO being bashed as the poor man's Beatles, as sappy, as &quot;disco-flavored violin trash,&quot; and as infantile muzak. All of these criticisms are from people who haven't bothered to listen to ELO from beginning to last and who are too obtuse to realize that Jeff Lynne is a musical genius (and no, I don't use that word lightly). Yes, his lyrics are banal, but with this type of music, who on earth cares? The lyrics to &quot;Ob La Di, Ob La Da&quot; are trite too, but with such catchy music, one can overlook the banality of the words.This set might be the definitive set of the three issued ELO compilations. &quot;Xanudu&quot; is still a limping dog of a song, but there are some remastered gems here. ALl of the first 2 discs are pure magic, including ELO's most underrated (and, I think, best) song, &quot;Nightrider.&quot; And how about &quot;Four Little Diamonds&quot; on disc three, where you can Lynne counting down the intro and sounding exactly like Ozzy Osbourne, in their mutual Birmingham accents.The sound quality is excellent and the track order is pleasing. There are no omissions and only a few questionable inclusions, and they all appear on disc three.I bought my first ELO single when I was 10 years old and I never looked back. If you've read this far, you're a fan like me and you will devour this set. Long live this sappy, trite, banal band... I still love 'em forever! Exceptional collection\",\n",
       " 'Warner Bros. figured that lightning could strike twice at a time when oodles of (most horribly bad) funk-metal acts were following in Faith No More and Red Hot Chili Peppers\\'s footsteps. in response, the former recorded and released the bizarro masterpiece Angel Dust. Patton\\'s work in Mr. Bungle proved just how strange and inspired he could get given the opportunity; now, in his more famous act, nothing was ignored. \"Land of Sunshine\" starts things off in a vein similar to The Real Thing, but Patton\\'s vocal role-playing is smarter and more accomplished, with the lyrics trashing a smug bastard with pure inspired mockery. from there, Angel Dust mixes the meta-metal of earlier days with the expected puree of other influences, including a cinematic sense of atmosphere. the album ends with a cover of John Barry\\'s \"Midnight Cowboy,\" which suits the mood perfectly, but the stretched-out, tense moments on \"Caffeine\" and the soaring charge of \"Everything\\'s Ruined\" make for other good examples. even a Kronos Quartet sample crops up on the frazzled sprawl of \"Malpractice.\" other sampling and studio treatments come to the fore throughout, adding quirks like the distorted voices on \"Smaller and Smaller.\" the band\\'s sense of humor crops up frequently -- there\\'s the hilarious portrayal of prepubescent angst on \"Kindergarten,\" made all the more entertaining by the music\\'s straightforward approach, or the beyond-stereotypical white trash cornpone narration of \"RV,\" all while the music breezily swings along. Patton\\'s voice is stronger and downright smooth at many points throughout, the musicians collectively still know their stuff, and the result is twisted entertainment at its finest. great album.',\n",
       " \"Angel Dust is one insanely schizophrenic trip into the warped minds of these five gents. You can analyze it endlessly, but its a work of  undeniable artistic daring (some might say commercial suicide). If you take  it from any point A to any point B it never travels in a straight line. Who  else would put a undeniably frightening song like &quot;Malpractice,&quot;  which is bordering on death metal, on the same platter with the undeniably  hard and funky &quot;Crack Hitler&quot;, travelling straight through  stream-of-consciousness indictment of white trash with &quot;R.V.&quot;,  sidelong with a not-so-subtle plea for oral sex on &quot;Be  Aggressive&quot;, and then end the album with a perfectly faithful  rendition of the theme to &quot;Midnight Cowboy&quot; ?  These guys define  eclectic and then step all over it.The key to this band, and this album,  is &quot;the keys&quot;. Instead of soloing endlessly Roddy Bottum uses his  keyboards to provide minimalist, eerie soundscapes to Patton's nasal  demented ramblings.  On _The Real Thing_ they were almost poppy, here they  are menacing - check out the pipe-organ ending of &quot;Jizzlobber&quot; -  and they set the tone for the album wherever you  look. Patton, by the way,  is the most versatile rock vocalist around. He can pull off anything from  grindcore through doo-wop straight to prog-metal operatic wailings without  batting an eyelash.The only complaint is that guitarist Jim Martin, who  cemented his place in rock and roll history with one of the greatest guitar  solos ever on &quot;Epic&quot;, isn't nearly as effective here as he is on  &quot;The Real Thing&quot;. I can't believe the weak solo on &quot;Crack  Hitler&quot; ever made it close to the masters for this album.  Still, that  doesn't stop this album from being anything short of a masterpiece. Frighteningly gleeful insanity\",\n",
       " 'I mean...an EXPLICT sequel to one of the greatest selling albums of all time. Impossibly long running time, not only over all, but just the entire damn thing. It\\'s almost impalaple on first listen. I Would Do Anything For Love is TWELVE minutes long! (bet you didn\\'t learn that in music class?)And Todd Rundgren only plays guitar he does not arrange... uh oh. Steinman pushes everything to the point of excess every single chance he gets. not once does he ever show one single trace of good taste, as his arrangments are usually very busy, playing not so great melodies over top of meat loaf\\'s technically demanding, but over emoting singing, to lyrics that make 12 year olds blush with their immaturity. The music is a mix of that FIRST album with slight nods to contemporary trends. This is a nightmare of an album that is absolutely a joy to listen to because of it.It\\'s like, this is the ultimate in excess trash. It\\'s garbage, there\\'s nothing here emotionally or musically. It\\'s all derviative and technically should never have gained any popularity at all.But the fun of the album is the complete trash nature of the album. And the fact that everybody knows it is. You can\\'t convince me Steinman was insane enough to take \"wasted youth\" seriously; it\\'s a joke. I believe the man is serious in what he is doing, but he also knows that there is an inherently ridiculously quality not only to his music but to rock and roll in general.So, he pushes everything that is excess to the complete breaking point, breaking it constantly. He probably giggled his way through these sessions. And Meat Loaf no doubt did the same. Oh not to disparage him completely, the man has tons of talent. I mean, there is a lot of stuff going on in every one of these songs, and rarely rarely do they seem tossed together. He carefully crafts these songs, like a broadway tunesmith, hoping you\\'ll all clap along and sing to his merry melodies. Love it, leave it, I don\\'t care. I listen to it about once a year and I still remember the songs. That\\'s all one can ask for in trash entertainment, sometimes. So Stupid.... Steinman Has To Be An Idiot Savant',\n",
       " \"I guess most people have forgotten all about the Thompson Twins in America. However, this band made some very good music. They've since changed their name to Babble and made two cds as Babble--1993's The Stone  and 1996's &quot;Ether&quot;. Both Babble cds were good but sounded a bit  like Enigma. It was Into the Gap that was TT's best cd. I have most of TT's  catalogue and it seems that Into the Gap was their most consistent cd. 9  songs that lyrically were not that deep but musically were grand. Listen to  &quot;Doctor Doctor&quot; or &quot;Hold Me Now&quot; and you will hear how  synth music used to be in the beginning. The Thompson Twins survived the  '80s where most didn't. The reason is Into the Gap. If you listen you find  that it doesn't sound like a one hit wonder band. 16 years later it still  sounds great. Most of the Thompson Twins catalogue is out of print in the  U.S. leaving Into the Gap as most people's only choice. It's a great one  though and perhaps that's why it's still in print here. The other cds that  you can find in some record stores like Side Kicks, Here's To Future Days,  Close to the Bone, Big Trash and Queer by the Thompson Twins all have their  merits. After Into the Gap I would recommend 1991's Queer. Check out both  of the Babble cds as well if you are a hardcore fan. Into the Gap is worth  the money. Into the Oblivion.\",\n",
       " 'I\\'m a recent convert to Clutch.  Yes, I know they have a manic fan base and have been around a long time.  My tastes run all over the place so sometimes a great band does slip through the cracks.  Mastodon was one, Clutch is another.  I picked up two Clutch CD\\'s the other day, and haven\\'t listened enough to \"Pure Rock Fury\" to review it yet.  \"Elephant Riders\" was the other, and both were $7.99, which, considering the quality of the music was a steal.\"Elephant Riders\" doesn\\'t slam quite as hard as some Clutch does, like \"Blast Tyrant\", for example.  But what it does do is create a unique riffing album that somehow recalls the swamp rock of Creedence Clearwater Revival, early Sabbath licks and the extraordinary vocals and lyrics of Neal Fallon.  His lyrics are so good, sometimes wry, sometimes amusing, I\\'d like to see him try his hand at writing a book.  His lyrical imagination knows no bounds, and for the icing on the cake, he possesses a strong bluesy voice that cannot be mistaken for anybody else.  Not to denigrate anybody, but bluntly put, Clutch are not a band for idiots.  They share an intelligence that sometimes goes over the heads of some people who can\\'t see the point of a good story or astute observations with Cheap Trick, another great band that too often was just to smart for their own good.Favorites on this album include the very heavy \"The Soapmakers\", \"Green Buckets\", which talk about looking forward to \"emptying the trash on a Thursday night\", and the closer, \"Dragonfly\", possibly the only heavy song dedicated to the bug world.Clutch are in a universe of their own, and it\\'s nice that they\\'re willing to share it with the rest of us.  They should be huge, but I suppose if that happened, their fan base would find an excuse to ditch them, a fate that most bands suffer with breakout albums.  I can\\'t wait to dig further into their catalog. Quirky but smart and catchy album',\n",
       " '1982/1983 was a great time in music for me, as this was the era of the 2nd British Invasion.  While the first British Invasion of the 60\\'s was sparked by the Beatles, this 2nd British Invasion was lead by MTV and their exposure of British New Wave bands.Along with The Human League and Soft Cell, one of the first bands to benefit was ABC.  I can remember how much I loved the high drama of \"The Look of Love\" when I first heard it on a \"smash it or trash it\" call in radio show in late summer 1982.  When the song went on to become a Top 40 hit, I was thrilled.  The video was quite fun as well, very funny and loaded with sexual inuendo.  What was quite odd about it, was the fact that the song was high drama and the video was like an episode of \"Benny Hill.\"  In early \\'83, the follow up \"Poison Arrow\" also became a Top 40 hit, although the accompanying video was more dramatic.  \"All of my Heart\" and \"Tears are Not Enough\" received airplay on video stations, although the songs failed to make the Top 40.ABC was often referred to as part of the New Romantic movement coming out of England at the time.  Some artists of the era went for a more street urchin look (2 examples are Bananarama before they became glamour models in the late 80\\'s and Dexy\\'s Midnight Runners).  Other\\'s went for the futuristic look (2 examples are A Flock of Seagulls and Missing Persons).  But the New Romantics wore sharp suites, had precision haircuts, and their music was like a marriage between Blue-Eyed Soul and a James Bond score.  The other big artist in the New Romantic vein was Spandau Ballet.  Both ABC and Spandau Ballet had similar sounds and similar looks. But where as the Spand\\'s had trouble following up their breakthrough smash \"True\", ABC went on after this album to have hits with songs like \"Be Near Me\", \"How to be a Millionaire\" and \"When Smokey Sings.\"If you like 80\\'s Brit Pop with strong vocals and high drama, you will love this remastered version of this excellent CD.  It sounds even better today than it did back in the 80\\'s when I had it on cassette. Sophisticated New Romantic 80\\'s Brit Pop at it\\'s Best',\n",
       " 'when i first heard eminem, i thought of him as an average rapper but as he continued to release new songs, i began to grow on him. marshall mathers l.p. is eminem\\'s first and probably last promising and truthful albums. the eminem show was alright but it didn\\'t reach the standards that marshall mathers l.p. received. encore, i hear, is just plain garbage.many have heard the touching stan song, using heavy bass along with an heavenly voice by dido. his lyrics are the best i\\'ve seen with him and i don\\'t think he\\'ll be able to create another song using incredible lyrical talent like that (see the lyrics involving the story about phil collins\\' \\'in the air tonight\\'). other cuts that rock the mic are the way i am, marshall mathers, drug ballad, criminal and i\\'m back. he speaks very much about problems in his life (especially his wife, kim), his daughter, his mother, disrespect towards anyone disrespecting him and death.kim, to me, was too personal to record and shouldn\\'t have been included on the album. the lyrics are way too harsh and immediately paint a picture of exactly what eminem is saying.i\\'m not saying eminem is a bad rapper, i actually have a lot of respect for him for what he went through because he showed the world, especially the black people, that he could rise to the top. but some of the trash he\\'s releasing today by himself and with his group, d-12, gets you wondering, \"is he ever going to release more truthful songs?\". the marshall mathers l.p., to me, is a classic album and should have received a 5 mic in the source magazine. that\\'s how good this album is, according to my calculations. a good start',\n",
       " 'Field Mob burst onto the scene in 2000 with an unforgettable song;  Project Dreams.  Sporting an unforgettable first line \"Rent Thirty days late gotta be gone by Saturday\", Boondox & Kalage commence to drop classic line after classic line in what was one of the great songs of that year.  Spittin the poor man\\'s vision with lines like `Have you ever bathed with soap the size of a cert\" and \"when the trash bags replacing yo car window\" and the chorus to this anthem consisted of \"If you ever been broke put ya hands up\\', they became one of the premier groups to look out for .  Coupled with signature dirty south beats, this crew had unprecedented wit and a sense of humor that made them easily accessible.  Along with that they could tell stories and spit punchlines that raised East Coast cats eyebrows.  Field Mob has the sense of realness that have just recently been getting recognition in the form of Nappy Roots.  They were supposed to be the Nappy Roots of 2000 but it didn\\'t work out right.Anyhow Field Mob can go toe to toe with any group in the game right now.  Songs like Project Dreams, Can\\'t Stop Us, Dead In Your Chevy, and Dimes showcase their immense potential to become giant mega rap stars.  Other songs such as `My Main Roni\\' which is a smooth ode to a girl who constantly does a man wrong, and `Cheatin ON We\\' about when both partners cheat.  Cheatin on We sports a rather unusual storyline with an extremely catchy chorus.  Channel 613 is a tale about The Mob being transported through the Television and visiting different shows.  This is a very creative concept that I had never heard before;  they make references to Scooby Doo, Martin, Cops, The News and other showsI\\'m pretty sure you have heard their new single `Sick Of Being Lonely\\' which is another certified winner for this group.  Their sophomore album drops on Oct. 22nd and I suggest you get that along with this album if you slept on it earlier.  Field Mob is one of the great underground talents to come from Georgia and it would be a shame if they get slept on while other groups such as Nappy Roots, DTP, and Jim Crow garner acclaim and attention.  Get That Field Mob immediately!!!! Can\\'t stop The mob!!',\n",
       " \"Ghostface Killah delivers the goods on this album.  Bulletproof Wallets was released with almost no promotion and I was extremely surprised that I saw it on the store shelf about a month ago.  The first notable slip- up is that the track listing is effed up once again.  The only way to find the real track listing is to look at the cd, but how are you gonna do that when its spinning in your cd player?  This creates problems early on because you wont know what song you are listening to (until you memorize the tracc listing and songs that is).  This cd, contrary to usual Ghostface and Wu-Tang, is easily digestable and easily likeable on first listen.  I believe the production isn't more R&amp;B esque, just smoother production.  This is partly due to the partial absence of the grimey, and dark RZA beats.  This by no means makes the production weaker, it just expands the Wu's fan base and gives them alternate sounds rather than being on dark beats all the time.  Due to the messed up track listing I cant tell ya what songs are good or not but I will tell you that none of the songs are horrible trash tracks and that Ghost hasn't changed his style one bit.  Flowers ( the one song I do know) is a classic and Method Man rips it to shreds.Another plus is that the album isn't a chore to listen to.  Ghost doesn't deliver his usual 50-listens-to-understand-what-I'm-talking about style on every song.  Instead he adds more concept songs and talks about some subjects instead of just random braggadocio and criminology lyrics.  For this reason alone Bulletproof Wallets is a revolutionary Wu-Tang album.  Another addition to these good attributes is that the LP itself is only about 50 minutes tops.  This means it doesn't drag on forever like some Wu releases and it cuts down on the amount of filler in the songs.  To be perfectly honest I like this cd more than the much heralded Ironman debut disc, but not as much as the reviving Supreme Clientele.  To conclude this is one of the best releases for Wu-Tang and of the entire year.  I would suggest you buy this one if you had forgotten about it or was skeptical.  A Must for the year 2001. Ghostface! Ghostface!\",\n",
       " 'It\\'s hard to categorize Houston hip-hop considering how the city\\'s hometown hero, Scarface, reinvents himself with every album. Now Lil\\' Flip adds to the debate by taking on all styles on his Columbia Records debut, Underground Legend.It\\'s impossible to classify Flip\\'s style, since he\\'s continually flipping the script. He comes across like your least-favorite video game villain -- constantly disguising his identity so you can\\'t defeat him. When Flip offers his \"8 Rulez\" to help a future hustler regulate the streets, it seems that he\\'s given us a glimpse of his game. But rule number seven, \"never sell crack where you stay,\" borrows from the Notorious B.I.G.\\'s \"Ten Crack Commandments\" where he warns us to \"never sell crack where you rest at.\" Then Biggie\\'s Brooklyn morphs into Cleveland where Flip and Bizzy Bone assert \"We Ain\\'t Scared\" to those waging war in the backyard or the boardroom. Flip continues to embrace all rap regions when he trades trash talk with New Orleans\\' Juvenile on \"I Can Do Dat\" (where the former Cash Money Millionaire proves that he can still shine without his clique).While Flip drops bombs with hip-hop\\'s finest, he also sets off his Suckafree label\\'s dynasty-in-the-making with such hard-hitting club creations as \"The Way We Ball\" and \"7-1-3\" -- tracks sure to raise the roof off of the Astrodome and the Compaq Center once he arrives home. Still, when all\\'s said and done, Flip\\'s impact isn\\'t based on his thug celebrity, but on the changed man that expresses maturity on \"Make Mama Proud,\" regret on \"I Shoulda Listened,\" and his ability to hold down his homies on \"R.I.P. Screw.\" Undaground Legend',\n",
       " \"I grew up with these guys, buying Rio the week it was released. I was hoping for a great return of my all-time favorite band, after some more recent disappointments. And they did it - they created a modern version of their classic sound, and its fantastic. I mean, I've purchased every DD album within days of its release, and have even come to love 'Lberty' (My Antarctica and Downtown are two of their all-time best songs), but even I was a little worried that this new material just wouldn't hit the mark.The boys do an excellent job of mixing the old vibe with a fresh new sound, and its all Duran Duran. My favorites are 'What Happens Tomorrow' (their next single) and 'Nice'. For those looking for comparisons, I'd have to say its a mix between Big Thing and Pop Trash, but a few times the album seems to bare a close resemblance to the Seven & the Ragged Tiger days (thank you John Taylor). All in all, I really think people are going to like this album.Oh, one other mention. They need to release a live album from this material, because the DVD that comes with the expanded pack illustrates how strong these songs sound live, and with more guitar (welcome back Andy) and less synths (sorry Nick). I also caught them on VH1 - with Andy out sick - and confirmed that the live mix of the new stuff sounds like the songs were written during the same studio sessions as their first couple album. No kidding. During these new sessions, they wrote and recorded 35 new songs together, so I am anxiously awaiting the new material! incredible comeback album\",\n",
       " '\"Astronaut\" is Duran Duran\\'s 11th proper studio album and their first with all five original members since 1983\\'s \"Seven and the Ragged Tiger\". In fact, the original line-up only produced three albums before calling it quits. Their new cd leads one to wonder what could have been had they all stayed together.Duran Duran have been plagued by albums that indulge in experimental excess--2000\\'s \"Pop Trash\" and 1997\\'s \"Medazzaland\", 1990\\'s \"Liberty\" and 1988\\'s \"Big Thing\", but this time around they stick to their formula for success, the formula that worked so well on their best efforts such as 1981\\'s \"Duran Duran\", 1982\\'s \"Rio\" and 1993\\'s \"Duran Duran\". In fact, \"Astronaut\" is a surprising return to form, certainly given how long the original members have been separated.The band kicks things off in pulsating style with the one-two punch of \"(Reach Up For The) Sunrise\" followed by \"Want You More!\" They do not quite achieve the magnificence of those two songs on the remainder of the cd, but they do continue in fine form with \"What Happens Tomorrow\", the humrously kinky \"Bedroom Toys\", the very 80\\'s sounding \"Nice\" and \"Taste The Summer\". This is topped off with a catchy \"Finest Hour\" and \"Chains\" (in which Simon Le Bon\\'s voice reaches new octaves not previously heard!) Finally, the disc ends with two mellow, reflective tracks \"Point Of No Return\" and \"Still Breathing\".Overall, a very consistent and satisfying Duran Duran album, and definitely their best in over a decade. No doubt, Duranies will be pleased, but unfortunately I don\\'t see comeback in the band\\'s future. So fickle are MTV and radio stations in America that the band has no chance of a second comeback like 1993\\'s \"Ordinary World\". It\\'s a shame too, because new generations need to be reminded that there are other things to listen to besides the latest Eminem, Brittany Spears, Celine Dion and Slipknot cds. Botox Generation.',\n",
       " 'I am so happy that these guys are back! After their last album, Pop Trash (which I wasn\\'t too crazy about to say the least), Duran Duran is back and better than ever...now with all 5 original members! With Warren returning to Missing Persons and those other two whats-his-faces away, Duran Duran has filtered out all flaws (excluding one track) and are sounding better than ever!\"(Reach up for the) Sunrise\" is the first track on the album, and will be considered the \"Duran Anthem\" some day. Originally a demo that had never seen the light of an album, Sunrise was taken out of the closet, dusted, and put back in action, now remastered. I really like this song because of it\\'s energetic pace. Not too fast, nor slow.Other honorable mentions include \"One of those days\", \"Point of no return\", \"Want you More!\", and \"What happens tomorrow\", each with its own awesome...awesomeness. \"One of those days\" has its \\'mild\\' feeling, \"Point of No Return\" is a catchy tribute to 9/11 song, \"Want you more!\" has a great beat, plus I can\\'t get that synth out of my mind, and \"What happens tomorrow\" has a slow, peaceful feeling which I enjoy a lot.Overall, this album is great because it brings me back to the \"Seven and the Ragged Tiger\" days because the band sounds better together. Power Station only had, like, one good song, Arcadia was awesome, but it was a flop, and don\\'t even remind me of \"Thank You!\" The only way I can express my gratitude towards Duran Duran for un-breaking up is this:I can\\'t wait to hear the next album. Duran Duran really shines on this one.',\n",
       " \"This young up and comer really surprised me with this album.  After hearing her hit single 'I Should Have Cheated' I was far from sold.  Yes, she had a beautiful voice but the song itself seemed quite amiture...you know, generic...like I had heard it before.  Then I heard 'Love' and I was blown away, not only by the power in her voice but also the power in her words.  The song, while subject wise has been done over and over, still reaches further then others because you can feel that she's been here before and you feel her pain.  Keyshia has a very unique voice, one that is strong yet fragil.  When you hear her sing you can hear her voice breaking as she's straining to hit note beyond her, but rather than coming off sourly it further emphisizes the pain in her words.  It's almost as if she's tearful.  Songs like '(I Just Want It) To Be Over' the brilliant opener or 'I Changed My Mind' which is laced by classic Kanye West show where Keyshia's head is.  SHe's been done wrong, very wrong and she's here to protest.  But she does so with eligance and grace, and even when she's trash talking her ex-boyfriend in 'Guess What?' you know that she's walking away with her pride in tact.  The latter, as well as 'Down and Dirty' and 'Never' are made for the clubs, the latter featuring vocal talents of Eve and sporting a great back beat that makes you just wanna move.  It's songs like 'Love' and 'Thought you had my back, love' though, her ballads of love lost that really shine as highlights to this album, and her ballad 'Superstar' shows a happy ending for this beautifully talented star.  I can't wait to see more of Keyshia in the future! Young beautiful AND talented BEYOND her 21 years\",\n",
       " \"This is the best of the McCartney catalogue in quite some time. I will be playing this quite frequently for years to come. Chaos and Creation in the Backyard is not like those releases you give a 4+ star rating only to, just a few weeks later,leave it up in the shelf collecting dust and never to be listened to, again, within five years.Flaming Pie? Good. Driving Rain? Also good. Flowers in the Dirt? Listened to frequently for about two years. In all honesty, though, the more contemporary releases have not been keeping my attention for the last three years like the all-time greats Band on the Run or Venus and Mars. The previously mentioned releases are good, but do not measure up to the standard of McCartney's early-to-mid-70's work.Chaos and Creation, I think, is a return to basics with a contemporary sound, one that is more vital for McCartney and his artistry than just drawing inspiration and reinterpretations of works from generations ago.The best of the tracks from this release are awesome. Friends to Go is a perfect tribute to the style of his dearly departed friend and former Fab Four bandmate, George Harrison. How Kind of You is a dark tune mixing in bass guitar, piano, electric guitar, and drums in such a way that it signals an approach that Oasis could have taken to maintain its appeal to American audiences without trying to perpetually sound like Neil Young meets the Beatles.All in all, if Top 40 radio had appreciation for songs as they did, years ago, I would say that McCartney would have had at least 4 singles released from this album. A Fine Line, How Kind of You, Too Much Rain, and At the Mercy have a sound that really deserves to be played over the airwaves. But at the moment, I will be using my CD/MP3 player more frequently to listen to, of all things, good music.By comparison, so much else is merely rubbish for the trash bin. That Was Due to Happen at a Quarter to Three in the Main Street\",\n",
       " \"You know, i've been hearing alot of trash talk about Twista and how his new CD isn't as great as it should be,,I hear that it wasn't as hardcore as Adrenaline Rush but at the same time other people complain about how this cd didnt get enough radio time, how can a CD be hardcore AND played on the radio?, no artist can do that... If your a true twista fan you should love this cd, if your a fan of fast rap music you should enjoy this cd, and if your one of those people who enjoy commercialized music, this cd has plenty of tracks for you ,, So Lonely and Girl Tonite are for the radio while tracks like Check That Hoe, Heartbeat, and Holding Down The Game are for the hardcore loving fans...This cd is not even close to disappointment, many good producers made the tracks and Twista of course dishes out fast tung-twisting lyrics..Day After - 4/5 good intro, esp. twista's versecheck that hoe - 4/5 not as good as kill us all but still goodchocolate fe's n redbones - 5/5 awesome track, J.P. got talentget it how you love - 3/5 descent tracklavish - 5/5 best track on cd and perfect for bumpin 2 ur systemgirl tonite - 5/5 great trackdo wrong - 5/5 good trackheartbeat - 5/5 awesome track, great transitionsholding down the game - 5/5 very good trackwhen i get you home - 4/5 descent track, descent beatso lonely - 5/5 awesome track,had to call - 3/5 descent trackout here - 4/5 good trackI'm A Winner - 4/5 very good track, good beatHit The Floor - 5/5 awesome track, awesome beat, awesome lyrics Not A Disappointment\",\n",
       " 'I will begin this review saying that I am 41 year old male. Enough said. I have always appreciated new music imported from \"across the pond\". It generally must be good-well written lyrics, catchy melodies, and great guitars. H.I.M. delivers the goods on this record! Who would have thought a Scandinavian troup could have take up the \"Popular Scepter\" and nearly dominate the scene? I am very satisfied with thier effort!I had the chance to see them last evening at my local theatre. The crowd was a bunch of \"twenty-something\" post metal goths who seemed to know and love all the songs. This is the wave of the future it seems to me. I approve whole-heartedly! I felt this generation had no style or character. H.I.M clearly defines this graceful, romantic and dark style! If they keep this up, I can only see it flourish amidst \"fluffy-pop trash\".Now, onto Dark Light. This album delivers all of the jewels that I come to expect from this new brand of tortured rock anthems! Comparisons will abound, of course. It is difficult to reinvent the genre. This band takes it and stylishly gives it a distictive Northern accent. There is no metal screamers here. Ville Valo\\'s voice is melodic and filled with pain. In a musical age of violent and forgettable bands releasing unsuccessful music. H.I.M. restores a dark beauty not seen in many years.The tracks are clean and catchy. \"Vampire Heart\" is kitschy, yet satisfying. \"Rip Out the Wings of a Butterfly\" is a new goth love anthem that can be a throwback to the Mid 1980s Sisters of Mercy or the Mission U.K. \"Behind the Crimsom Door\" is my personal favorite. Heavy, dark, yet not burdensome. \"Dark Light\" the title track is moody and mysterious. Perhaps this record will show the bigger audience out there this band means business, and \"dark\" doesnt mean \"evil\". By all means-get a copy, go see them live. Unexpectedly Great!',\n",
       " 'I don\\'t usually buy country music, and I don\\'t watch American Idol either.  But a couple of weeks ago I watched the show\\'s finale because I wanted to see if Blake Lewis would win.  Well, Blake wasn\\'t the winner, but I was, because Carrie Underwood sang The Beatles\\' song \"She\\'s Leaving Home\", and I was electrified by her beauty and power.  I wish I had turned on my VCR for that performance.  Anyway, as a result, I am now one of the more than 6 million people who have bought this CD (even though it does not include \"She\\'s Leaving Home\").  And I am thoroughly enjoying it.  The musical arrangements, although country overall, have enough pop elements to keep me happy.  But of course, the main reason I love it is Carrie\\'s voice.  She has a tremendous one and she knows how to use it.  What can she do?  Well, just listen to \"Before He Cheats\", in which she describes how she vengefully ruins the car of the man who crosses her.  (The line about \"...a white trash version of Shania karaoke...\" is priceless!)  Or, \"Jesus, Take The Wheel\", in which she can\\'t handle the situation and desperately needs a miracle.  In \"Don\\'t Forget To Remember Me\" she\\'s a little shaky but determined about being on her own for the first time.  In \"We\\'re Young And Beautiful\", she\\'s loose and sensual, and her voice slides all over the place to prove it, plus there\\'s \"Kiss me like you mean it, like you mean it, like you mean it, like you do!\"  Uh-huh...OK...  \"The Night Before\" reminds me of home, because the girl leaving her love mentions \"I-10, Baton Rouge and LSU\" - familiar turf to me.  I also like her down-home comparison of \"Checotah\" with the glamour of New York and Hollywood.  To sum it up, her voice is so good, she gets 4 stars just for showing up.  But more than that, she makes me see and feel what she is singing about.  That\\'s an accomplishment, and that gift for interpretation earns her the 5th star.In the future I hope Carrie will record an album that is more pop-oriented;  in other words, do a \"crossover\".  Who knows, maybe I\\'ll get to hear her sing \"She\\'s Leaving Home\" again. Like An Angel',\n",
       " \"I've been following Game's career since the beginning. I have never heard a rapper before that continuelly delivers music better and better each time. Every great rapper has had no respect during the beginning of their careers. A lot of people used to talk a lot of smack about Jay Z and now he's great. People jumped Tupac and tried to kill him twice and now he's great. I see the same thing happening to Game. The only difference is his work ethics. Game can do anything with the mic and in front of millions of people without any struggle. He is what you call a true MC. He is not dull, boring, or predictable. He is the only celebirty that reaches out to his fans. He reaches out so much that if I were to see him he would be like one of the homies. I couldn't say that about Nas or Eminem. He says everything the way it should be said. And no one comes close to him when it comes to talking trash. He's put out so much material some of his old raps would sound new to you. He made mixtapes mainstream and won many rap battles. He not only brought back the west coast but set new standards. He motivated every rapper on the west coast to step up their game. This is only the beginning of his career and he has a lot more to prove. I rate this album a classic and thats how it stands.Ric Q #1 Rap Fan Known 2 Man No One Has Done It Better\",\n",
       " 'People, if you haven\\'t bought this album yet, go buy it today.  There is a reason that people love this woman.  Yes, she is unapologetically blunt (when it comes to sex, drugs and everything in between), yes, she dabbles with drugs in real life, and yes, her sound is authentic and DAMN good.  I think I\\'m in love with that voice.  I\\'ll tell you why.....Amy\\'s voice is at once sexy, sensuous, expressive and seductive, and her band is seamless (great horn and percussive section!).  What\\'s more, her lyrics are fantastic and unabashedly honest (at times lewd, yes, and allude to her addiction to blow AKA cocaine).  She is probably best known for \"ReHab,\" \"You Know I\\'m No Good\" and \"Back to Black.\"  I feel like I am back in  1960, listening to soul, and then the expletives come pouring out....but, smooth as silk.  You can\\'t blame the girl for being angry.  I don\\'t know if Amy has just had some tough luck with men, or whether they just take delight in treating her like trash.  At any rate, this woman totally channels the rush of emotions that comes with broken relationships, as well as the rush of drug addiction.  If you want to hear a good example of the broken-ness, I reccomend \"Me & Mr. Jones.\"  (or most of the other tracks!)This woman is amazing.  I just hope (and I say this with sincerity), that she doesn\\'t overdose before her remarkable career truly fluorishes worldwide.  Note:  As I said before, this album is explicit and has references to sex and drugs (quite graphic sex, at times).  Still, this is one of the best soul albums I have heard.  She puts Christina Aguilera and all of those wannabees to shame......Praise the lord, soul has returned! Oh My (insert word here)-ing God!  I am an Amy Winehouse convert.....',\n",
       " 'I have heard R. Kelly at his worse and I have heard him at his best. What is R. Kelly at his best, you may ask. If you really want to know, listen to two classic R&B; albums by him: \"Chocolate Factory\" and this very album I am reviewing, \"Love Letter.\" After listening to these LP\\'s, I guarantee you will be blow away as I was. He is gifted in every sense of the word. He reminds me somewhat of Prince because he writes, produces and arranges his music and he plays instruments. He and Prince have mastered the art of music. They have taken each aspect of it, studied it and mastered each aspect effortlessly.\"Love Letter\" is certainly one of those \"just press play\" records. There is no filler and these are not just songs, they are hits. Worth mentioning is the fact that these songs sound like they could have been included on Kelly\\'s \"Happy People\" LP. The songs just sound a lot like the tracks on that album. \"When a Woman Loves\" was the first song released to radio. It was a fine choice because, if nothing else, Kelly\\'s vocals will command your attention. The lyrics are heartfelt and honest. The lyrics are profound without being esoteric. The chorus says, \"when a woman loves, she loves for real.\" Indeed, R. Kelly, indeed. \"Number One Hit\" is another hit with replay value. What great production, smooth melody and nice lyrics. Undoubtedly, the most special moment on this LP is the last track. The song is called \"You Are Not Alone.\" Kelly had written this song for Michael Jackson and he performs it here. One can\\'t help but to get choked up. Kelly does a fine job with his rendition.Do yourself a favor and add this to your collection. A lot of the music that is out there currently is trash that will not last beyond this season. R. Kelly easily transcends bubblegum pop and brings us real R&B.; *Sigh of relief* At last.Mikeisha\\'s Top 51. \"Number One Hit\"2. \"Just Can\\'t Get Enough\"3. \"You Are Not Alone\"4. \"Love Is\"5. \"Love Letter\" \"Love Letter\" is nothing short of outstanding',\n",
       " 'Originally written off as one hit wonders for the 80s, Duran Duran are consistent in releasing new material that keeps on rocking. Its true, they changed hands over the years, yet Nick Rhodes creative genius and Simon Lebon\\'s familiar vocals have provided its ever loyal fans with a classic album every few years. This latests effort moves into thier fourth decade with grace and familiarity.Yes, a few Ragged Tigers show up. We touch back down on planet Earth. The beaches of Rio are revisted. It is somewhat Notorious. We even renew our Wedding vows in the ordinary world. To the fans who have been here all along, we are rewarded with a richness that few band ever achieve. Its all new material, yet the past glory is given tribute. \"Leave A Light On\" brought me to tears. Yes, the Durans have provided the soundtrack to my life. Indeed, they have become the British musical icon. They are the \"Fab 5\" forever!The record is danceable and sexy. Yes, ladies compose most ot the fanbase. Simon has become the Tom Jones of my generation. Nothing wrong with that, right? Duran Duran are 50% image. Now they are pushing 50 and havent lost the \"Mojo\". It has somehow become more potent. One of the most powerful track is the \"Man Who Stole A Leopard\". Its sort of sums up thier long and illustrious career-doing the impossible. John Taylors baselines are now as distinct as Simon\\'s crooning. This is vintage material.In this world of trite \"pop trash\", \"All you need is Now\" shines like a diamond in the mind! The market/world has changed, yet Duran Duran holds a steady course. It doesnt matter what happens tomorrow...all you need is now! I must go inside Before The Rain. Perhaps the best of all.',\n",
       " 'Around the age of 25 men start to look at their life and start wondering where they stand. Comparisons come with other people of their age and with their parents at that age. Children, work, still studying, it\\'s all different but you can\\'t help comparing. Robin Pecknold is like all of us, realizing in the first line of the new album \"Helplessness Blues\" that his parents already had a kid. He is just back with his girlfriend and finally released the long awaited follow-up to the eponymous debut.The beautiful title track explains a lot of his thinking of his place in the world, as a `cog\\'. A song with questions that everyone has at one point in their life. Who am I and what is that world outside really like. Realization comes in `Lorelai\\': \"so, guess I got old, I was like trash on the sidewalk\". \"Helplessness Blues\" is an album with more questions than clearcut answers, or as Pecknold sings in `Blue Spotted Tail\\': \"Why is life made only for to end?\".Musically the album gives us nothing new. Expanding on the sound of the debut along the lines of all the great westcoast folkies from the 60\\'s and 70\\'s: Byrds, Beach Boys (the opening bars of `Lorelai\\', Neil Young etc. The focus is on his vocals, harmony background vocals and acoustic instruments. While lacking the radio \"hits\" it features some future classics in \"Battery Kinzie\", the title track and \"Someone You\\'d Amire\" which should be able to silence a crowd of 80.000. The sound worked on the first one, it does so again on the second.The real strides have been taken in Pecknold\\'s songwriting. \"Helplessness Blues\" is a much more personal and mature record that for people in the same age group might be at times confronting but also rewarding. So I wasn\\'t alone when I thought those things that spun around in my head.I was still mucking about at university at the age Pecknold and his Fleet Foxes made an impressive second album. Best album of 2011 so far. It\\'s been worth the wait and questions.(from the Wide Eyed Explorer) A Beautiful Quarterlife Crisis']"
      ]
     },
     "execution_count": 64,
     "metadata": {},
     "output_type": "execute_result"
    }
   ],
   "source": [
    "cat5"
   ]
  },
  {
   "cell_type": "markdown",
   "metadata": {
    "id": "UNId7D_hRH7W"
   },
   "source": [
    "### Выводы"
   ]
  },
  {
   "cell_type": "markdown",
   "metadata": {
    "id": "cg8I_ymGRM1c"
   },
   "source": [
    "\n",
    "\n",
    "*   Категории 1-2 содержат экспрессивы с негативной полярностью. Сами комменатрии очень агрессивны, что усиливает экспрессию контекста в целом.\n",
    "\n",
    "*   В категории 3 контексты \"смешанные\". Люди говорят, что что-то треш, но уже либо сравнивают с еще большим трешем на данной площадке, либо говорят, что это может быть и треш, но они считают немного иначе. Комменатрии сами по себе скорее нейтральны, чем агрессивны, но trash скорее негативно поляризовано\n",
    "\n",
    "*  В категориях 4-5 сами контексты стремятся к положительным. Тем не менее люди испольуют наш экспрессив, но его использование немного другое. Значение экспрессива в редких случаях (по-немногу) меняется на позитивную (в некотором смысле) полярность, понимая под значением треша крутые/позитивные вещи, но жесткие, а не ужасные.\n",
    "\n",
    "*  Удивительно и то, что в категории 5 (более положиительной и, как мы ожидаем, более эмоциональной) есть ощущение, что негативной полярности в слове треш больше, как будто люди хотят подчеркнуть то, что музыка трешовая, но, несмотря на это, им нравится. Появляется своеобразный противовес.\n",
    "\n",
    "*  По мере улучшения категорий увеличивается количество названий и текстов песен со словом trash (и непонятно, как от этих выбросв избавиться). Слово может быть использвано в значении \"жесткий/тяжелый\" и в значении \"ужас/кошмар\" (когда говорят про рок/поп, то слово скорее вносит усилительную положительную харакетристику).\n",
    "\n",
    "* Экспрессив также хорошо занимает позицию перед существительными - аттрибутивная позиция (trash father / horrible trash tracks), может быть предикативом (cd is trash), следует за указательными местоимениями this/that (this trash), хорошо показывает экспрессивность в сложных конструкциях, таких как (a piece of trash)  \n",
    "\n",
    "\n",
    "\n",
    "\n",
    "---\n",
    "\n",
    "\n",
    "На основании проанализированных данных интересно проследить за тем, какой экспрессив (на основании примеров, описанных выше):\n",
    "\n",
    "\n",
    "*   Оценка: негативная (когда говорящий с помощью экспрессива дает оценку = мусор/ужас/кошмар), ? положительную (когда говорящий с помощью экспрессива дает оцнеку о тяжести/жесткости/жести в позитивной смысле, но эта вещь крайне сомнительна, однако можно пробовать это учитывать на основе предложений)\n",
    "*   Брань: по отношению к дргугому лицу, например - you're so trash.\n",
    "\n",
    "\n",
    "\n",
    "---\n",
    "\n",
    "\n",
    "Также некоторой ошибкой может быть количество примеров (при большем может измениться расклад). А также тот факт, что, изначально я не учла, что могут быть музыкальные треш-жанры. Возможно, расклад также немного поменяется на другом корпусе. \n",
    "\n",
    "Проблемой может стать то, что корпус несбалансирован по категориям. Если балансировать, результат может чуть-чуть отличаться.\n",
    "\n",
    "Отметить еще хотелось бы, что в некоторых контекстах слово было использовано не совсем в той мере, в которой мне хотелось бы считать слово экспрессивом (названия песен, вырванные из текстов строки про мусор и тд) отражают \"плохость\", но я бы не сказала, что это экспрессив в том смысле, в котором бы хотелось о нем говорить: it's all about trash.\n",
    "\n",
    "Также, углубляясь в это слово, можно было проанализиировать отдельные его вариации с точки зрения морфологии. Здесь я на этом не концентрировалась, но, возможно, для более крупного корпуса это имеет смысл сделать."
   ]
  }
 ],
 "metadata": {
  "colab": {
   "name": "HW_1.ipynb",
   "provenance": [],
   "toc_visible": true
  },
  "kernelspec": {
   "display_name": "Python 3",
   "language": "python",
   "name": "python3"
  },
  "language_info": {
   "codemirror_mode": {
    "name": "ipython",
    "version": 3
   },
   "file_extension": ".py",
   "mimetype": "text/x-python",
   "name": "python",
   "nbconvert_exporter": "python",
   "pygments_lexer": "ipython3",
   "version": "3.6.8"
  },
  "widgets": {
   "application/vnd.jupyter.widget-state+json": {
    "0d7af62b2c1643d8b327bbcd5d6d7664": {
     "model_module": "@jupyter-widgets/controls",
     "model_module_version": "1.5.0",
     "model_name": "HBoxModel",
     "state": {
      "_dom_classes": [],
      "_model_module": "@jupyter-widgets/controls",
      "_model_module_version": "1.5.0",
      "_model_name": "HBoxModel",
      "_view_count": null,
      "_view_module": "@jupyter-widgets/controls",
      "_view_module_version": "1.5.0",
      "_view_name": "HBoxView",
      "box_style": "",
      "children": [
       "IPY_MODEL_a2f6a2ea2a28466e957a22a584f54d8e",
       "IPY_MODEL_7da34bc2eba7462bb4df7713d656c2ab",
       "IPY_MODEL_c3abc339460a4c9db7d039efbd02f397"
      ],
      "layout": "IPY_MODEL_f03bb2d221864194ba830b012f8b659a"
     }
    },
    "21d807d0bd71483784d78bcd4922fd36": {
     "model_module": "@jupyter-widgets/controls",
     "model_module_version": "1.5.0",
     "model_name": "ProgressStyleModel",
     "state": {
      "_model_module": "@jupyter-widgets/controls",
      "_model_module_version": "1.5.0",
      "_model_name": "ProgressStyleModel",
      "_view_count": null,
      "_view_module": "@jupyter-widgets/base",
      "_view_module_version": "1.2.0",
      "_view_name": "StyleView",
      "bar_color": null,
      "description_width": ""
     }
    },
    "7a1f73ac02ec4c5caa5e0deecf497129": {
     "model_module": "@jupyter-widgets/base",
     "model_module_version": "1.2.0",
     "model_name": "LayoutModel",
     "state": {
      "_model_module": "@jupyter-widgets/base",
      "_model_module_version": "1.2.0",
      "_model_name": "LayoutModel",
      "_view_count": null,
      "_view_module": "@jupyter-widgets/base",
      "_view_module_version": "1.2.0",
      "_view_name": "LayoutView",
      "align_content": null,
      "align_items": null,
      "align_self": null,
      "border": null,
      "bottom": null,
      "display": null,
      "flex": null,
      "flex_flow": null,
      "grid_area": null,
      "grid_auto_columns": null,
      "grid_auto_flow": null,
      "grid_auto_rows": null,
      "grid_column": null,
      "grid_gap": null,
      "grid_row": null,
      "grid_template_areas": null,
      "grid_template_columns": null,
      "grid_template_rows": null,
      "height": null,
      "justify_content": null,
      "justify_items": null,
      "left": null,
      "margin": null,
      "max_height": null,
      "max_width": null,
      "min_height": null,
      "min_width": null,
      "object_fit": null,
      "object_position": null,
      "order": null,
      "overflow": null,
      "overflow_x": null,
      "overflow_y": null,
      "padding": null,
      "right": null,
      "top": null,
      "visibility": null,
      "width": null
     }
    },
    "7da34bc2eba7462bb4df7713d656c2ab": {
     "model_module": "@jupyter-widgets/controls",
     "model_module_version": "1.5.0",
     "model_name": "FloatProgressModel",
     "state": {
      "_dom_classes": [],
      "_model_module": "@jupyter-widgets/controls",
      "_model_module_version": "1.5.0",
      "_model_name": "FloatProgressModel",
      "_view_count": null,
      "_view_module": "@jupyter-widgets/controls",
      "_view_module_version": "1.5.0",
      "_view_name": "ProgressView",
      "bar_style": "success",
      "description": "",
      "description_tooltip": null,
      "layout": "IPY_MODEL_7a1f73ac02ec4c5caa5e0deecf497129",
      "max": 64706,
      "min": 0,
      "orientation": "horizontal",
      "style": "IPY_MODEL_21d807d0bd71483784d78bcd4922fd36",
      "value": 64706
     }
    },
    "a01be14786524550840b7eded4a055b2": {
     "model_module": "@jupyter-widgets/controls",
     "model_module_version": "1.5.0",
     "model_name": "DescriptionStyleModel",
     "state": {
      "_model_module": "@jupyter-widgets/controls",
      "_model_module_version": "1.5.0",
      "_model_name": "DescriptionStyleModel",
      "_view_count": null,
      "_view_module": "@jupyter-widgets/base",
      "_view_module_version": "1.2.0",
      "_view_name": "StyleView",
      "description_width": ""
     }
    },
    "a2f6a2ea2a28466e957a22a584f54d8e": {
     "model_module": "@jupyter-widgets/controls",
     "model_module_version": "1.5.0",
     "model_name": "HTMLModel",
     "state": {
      "_dom_classes": [],
      "_model_module": "@jupyter-widgets/controls",
      "_model_module_version": "1.5.0",
      "_model_name": "HTMLModel",
      "_view_count": null,
      "_view_module": "@jupyter-widgets/controls",
      "_view_module_version": "1.5.0",
      "_view_name": "HTMLView",
      "description": "",
      "description_tooltip": null,
      "layout": "IPY_MODEL_d2d6648840c743c9b23da69822acc8e7",
      "placeholder": "​",
      "style": "IPY_MODEL_a01be14786524550840b7eded4a055b2",
      "value": "100%"
     }
    },
    "c3abc339460a4c9db7d039efbd02f397": {
     "model_module": "@jupyter-widgets/controls",
     "model_module_version": "1.5.0",
     "model_name": "HTMLModel",
     "state": {
      "_dom_classes": [],
      "_model_module": "@jupyter-widgets/controls",
      "_model_module_version": "1.5.0",
      "_model_name": "HTMLModel",
      "_view_count": null,
      "_view_module": "@jupyter-widgets/controls",
      "_view_module_version": "1.5.0",
      "_view_name": "HTMLView",
      "description": "",
      "description_tooltip": null,
      "layout": "IPY_MODEL_ceca947aba0847cf97c6f1fb6d46ece7",
      "placeholder": "​",
      "style": "IPY_MODEL_e88a2c82cd2044e884760418a3359d9f",
      "value": " 64706/64706 [02:10&lt;00:00, 783.98it/s]"
     }
    },
    "ceca947aba0847cf97c6f1fb6d46ece7": {
     "model_module": "@jupyter-widgets/base",
     "model_module_version": "1.2.0",
     "model_name": "LayoutModel",
     "state": {
      "_model_module": "@jupyter-widgets/base",
      "_model_module_version": "1.2.0",
      "_model_name": "LayoutModel",
      "_view_count": null,
      "_view_module": "@jupyter-widgets/base",
      "_view_module_version": "1.2.0",
      "_view_name": "LayoutView",
      "align_content": null,
      "align_items": null,
      "align_self": null,
      "border": null,
      "bottom": null,
      "display": null,
      "flex": null,
      "flex_flow": null,
      "grid_area": null,
      "grid_auto_columns": null,
      "grid_auto_flow": null,
      "grid_auto_rows": null,
      "grid_column": null,
      "grid_gap": null,
      "grid_row": null,
      "grid_template_areas": null,
      "grid_template_columns": null,
      "grid_template_rows": null,
      "height": null,
      "justify_content": null,
      "justify_items": null,
      "left": null,
      "margin": null,
      "max_height": null,
      "max_width": null,
      "min_height": null,
      "min_width": null,
      "object_fit": null,
      "object_position": null,
      "order": null,
      "overflow": null,
      "overflow_x": null,
      "overflow_y": null,
      "padding": null,
      "right": null,
      "top": null,
      "visibility": null,
      "width": null
     }
    },
    "d2d6648840c743c9b23da69822acc8e7": {
     "model_module": "@jupyter-widgets/base",
     "model_module_version": "1.2.0",
     "model_name": "LayoutModel",
     "state": {
      "_model_module": "@jupyter-widgets/base",
      "_model_module_version": "1.2.0",
      "_model_name": "LayoutModel",
      "_view_count": null,
      "_view_module": "@jupyter-widgets/base",
      "_view_module_version": "1.2.0",
      "_view_name": "LayoutView",
      "align_content": null,
      "align_items": null,
      "align_self": null,
      "border": null,
      "bottom": null,
      "display": null,
      "flex": null,
      "flex_flow": null,
      "grid_area": null,
      "grid_auto_columns": null,
      "grid_auto_flow": null,
      "grid_auto_rows": null,
      "grid_column": null,
      "grid_gap": null,
      "grid_row": null,
      "grid_template_areas": null,
      "grid_template_columns": null,
      "grid_template_rows": null,
      "height": null,
      "justify_content": null,
      "justify_items": null,
      "left": null,
      "margin": null,
      "max_height": null,
      "max_width": null,
      "min_height": null,
      "min_width": null,
      "object_fit": null,
      "object_position": null,
      "order": null,
      "overflow": null,
      "overflow_x": null,
      "overflow_y": null,
      "padding": null,
      "right": null,
      "top": null,
      "visibility": null,
      "width": null
     }
    },
    "e88a2c82cd2044e884760418a3359d9f": {
     "model_module": "@jupyter-widgets/controls",
     "model_module_version": "1.5.0",
     "model_name": "DescriptionStyleModel",
     "state": {
      "_model_module": "@jupyter-widgets/controls",
      "_model_module_version": "1.5.0",
      "_model_name": "DescriptionStyleModel",
      "_view_count": null,
      "_view_module": "@jupyter-widgets/base",
      "_view_module_version": "1.2.0",
      "_view_name": "StyleView",
      "description_width": ""
     }
    },
    "f03bb2d221864194ba830b012f8b659a": {
     "model_module": "@jupyter-widgets/base",
     "model_module_version": "1.2.0",
     "model_name": "LayoutModel",
     "state": {
      "_model_module": "@jupyter-widgets/base",
      "_model_module_version": "1.2.0",
      "_model_name": "LayoutModel",
      "_view_count": null,
      "_view_module": "@jupyter-widgets/base",
      "_view_module_version": "1.2.0",
      "_view_name": "LayoutView",
      "align_content": null,
      "align_items": null,
      "align_self": null,
      "border": null,
      "bottom": null,
      "display": null,
      "flex": null,
      "flex_flow": null,
      "grid_area": null,
      "grid_auto_columns": null,
      "grid_auto_flow": null,
      "grid_auto_rows": null,
      "grid_column": null,
      "grid_gap": null,
      "grid_row": null,
      "grid_template_areas": null,
      "grid_template_columns": null,
      "grid_template_rows": null,
      "height": null,
      "justify_content": null,
      "justify_items": null,
      "left": null,
      "margin": null,
      "max_height": null,
      "max_width": null,
      "min_height": null,
      "min_width": null,
      "object_fit": null,
      "object_position": null,
      "order": null,
      "overflow": null,
      "overflow_x": null,
      "overflow_y": null,
      "padding": null,
      "right": null,
      "top": null,
      "visibility": null,
      "width": null
     }
    }
   }
  }
 },
 "nbformat": 4,
 "nbformat_minor": 1
}
